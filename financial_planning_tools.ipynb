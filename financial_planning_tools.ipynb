{
 "cells": [
  {
   "cell_type": "markdown",
   "metadata": {},
   "source": [
    "# Financial Planning with APIs and Simulations\n",
    "\n",
    "In this Challenge, you’ll create two financial analysis tools by using a single Jupyter notebook:\n",
    "\n",
    "Part 1: A financial planner for emergencies. The members will be able to use this tool to visualize their current savings. The members can then determine if they have enough reserves for an emergency fund.\n",
    "\n",
    "Part 2: A financial planner for retirement. This tool will forecast the performance of their retirement portfolio in 30 years. To do this, the tool will make an Alpaca API call via the Alpaca SDK to get historical price data for use in Monte Carlo simulations.\n",
    "\n",
    "You’ll use the information from the Monte Carlo simulation to answer questions about the portfolio in your Jupyter notebook.\n",
    "\n"
   ]
  },
  {
   "cell_type": "code",
   "execution_count": 1,
   "metadata": {},
   "outputs": [],
   "source": [
    "# Import the required libraries and dependencies\n",
    "import os\n",
    "import requests\n",
    "import json\n",
    "import pandas as pd\n",
    "from dotenv import load_dotenv\n",
    "import alpaca_trade_api as tradeapi\n",
    "from MCForecastTools import MCSimulation\n",
    "\n",
    "import warnings\n",
    "\n",
    "\n",
    "%matplotlib inline"
   ]
  },
  {
   "cell_type": "code",
   "execution_count": 2,
   "metadata": {},
   "outputs": [
    {
     "data": {
      "text/plain": [
       "True"
      ]
     },
     "execution_count": 2,
     "metadata": {},
     "output_type": "execute_result"
    }
   ],
   "source": [
    "#Suppress MC Simulation warnings\n",
    "warnings.simplefilter(action='ignore', category=FutureWarning)\n",
    "warnings.simplefilter(action='ignore', category=pd.errors.PerformanceWarning)\n",
    "\n",
    "\n",
    "# Load the environment variables from the .env file\n",
    "#by calling the load_dotenv function\n",
    "load_dotenv()"
   ]
  },
  {
   "cell_type": "markdown",
   "metadata": {},
   "source": [
    "## Part 1: Create a Financial Planner for Emergencies"
   ]
  },
  {
   "cell_type": "markdown",
   "metadata": {},
   "source": [
    "### Evaluate the Cryptocurrency Wallet by Using the Requests Library\n",
    "\n",
    "In this section, you’ll determine the current value of a member’s cryptocurrency wallet. You’ll collect the current prices for the Bitcoin and Ethereum cryptocurrencies by using the Python Requests library. For the prototype, you’ll assume that the member holds the 1.2 Bitcoins (BTC) and 5.3 Ethereum coins (ETH). To do all this, complete the following steps:\n",
    "\n",
    "1. Create a variable named `monthly_income`, and set its value to `12000`.\n",
    "\n",
    "2. Use the Requests library to get the current price (in US dollars) of Bitcoin (BTC) and Ethereum (ETH) by using the API endpoints that the starter code supplies.\n",
    "\n",
    "3. Navigate the JSON response object to access the current price of each coin, and store each in a variable.\n",
    "\n",
    "    > **Hint** Note the specific identifier for each cryptocurrency in the API JSON response. The Bitcoin identifier is `1`, and the Ethereum identifier is `1027`.\n",
    "\n",
    "4. Calculate the value, in US dollars, of the current amount of each cryptocurrency and of the entire cryptocurrency wallet.\n",
    "\n"
   ]
  },
  {
   "cell_type": "code",
   "execution_count": 3,
   "metadata": {},
   "outputs": [],
   "source": [
    "# The current number of coins for each cryptocurrency asset held in the portfolio.\n",
    "btc_coins = 1.2\n",
    "eth_coins = 5.3"
   ]
  },
  {
   "cell_type": "markdown",
   "metadata": {},
   "source": [
    "#### Step 1: Create a variable named `monthly_income`, and set its value to `12000`."
   ]
  },
  {
   "cell_type": "code",
   "execution_count": 4,
   "metadata": {},
   "outputs": [],
   "source": [
    "# The monthly amount for the member's household income\n",
    "# YOUR CODE HERE\n",
    "\n",
    "monthly_income = 12000\n"
   ]
  },
  {
   "cell_type": "markdown",
   "metadata": {},
   "source": [
    "#### Review the endpoint URLs for the API calls to Free Crypto API in order to get the current pricing information for both BTC and ETH."
   ]
  },
  {
   "cell_type": "code",
   "execution_count": 5,
   "metadata": {},
   "outputs": [],
   "source": [
    "# The Free Crypto API Call endpoint URLs for the held cryptocurrency assets\n",
    "btc_url = \"https://api.alternative.me/v2/ticker/Bitcoin/?convert=USD\"\n",
    "eth_url = \"https://api.alternative.me/v2/ticker/Ethereum/?convert=USD\""
   ]
  },
  {
   "cell_type": "markdown",
   "metadata": {},
   "source": [
    "#### Step 2. Use the Requests library to get the current price (in US dollars) of Bitcoin (BTC) and Ethereum (ETH) by using the API endpoints that the starter code supplied."
   ]
  },
  {
   "cell_type": "code",
   "execution_count": 6,
   "metadata": {},
   "outputs": [
    {
     "name": "stdout",
     "output_type": "stream",
     "text": [
      "{\n",
      "    \"data\": {\n",
      "        \"1\": {\n",
      "            \"circulating_supply\": 19344737,\n",
      "            \"id\": 1,\n",
      "            \"last_updated\": 1681354452,\n",
      "            \"max_supply\": 21000000,\n",
      "            \"name\": \"Bitcoin\",\n",
      "            \"quotes\": {\n",
      "                \"USD\": {\n",
      "                    \"market_cap\": 583926948328,\n",
      "                    \"percent_change_1h\": 0.306841987954881,\n",
      "                    \"percent_change_24h\": 0.913176627572154,\n",
      "                    \"percent_change_7d\": 7.04009378416683,\n",
      "                    \"percentage_change_1h\": 0.306841987954881,\n",
      "                    \"percentage_change_24h\": 0.913176627572154,\n",
      "                    \"percentage_change_7d\": 7.04009378416683,\n",
      "                    \"price\": 30182.0,\n",
      "                    \"volume_24h\": 17273257386\n",
      "                }\n",
      "            },\n",
      "            \"rank\": 1,\n",
      "            \"symbol\": \"BTC\",\n",
      "            \"total_supply\": 19344737,\n",
      "            \"website_slug\": \"bitcoin\"\n",
      "        }\n",
      "    },\n",
      "    \"metadata\": {\n",
      "        \"error\": null,\n",
      "        \"num_cryptocurrencies\": 3119,\n",
      "        \"timestamp\": 1681354452\n",
      "    }\n",
      "}\n"
     ]
    }
   ],
   "source": [
    "# Using the Python requests library, make an API call to access the current price of BTC\n",
    "btc_response = requests.get(btc_url).json()\n",
    "\n",
    "# Display the response data\n",
    "print(json.dumps(btc_response, indent=4, sort_keys=True))\n",
    "\n",
    "# Use the json.dumps function to review the response data from the API call\n",
    "# Use the indent and sort_keys parameters to make the response object readable\n",
    "# YOUR CODE HERE\n"
   ]
  },
  {
   "cell_type": "code",
   "execution_count": 7,
   "metadata": {},
   "outputs": [
    {
     "name": "stdout",
     "output_type": "stream",
     "text": [
      "{\n",
      "    \"data\": {\n",
      "        \"1027\": {\n",
      "            \"circulating_supply\": 120437016,\n",
      "            \"id\": 1027,\n",
      "            \"last_updated\": 1681354458,\n",
      "            \"max_supply\": 120437016,\n",
      "            \"name\": \"Ethereum\",\n",
      "            \"quotes\": {\n",
      "                \"USD\": {\n",
      "                    \"market_cap\": 229979602058,\n",
      "                    \"percent_change_1h\": 0.0371111800347702,\n",
      "                    \"percent_change_24h\": 2.50352260042886,\n",
      "                    \"percent_change_7d\": -0.0689873462724858,\n",
      "                    \"percentage_change_1h\": 0.0371111800347702,\n",
      "                    \"percentage_change_24h\": 2.50352260042886,\n",
      "                    \"percentage_change_7d\": -0.0689873462724858,\n",
      "                    \"price\": 1910.02,\n",
      "                    \"volume_24h\": 12745081580\n",
      "                }\n",
      "            },\n",
      "            \"rank\": 2,\n",
      "            \"symbol\": \"ETH\",\n",
      "            \"total_supply\": 120437016,\n",
      "            \"website_slug\": \"ethereum\"\n",
      "        }\n",
      "    },\n",
      "    \"metadata\": {\n",
      "        \"error\": null,\n",
      "        \"num_cryptocurrencies\": 3119,\n",
      "        \"timestamp\": 1681354458\n",
      "    }\n",
      "}\n"
     ]
    }
   ],
   "source": [
    "# Using the Python requests library, make an API call to access the current price ETH\n",
    "eth_response = requests.get(eth_url).json()\n",
    "\n",
    "# Display the response data\n",
    "print(json.dumps(eth_response, indent=4, sort_keys=True))\n",
    "\n",
    "\n",
    "\n",
    "# Use the json.dumps function to review the response data from the API call\n",
    "# Use the indent and sort_keys parameters to make the response object readable\n",
    "# YOUR CODE HERE\n"
   ]
  },
  {
   "cell_type": "markdown",
   "metadata": {},
   "source": [
    "#### Step 3: Navigate the JSON response object to access the current price of each coin, and store each in a variable."
   ]
  },
  {
   "cell_type": "code",
   "execution_count": 8,
   "metadata": {},
   "outputs": [
    {
     "name": "stdout",
     "output_type": "stream",
     "text": [
      "The current price of BTC is $30,182.00\n"
     ]
    }
   ],
   "source": [
    "# Navigate the BTC response object to access the current price of BTC\n",
    "btc_price = btc_response[\"data\"][\"1\"][\"quotes\"][\"USD\"][\"price\"]\n",
    "\n",
    "\n",
    "# Print the current price of BTC\n",
    "print(f\"The current price of BTC is ${btc_price:,.2f}\")\n",
    "# YOUR CODE HERE\n"
   ]
  },
  {
   "cell_type": "code",
   "execution_count": 9,
   "metadata": {},
   "outputs": [
    {
     "name": "stdout",
     "output_type": "stream",
     "text": [
      "The current price of ETH is $1,910.02\n"
     ]
    }
   ],
   "source": [
    "# Navigate the BTC response object to access the current price of ETH\n",
    "\n",
    "eth_price = eth_response[\"data\"][\"1027\"][\"quotes\"][\"USD\"][\"price\"]\n",
    "\n",
    "# Print the current price of ETH\n",
    "print(f\"The current price of ETH is ${eth_price:,.2f}\")\n",
    "# YOUR CODE HERE\n"
   ]
  },
  {
   "cell_type": "markdown",
   "metadata": {},
   "source": [
    "### Step 4: Calculate the value, in US dollars, of the current amount of each cryptocurrency and of the entire cryptocurrency wallet."
   ]
  },
  {
   "cell_type": "code",
   "execution_count": 10,
   "metadata": {},
   "outputs": [
    {
     "name": "stdout",
     "output_type": "stream",
     "text": [
      "The current value of your 1.2 BTC is $36,218.40\n"
     ]
    }
   ],
   "source": [
    "# Compute the current value of the BTC holding \n",
    "btc_value = btc_price * btc_coins \n",
    "\n",
    "\n",
    "# Print current value of your holding in BTC\n",
    "print(f\"The current value of your {btc_coins} BTC is ${btc_value:,.2f}\")\n",
    "\n"
   ]
  },
  {
   "cell_type": "code",
   "execution_count": 11,
   "metadata": {},
   "outputs": [
    {
     "name": "stdout",
     "output_type": "stream",
     "text": [
      "The current value of your 5.3 ETH is $10,123.11\n"
     ]
    }
   ],
   "source": [
    "# Compute the current value of the ETH holding \n",
    "eth_value = eth_price * eth_coins\n",
    "\n",
    "# Print current value of your holding in ETH\n",
    "print(f\"The current value of your {eth_coins} ETH is ${eth_value:,.2f}\")\n",
    "\n",
    "\n"
   ]
  },
  {
   "cell_type": "code",
   "execution_count": 12,
   "metadata": {},
   "outputs": [
    {
     "name": "stdout",
     "output_type": "stream",
     "text": [
      "The total value of your cryptocurrency wallet is $46,341.51\n"
     ]
    }
   ],
   "source": [
    "# Compute the total value of the cryptocurrency wallet\n",
    "# Add the value of the BTC holding to the value of the ETH holding\n",
    "total_crypto_wallet = btc_value + eth_value\n",
    "\n",
    "\n",
    "# Print current cryptocurrency wallet balance\n",
    "print(f\"The total value of your cryptocurrency wallet is ${total_crypto_wallet:,.2f}\")\n",
    "\n"
   ]
  },
  {
   "cell_type": "markdown",
   "metadata": {},
   "source": [
    "### Evaluate the Stock and Bond Holdings by Using the Alpaca SDK\n",
    "\n",
    "In this section, you’ll determine the current value of a member’s stock and bond holdings. You’ll make an API call to Alpaca via the Alpaca SDK to get the current closing prices of the SPDR S&P 500 ETF Trust (ticker: SPY) and of the iShares Core US Aggregate Bond ETF (ticker: AGG). For the prototype, assume that the member holds 110 shares of SPY, which represents the stock portion of their portfolio, and 200 shares of AGG, which represents the bond portion. To do all this, complete the following steps:\n",
    "\n",
    "1. In the `Starter_Code` folder, create an environment file (`.env`) to store the values of your Alpaca API key and Alpaca secret key.\n",
    "\n",
    "2. Set the variables for the Alpaca API and secret keys. Using the Alpaca SDK, create the Alpaca `tradeapi.REST` object. In this object, include the parameters for the Alpaca API key, the secret key, and the version number.\n",
    "\n",
    "3. Set the following parameters for the Alpaca API call:\n",
    "\n",
    "    - `tickers`: Use the tickers for the member’s stock and bond holdings.\n",
    "\n",
    "    - `timeframe`: Use a time frame of one day.\n",
    "\n",
    "    - `start_date` and `end_date`: Use the same date for these parameters, and format them with the date of the previous weekday (or `2020-08-07`). This is because you want the one closing price for the most-recent trading day.\n",
    "\n",
    "4. Get the current closing prices for `SPY` and `AGG` by using the Alpaca `get_bars` function. Format the response as a Pandas DataFrame by including the `df` property at the end of the `get_bars` function.\n",
    "\n",
    "5. Navigating the Alpaca response DataFrame, select the `SPY` and `AGG` closing prices, and store them as variables.\n",
    "\n",
    "6. Calculate the value, in US dollars, of the current amount of shares in each of the stock and bond portions of the portfolio, and print the results.\n"
   ]
  },
  {
   "cell_type": "markdown",
   "metadata": {},
   "source": [
    "#### Review the total number of shares held in both (SPY) and (AGG)."
   ]
  },
  {
   "cell_type": "code",
   "execution_count": 13,
   "metadata": {},
   "outputs": [],
   "source": [
    "# Current amount of shares held in both the stock (SPY) and bond (AGG) portion of the portfolio.\n",
    "spy_shares = 110\n",
    "agg_shares = 200\n"
   ]
  },
  {
   "cell_type": "markdown",
   "metadata": {},
   "source": [
    "#### Step 1: In the `Starter_Code` folder, create an environment file (`.env`) to store the values of your Alpaca API key and Alpaca secret key."
   ]
  },
  {
   "cell_type": "markdown",
   "metadata": {},
   "source": [
    "#### Step 2: Set the variables for the Alpaca API and secret keys. Using the Alpaca SDK, create the Alpaca `tradeapi.REST` object. In this object, include the parameters for the Alpaca API key, the secret key, and the version number."
   ]
  },
  {
   "cell_type": "code",
   "execution_count": 14,
   "metadata": {},
   "outputs": [],
   "source": [
    "# Set the variables for the Alpaca API and secret keys\n",
    "\n",
    "alpaca_api_key = os.getenv(\"ALPACA_API_KEY\")\n",
    "alpaca_secret_key = os.getenv(\"ALPACA_SECRET_KEY\")\n",
    "\n",
    "\n",
    "# Create the Alpaca tradeapi.REST object\n",
    "alpaca = tradeapi.REST(\n",
    "    alpaca_api_key,\n",
    "    alpaca_secret_key,\n",
    "    api_version=\"v2\")\n"
   ]
  },
  {
   "cell_type": "code",
   "execution_count": 15,
   "metadata": {},
   "outputs": [],
   "source": [
    "# Helpful function to get a nicely formatted df from a list of tickers\n",
    "\n",
    "def get_price_df(tickers, start_date, end_date, timeframe):\n",
    "\n",
    "    raw_df = alpaca.get_bars(tickers, timeframe, start=start_date, end=end_date).df\n",
    "    df_dict = {}\n",
    "\n",
    "    for ticker in tickers:\n",
    "        df_dict[ticker] = raw_df[raw_df['symbol']==ticker].drop('symbol', axis=1)\n",
    "\n",
    "\n",
    "    output_df = pd.concat(list(df_dict.values()), axis=1, keys=list(df_dict.keys()))\n",
    "\n",
    "    return output_df\n",
    "\n",
    "    "
   ]
  },
  {
   "cell_type": "markdown",
   "metadata": {},
   "source": [
    "#### Step 3: Set the following parameters for the Alpaca API call:\n",
    "\n",
    "- `tickers`: Use the tickers for the member’s stock and bond holdings.\n",
    "\n",
    "- `timeframe`: Use a time frame of one day.\n",
    "\n",
    "- `start_date` and `end_date`: Use the same date for these parameters, and format them with the date of the previous weekday (or `2020-08-07`). This is because you want the one closing price for the most-recent trading day.\n"
   ]
  },
  {
   "cell_type": "code",
   "execution_count": 16,
   "metadata": {},
   "outputs": [],
   "source": [
    "# Set the tickers for both the bond and stock portion of the portfolio\n",
    "# YOUR CODE HERE\n",
    "\n",
    "tickers = [\"AGG\", \"SPY\"]\n",
    "timeframe = \"1Day\"\n",
    "\n",
    "today = pd.Timestamp.today()\n",
    "\n",
    "if(today.weekday() == 6):\n",
    "    today = today - pd.Timedelta(\"2 days\")\n",
    "elif(today.weekday() == 5):\n",
    "    today = today - pd.Timedelta(\"1 days\")\n",
    "\n",
    "today =  pd.Timestamp(year=today.year, month=today.month, day = today.day, tz=\"America/New_York\")\n",
    "\n",
    "start_date = today.isoformat()\n",
    "\n"
   ]
  },
  {
   "cell_type": "markdown",
   "metadata": {},
   "source": [
    "#### Step 4: Get the current closing prices for `SPY` and `AGG` by using the Alpaca `get_bars` function. Format the response as a Pandas DataFrame by including the `df` property at the end of the `get_bars` function."
   ]
  },
  {
   "cell_type": "code",
   "execution_count": 17,
   "metadata": {},
   "outputs": [
    {
     "data": {
      "text/html": [
       "<div>\n",
       "<style scoped>\n",
       "    .dataframe tbody tr th:only-of-type {\n",
       "        vertical-align: middle;\n",
       "    }\n",
       "\n",
       "    .dataframe tbody tr th {\n",
       "        vertical-align: top;\n",
       "    }\n",
       "\n",
       "    .dataframe thead tr th {\n",
       "        text-align: left;\n",
       "    }\n",
       "\n",
       "    .dataframe thead tr:last-of-type th {\n",
       "        text-align: right;\n",
       "    }\n",
       "</style>\n",
       "<table border=\"1\" class=\"dataframe\">\n",
       "  <thead>\n",
       "    <tr>\n",
       "      <th></th>\n",
       "      <th colspan=\"7\" halign=\"left\">AGG</th>\n",
       "      <th colspan=\"7\" halign=\"left\">SPY</th>\n",
       "    </tr>\n",
       "    <tr>\n",
       "      <th></th>\n",
       "      <th>open</th>\n",
       "      <th>high</th>\n",
       "      <th>low</th>\n",
       "      <th>close</th>\n",
       "      <th>volume</th>\n",
       "      <th>trade_count</th>\n",
       "      <th>vwap</th>\n",
       "      <th>open</th>\n",
       "      <th>high</th>\n",
       "      <th>low</th>\n",
       "      <th>close</th>\n",
       "      <th>volume</th>\n",
       "      <th>trade_count</th>\n",
       "      <th>vwap</th>\n",
       "    </tr>\n",
       "    <tr>\n",
       "      <th>timestamp</th>\n",
       "      <th></th>\n",
       "      <th></th>\n",
       "      <th></th>\n",
       "      <th></th>\n",
       "      <th></th>\n",
       "      <th></th>\n",
       "      <th></th>\n",
       "      <th></th>\n",
       "      <th></th>\n",
       "      <th></th>\n",
       "      <th></th>\n",
       "      <th></th>\n",
       "      <th></th>\n",
       "      <th></th>\n",
       "    </tr>\n",
       "  </thead>\n",
       "  <tbody>\n",
       "    <tr>\n",
       "      <th>2023-04-12 04:00:00+00:00</th>\n",
       "      <td>100.17</td>\n",
       "      <td>100.2</td>\n",
       "      <td>99.62</td>\n",
       "      <td>99.93</td>\n",
       "      <td>6595521</td>\n",
       "      <td>33108</td>\n",
       "      <td>99.88138</td>\n",
       "      <td>411.87</td>\n",
       "      <td>412.17</td>\n",
       "      <td>407.44</td>\n",
       "      <td>408.05</td>\n",
       "      <td>83521383</td>\n",
       "      <td>615302</td>\n",
       "      <td>409.702998</td>\n",
       "    </tr>\n",
       "  </tbody>\n",
       "</table>\n",
       "</div>"
      ],
      "text/plain": [
       "                              AGG                                            \\\n",
       "                             open   high    low  close   volume trade_count   \n",
       "timestamp                                                                     \n",
       "2023-04-12 04:00:00+00:00  100.17  100.2  99.62  99.93  6595521       33108   \n",
       "\n",
       "                                        SPY                                    \\\n",
       "                               vwap    open    high     low   close    volume   \n",
       "timestamp                                                                       \n",
       "2023-04-12 04:00:00+00:00  99.88138  411.87  412.17  407.44  408.05  83521383   \n",
       "\n",
       "                                                   \n",
       "                          trade_count        vwap  \n",
       "timestamp                                          \n",
       "2023-04-12 04:00:00+00:00      615302  409.702998  "
      ]
     },
     "execution_count": 17,
     "metadata": {},
     "output_type": "execute_result"
    }
   ],
   "source": [
    "# Use the Alpaca get_bars function to get current closing prices the portfolio\n",
    "# Be sure to set the `df` property after the function to format the response object as a DataFrame\n",
    "# YOUR CODE HERE\n",
    "\n",
    "# Reorganize the DataFrame\n",
    "# Separate ticker data\n",
    "# YOUR CODE HERE\n",
    "\n",
    "# Concatenate the ticker DataFrames\n",
    "# YOUR CODE HERE\n",
    "\n",
    "\n",
    "price_df = get_price_df(tickers, start_date, start_date, timeframe)\n",
    "# Review the first 5 rows of the Alpaca DataFrame\n",
    "\n",
    "price_df.head()\n",
    "# YOUR CODE HERE\n"
   ]
  },
  {
   "cell_type": "markdown",
   "metadata": {},
   "source": [
    "#### Step 5: Navigating the Alpaca response DataFrame, select the `SPY` and `AGG` closing prices, and store them as variables."
   ]
  },
  {
   "cell_type": "code",
   "execution_count": 18,
   "metadata": {},
   "outputs": [
    {
     "name": "stdout",
     "output_type": "stream",
     "text": [
      "AGG closing price: $99.93\n"
     ]
    }
   ],
   "source": [
    "# Access the closing price for AGG from the Alpaca DataFrame\n",
    "# Converting the value to a floating point number\n",
    "agg_close_price = price_df[\"AGG\"][\"close\"][0]\n",
    "\n",
    "\n",
    "# Print the AGG closing price\n",
    "# YOUR CODE HERE\n",
    "print(f\"AGG closing price: ${agg_close_price:,.2f}\")\n",
    "\n",
    "\n"
   ]
  },
  {
   "cell_type": "code",
   "execution_count": 19,
   "metadata": {},
   "outputs": [
    {
     "name": "stdout",
     "output_type": "stream",
     "text": [
      "SPY closing price: $408.05\n"
     ]
    }
   ],
   "source": [
    "# Access the closing price for SPY from the Alpaca DataFrame\n",
    "# Converting the value to a floating point number\n",
    "spy_close_price = price_df[\"SPY\"][\"close\"][0]\n",
    "\n",
    "# Print the SPY closing price\n",
    "# YOUR CODE HERE\n",
    "\n",
    "print(f\"SPY closing price: ${spy_close_price:,.2f}\")\n",
    "\n"
   ]
  },
  {
   "cell_type": "markdown",
   "metadata": {},
   "source": [
    "#### Step 6: Calculate the value, in US dollars, of the current amount of shares in each of the stock and bond portions of the portfolio, and print the results."
   ]
  },
  {
   "cell_type": "code",
   "execution_count": 20,
   "metadata": {},
   "outputs": [
    {
     "name": "stdout",
     "output_type": "stream",
     "text": [
      "The current value of the AGG holding are $19,986.00\n"
     ]
    }
   ],
   "source": [
    "# Calculate the current value of the bond portion of the portfolio\n",
    "agg_value = agg_close_price * agg_shares\n",
    "# Print the current value of the bond portfolio\n",
    "\n",
    "print(f\"The current value of the AGG holding are ${agg_value:,.2f}\")\n",
    "\n",
    "# YOUR CODE HERE\n"
   ]
  },
  {
   "cell_type": "code",
   "execution_count": 21,
   "metadata": {},
   "outputs": [
    {
     "name": "stdout",
     "output_type": "stream",
     "text": [
      "The current value of the SPY holding are $44,885.50\n"
     ]
    }
   ],
   "source": [
    "# Calculate the current value of the stock portion of the portfolio\n",
    "spy_value = spy_close_price * spy_shares\n",
    "\n",
    "# Print the current value of the stock portfolio\n",
    "\n",
    "print(f\"The current value of the SPY holding are ${spy_value:,.2f}\")\n",
    "\n"
   ]
  },
  {
   "cell_type": "code",
   "execution_count": 22,
   "metadata": {},
   "outputs": [
    {
     "name": "stdout",
     "output_type": "stream",
     "text": [
      "The total value of the stock and bond portion is $64,871.50\n"
     ]
    }
   ],
   "source": [
    "# Calculate the total value of the stock and bond portion of the portfolio\n",
    "total_stocks_bonds = agg_value + spy_value\n",
    "\n",
    "# Print the current balance of the stock and bond portion of the portfolio\n",
    "# YOUR CODE HERE\n",
    "\n",
    "print(f\"The total value of the stock and bond portion is ${total_stocks_bonds:,.2f}\")\n",
    "\n",
    "\n"
   ]
  },
  {
   "cell_type": "code",
   "execution_count": 23,
   "metadata": {},
   "outputs": [
    {
     "name": "stdout",
     "output_type": "stream",
     "text": [
      "The total value of the crypto portfolio is $46,341.51\n",
      "The total value of the stock and bond portfolio is $64,871.50\n",
      "The total value of the entire portfolio is $111,213.01\n"
     ]
    }
   ],
   "source": [
    "# Calculate the total value of the member's entire savings portfolio\n",
    "# Add the value of the cryptocurrency walled to the value of the total stocks and bonds\n",
    "total_portfolio = total_crypto_wallet + total_stocks_bonds\n",
    "\n",
    "# Print current cryptocurrency wallet balance\n",
    "# YOUR CODE HERE\n",
    "print(f\"The total value of the crypto portfolio is ${total_crypto_wallet:,.2f}\")\n",
    "print(f\"The total value of the stock and bond portfolio is ${total_stocks_bonds:,.2f}\")\n",
    "print(f\"The total value of the entire portfolio is ${total_portfolio:,.2f}\")\n",
    "\n"
   ]
  },
  {
   "cell_type": "markdown",
   "metadata": {},
   "source": [
    "### Evaluate the Emergency Fund\n",
    "\n",
    "In this section, you’ll use the valuations for the cryptocurrency wallet and for the stock and bond portions of the portfolio to determine if the credit union member has enough savings to build an emergency fund into their financial plan. To do this, complete the following steps:\n",
    "\n",
    "1. Create a Python list named `savings_data` that has two elements. The first element contains the total value of the cryptocurrency wallet. The second element contains the total value of the stock and bond portions of the portfolio.\n",
    "\n",
    "2. Use the `savings_data` list to create a Pandas DataFrame named `savings_df`, and then display this DataFrame. The function to create the DataFrame should take the following three parameters:\n",
    "\n",
    "    - `savings_data`: Use the list that you just created.\n",
    "\n",
    "    - `columns`: Set this parameter equal to a Python list with a single value called `amount`.\n",
    "\n",
    "    - `index`: Set this parameter equal to a Python list with the values of `crypto` and `stock/bond`.\n",
    "\n",
    "3. Use the `savings_df` DataFrame to plot a pie chart that visualizes the composition of the member’s portfolio. The y-axis of the pie chart uses `amount`. Be sure to add a title.\n",
    "\n",
    "4. Using Python, determine if the current portfolio has enough to create an emergency fund as part of the member’s financial plan. Ideally, an emergency fund should equal to three times the member’s monthly income. To do this, implement the following steps:\n",
    "\n",
    "    1. Create a variable named `emergency_fund_value`, and set it equal to three times the value of the member’s `monthly_income` of $12000. (You set this earlier in Part 1).\n",
    "\n",
    "    2. Create a series of three if statements to determine if the member’s total portfolio is large enough to fund the emergency portfolio:\n",
    "\n",
    "        1. If the total portfolio value is greater than the emergency fund value, display a message congratulating the member for having enough money in this fund.\n",
    "\n",
    "        2. Else if the total portfolio value is equal to the emergency fund value, display a message congratulating the member on reaching this important financial goal.\n",
    "\n",
    "        3. Else the total portfolio is less than the emergency fund value, so display a message showing how many dollars away the member is from reaching the goal. (Subtract the total portfolio value from the emergency fund value.)\n"
   ]
  },
  {
   "cell_type": "markdown",
   "metadata": {},
   "source": [
    "#### Step 1: Create a Python list named `savings_data` that has two elements. The first element contains the total value of the cryptocurrency wallet. The second element contains the total value of the stock and bond portions of the portfolio."
   ]
  },
  {
   "cell_type": "code",
   "execution_count": 24,
   "metadata": {},
   "outputs": [
    {
     "name": "stdout",
     "output_type": "stream",
     "text": [
      "[46341.506, 64871.5]\n"
     ]
    }
   ],
   "source": [
    "# Consolidate financial assets data into a Python list\n",
    "# YOUR CODE HERE\n",
    "\n",
    "savings_data = [total_crypto_wallet, total_stocks_bonds]\n",
    "\n",
    "# Review the Python list savings_data\n",
    "print(savings_data)\n",
    "# YOUR CODE HERE\n",
    "    "
   ]
  },
  {
   "cell_type": "markdown",
   "metadata": {},
   "source": [
    "#### Step 2: Use the `savings_data` list to create a Pandas DataFrame named `savings_df`, and then display this DataFrame. The function to create the DataFrame should take the following three parameters:\n",
    "\n",
    "- `savings_data`: Use the list that you just created.\n",
    "\n",
    "- `columns`: Set this parameter equal to a Python list with a single value called `amount`.\n",
    "\n",
    "- `index`: Set this parameter equal to a Python list with the values of `crypto` and `stock/bond`.\n"
   ]
  },
  {
   "cell_type": "code",
   "execution_count": 25,
   "metadata": {},
   "outputs": [
    {
     "name": "stdout",
     "output_type": "stream",
     "text": [
      "           amount\n",
      "crypto  46341.506\n",
      "stocks  64871.500\n"
     ]
    }
   ],
   "source": [
    "# Create a Pandas DataFrame called savings_df \n",
    "# YOUR CODE HERE\n",
    "\n",
    "savings_df = pd.DataFrame(savings_data, index = [\"crypto\", \"stocks\"], columns = [\"amount\"])\n",
    "\n",
    "# Display the savings_df DataFrame\n",
    "# YOUR CODE HERE\n",
    "print(savings_df)"
   ]
  },
  {
   "cell_type": "markdown",
   "metadata": {},
   "source": [
    "#### Step 3: Use the `savings_df` DataFrame to plot a pie chart that visualizes the composition of the member’s portfolio. The y-axis of the pie chart uses `amount`. Be sure to add a title."
   ]
  },
  {
   "cell_type": "code",
   "execution_count": 26,
   "metadata": {},
   "outputs": [
    {
     "data": {
      "text/plain": [
       "<Axes: title={'center': 'Portfolio Composition'}, ylabel='amount'>"
      ]
     },
     "execution_count": 26,
     "metadata": {},
     "output_type": "execute_result"
    },
    {
     "data": {
      "image/png": "[encoded data removed]",
      "text/plain": [
       "<Figure size 640x480 with 1 Axes>"
      ]
     },
     "metadata": {},
     "output_type": "display_data"
    }
   ],
   "source": [
    "# Plot the total value of the member's portfolio (crypto and stock/bond) in a pie chart\n",
    "\n",
    "savings_df.plot.pie(y=\"amount\", title=\"Portfolio Composition\" ,legend=False)"
   ]
  },
  {
   "cell_type": "markdown",
   "metadata": {},
   "source": [
    "#### Step 4: Using Python, determine if the current portfolio has enough to create an emergency fund as part of the member’s financial plan. Ideally, an emergency fund should equal to three times the member’s monthly income. To do this, implement the following steps:\n",
    "\n",
    "Step 1. Create a variable named `emergency_fund_value`, and set it equal to three times the value of the member’s `monthly_income` of 12000. (You set this earlier in Part 1).\n",
    "\n",
    "Step 2. Create a series of three if statements to determine if the member’s total portfolio is large enough to fund the emergency portfolio:\n",
    "\n",
    "* If the total portfolio value is greater than the emergency fund value, display a message congratulating the member for having enough money in this fund.\n",
    "\n",
    "* Else if the total portfolio value is equal to the emergency fund value, display a message congratulating the member on reaching this important financial goal.\n",
    "\n",
    "* Else the total portfolio is less than the emergency fund value, so display a message showing how many dollars away the member is from reaching the goal. (Subtract the total portfolio value from the emergency fund value.)\n"
   ]
  },
  {
   "cell_type": "markdown",
   "metadata": {},
   "source": [
    "##### Step 4-1: Create a variable named `emergency_fund_value`, and set it equal to three times the value of the member’s `monthly_income` of 12000. (You set this earlier in Part 1)."
   ]
  },
  {
   "cell_type": "code",
   "execution_count": 27,
   "metadata": {},
   "outputs": [
    {
     "name": "stdout",
     "output_type": "stream",
     "text": [
      "Emergency fund value is $36,000.00\n"
     ]
    }
   ],
   "source": [
    "# Create a variable named emergency_fund_value\n",
    "# YOUR CODE HERE\n",
    "\n",
    "emergency_fund_value = 3 * monthly_income\n",
    "print(f\"Emergency fund value is ${emergency_fund_value:,.2f}\")\n"
   ]
  },
  {
   "cell_type": "markdown",
   "metadata": {},
   "source": [
    "##### Step 4-2: Create a series of three if statements to determine if the member’s total portfolio is large enough to fund the emergency portfolio:\n",
    "\n",
    "* If the total portfolio value is greater than the emergency fund value, display a message congratulating the member for having enough money in this fund.\n",
    "\n",
    "* Else if the total portfolio value is equal to the emergency fund value, display a message congratulating the member on reaching this important financial goal.\n",
    "\n",
    "* Else the total portfolio is less than the emergency fund value, so display a message showing how many dollars away the member is from reaching the goal. (Subtract the total portfolio value from the emergency fund value.)"
   ]
  },
  {
   "cell_type": "code",
   "execution_count": 28,
   "metadata": {},
   "outputs": [
    {
     "name": "stdout",
     "output_type": "stream",
     "text": [
      "Congratulations! You have enough money in your emergency fund.\n"
     ]
    }
   ],
   "source": [
    "# Evaluate the possibility of creating an emergency fund with 3 conditions:\n",
    "\n",
    "if(total_portfolio > emergency_fund_value):\n",
    "    print(\"Congratulations! You have enough money in your emergency fund.\")\n",
    "elif(total_portfolio == emergency_fund_value):\n",
    "    print(\"Congratulations on reaching this financial goal!\")\n",
    "else:\n",
    "    print(f\"You are ${abs(emergency_fund_value - total_portfolio):.2f} away from reaching your goal\")\n"
   ]
  },
  {
   "cell_type": "markdown",
   "metadata": {},
   "source": [
    "## Part 2: Create a Financial Planner for Retirement"
   ]
  },
  {
   "cell_type": "markdown",
   "metadata": {},
   "source": [
    "### Create the Monte Carlo Simulation\n",
    "\n",
    "In this section, you’ll use the MCForecastTools library to create a Monte Carlo simulation for the member’s savings portfolio. To do this, complete the following steps:\n",
    "\n",
    "1. Make an API call via the Alpaca SDK to get 3 years of historical closing prices for a traditional 60/40 portfolio split: 60% stocks (SPY) and 40% bonds (AGG).\n",
    "\n",
    "2. Run a Monte Carlo simulation of 500 samples and 30 years for the 60/40 portfolio, and then plot the results.The following image shows the overlay line plot resulting from a simulation with these characteristics. However, because a random number generator is used to run each live Monte Carlo simulation, your image will differ slightly from this exact image:\n",
    "\n",
    "![A screenshot depicts the resulting plot.](Images/5-4-monte-carlo-line-plot.png)\n",
    "\n",
    "3. Plot the probability distribution of the Monte Carlo simulation. Plot the probability distribution of the Monte Carlo simulation. The following image shows the histogram plot resulting from a simulation with these characteristics. However, because a random number generator is used to run each live Monte Carlo simulation, your image will differ slightly from this exact image:\n",
    "\n",
    "![A screenshot depicts the histogram plot.](Images/5-4-monte-carlo-histogram.png)\n",
    "\n",
    "4. Generate the summary statistics for the Monte Carlo simulation.\n",
    "\n"
   ]
  },
  {
   "cell_type": "markdown",
   "metadata": {},
   "source": [
    "#### Step 1: Make an API call via the Alpaca SDK to get 3 years of historical closing prices for a traditional 60/40 portfolio split: 60% stocks (SPY) and 40% bonds (AGG)."
   ]
  },
  {
   "cell_type": "code",
   "execution_count": 29,
   "metadata": {},
   "outputs": [],
   "source": [
    "# YOUR CODE HERE\n",
    "\n",
    "end_date = today.isoformat()\n",
    "start_date = (today - pd.DateOffset(years=3)).isoformat()\n",
    "\n",
    "\n",
    "price_df = get_price_df(tickers, start_date, end_date, timeframe)"
   ]
  },
  {
   "cell_type": "code",
   "execution_count": 30,
   "metadata": {},
   "outputs": [
    {
     "data": {
      "text/plain": [
       "<Axes: title={'center': 'SPY vs AGG returns'}, ylabel='Frequency'>"
      ]
     },
     "execution_count": 30,
     "metadata": {},
     "output_type": "execute_result"
    },
    {
     "data": {
      "image/png": "[encoded data removed]",
      "text/plain": [
       "<Figure size 640x480 with 1 Axes>"
      ]
     },
     "metadata": {},
     "output_type": "display_data"
    }
   ],
   "source": [
    "spy_return_distribution = price_df[\"SPY\"][\"close\"].pct_change().dropna()\n",
    "agg_return_distribution = price_df[\"AGG\"][\"close\"].pct_change().dropna()\n",
    "\n",
    "ax = spy_return_distribution.plot.hist(bins=50, title=\"SPY vs AGG returns\",legend=True,label=\"SPY\")\n",
    "agg_return_distribution.plot.hist(ax=ax,bins=50, legend=True, label=\"AGG\")\n"
   ]
  },
  {
   "cell_type": "code",
   "execution_count": 31,
   "metadata": {},
   "outputs": [
    {
     "data": {
      "text/plain": [
       "<Axes: title={'center': 'SPY vs AGG cumulative returns'}, xlabel='timestamp'>"
      ]
     },
     "execution_count": 31,
     "metadata": {},
     "output_type": "execute_result"
    },
    {
     "data": {
      "image/png": "[encoded data removed]",
      "text/plain": [
       "<Figure size 640x480 with 1 Axes>"
      ]
     },
     "metadata": {},
     "output_type": "display_data"
    }
   ],
   "source": [
    "\n",
    "spy_cumulative_return = (spy_return_distribution + 1).cumprod()\n",
    "agg_cumulative_return = (agg_return_distribution + 1).cumprod()\n",
    "\n",
    "ax = spy_cumulative_return.plot(title=\"SPY vs AGG cumulative returns\",legend=True,label=\"SPY\")\n",
    "agg_cumulative_return.plot(ax=ax,legend=True,label=\"AGG\")\n"
   ]
  },
  {
   "cell_type": "markdown",
   "metadata": {},
   "source": [
    "#### Step 2: Run a Monte Carlo simulation of 500 samples and 30 years for the 60/40 portfolio, and then plot the results."
   ]
  },
  {
   "cell_type": "code",
   "execution_count": 32,
   "metadata": {},
   "outputs": [
    {
     "data": {
      "text/html": [
       "<div>\n",
       "<style scoped>\n",
       "    .dataframe tbody tr th:only-of-type {\n",
       "        vertical-align: middle;\n",
       "    }\n",
       "\n",
       "    .dataframe tbody tr th {\n",
       "        vertical-align: top;\n",
       "    }\n",
       "\n",
       "    .dataframe thead tr th {\n",
       "        text-align: left;\n",
       "    }\n",
       "\n",
       "    .dataframe thead tr:last-of-type th {\n",
       "        text-align: right;\n",
       "    }\n",
       "</style>\n",
       "<table border=\"1\" class=\"dataframe\">\n",
       "  <thead>\n",
       "    <tr>\n",
       "      <th></th>\n",
       "      <th colspan=\"8\" halign=\"left\">AGG</th>\n",
       "      <th colspan=\"8\" halign=\"left\">SPY</th>\n",
       "    </tr>\n",
       "    <tr>\n",
       "      <th></th>\n",
       "      <th>open</th>\n",
       "      <th>high</th>\n",
       "      <th>low</th>\n",
       "      <th>close</th>\n",
       "      <th>volume</th>\n",
       "      <th>trade_count</th>\n",
       "      <th>vwap</th>\n",
       "      <th>daily_return</th>\n",
       "      <th>open</th>\n",
       "      <th>high</th>\n",
       "      <th>low</th>\n",
       "      <th>close</th>\n",
       "      <th>volume</th>\n",
       "      <th>trade_count</th>\n",
       "      <th>vwap</th>\n",
       "      <th>daily_return</th>\n",
       "    </tr>\n",
       "    <tr>\n",
       "      <th>timestamp</th>\n",
       "      <th></th>\n",
       "      <th></th>\n",
       "      <th></th>\n",
       "      <th></th>\n",
       "      <th></th>\n",
       "      <th></th>\n",
       "      <th></th>\n",
       "      <th></th>\n",
       "      <th></th>\n",
       "      <th></th>\n",
       "      <th></th>\n",
       "      <th></th>\n",
       "      <th></th>\n",
       "      <th></th>\n",
       "      <th></th>\n",
       "      <th></th>\n",
       "    </tr>\n",
       "  </thead>\n",
       "  <tbody>\n",
       "    <tr>\n",
       "      <th>2020-04-13 04:00:00+00:00</th>\n",
       "      <td>117.09</td>\n",
       "      <td>117.170</td>\n",
       "      <td>116.5308</td>\n",
       "      <td>116.70</td>\n",
       "      <td>5738262</td>\n",
       "      <td>24812</td>\n",
       "      <td>116.845817</td>\n",
       "      <td>NaN</td>\n",
       "      <td>277.14</td>\n",
       "      <td>277.5100</td>\n",
       "      <td>271.4100</td>\n",
       "      <td>275.63</td>\n",
       "      <td>114868253</td>\n",
       "      <td>752225</td>\n",
       "      <td>274.512847</td>\n",
       "      <td>NaN</td>\n",
       "    </tr>\n",
       "    <tr>\n",
       "      <th>2020-04-14 04:00:00+00:00</th>\n",
       "      <td>116.99</td>\n",
       "      <td>117.000</td>\n",
       "      <td>116.5850</td>\n",
       "      <td>116.76</td>\n",
       "      <td>5506671</td>\n",
       "      <td>23102</td>\n",
       "      <td>116.766750</td>\n",
       "      <td>0.000514</td>\n",
       "      <td>280.98</td>\n",
       "      <td>284.9000</td>\n",
       "      <td>275.5106</td>\n",
       "      <td>283.80</td>\n",
       "      <td>134143470</td>\n",
       "      <td>761246</td>\n",
       "      <td>282.089774</td>\n",
       "      <td>0.029641</td>\n",
       "    </tr>\n",
       "    <tr>\n",
       "      <th>2020-04-15 04:00:00+00:00</th>\n",
       "      <td>117.03</td>\n",
       "      <td>117.305</td>\n",
       "      <td>116.7100</td>\n",
       "      <td>117.24</td>\n",
       "      <td>4367410</td>\n",
       "      <td>19620</td>\n",
       "      <td>117.144915</td>\n",
       "      <td>0.004111</td>\n",
       "      <td>277.57</td>\n",
       "      <td>283.9407</td>\n",
       "      <td>275.4600</td>\n",
       "      <td>277.75</td>\n",
       "      <td>121779042</td>\n",
       "      <td>711140</td>\n",
       "      <td>277.826041</td>\n",
       "      <td>-0.021318</td>\n",
       "    </tr>\n",
       "    <tr>\n",
       "      <th>2020-04-16 04:00:00+00:00</th>\n",
       "      <td>117.19</td>\n",
       "      <td>117.525</td>\n",
       "      <td>117.1900</td>\n",
       "      <td>117.39</td>\n",
       "      <td>4744716</td>\n",
       "      <td>16906</td>\n",
       "      <td>117.399687</td>\n",
       "      <td>0.001279</td>\n",
       "      <td>279.15</td>\n",
       "      <td>280.0300</td>\n",
       "      <td>275.7600</td>\n",
       "      <td>278.96</td>\n",
       "      <td>132398585</td>\n",
       "      <td>748801</td>\n",
       "      <td>278.840675</td>\n",
       "      <td>0.004356</td>\n",
       "    </tr>\n",
       "    <tr>\n",
       "      <th>2020-04-17 04:00:00+00:00</th>\n",
       "      <td>117.52</td>\n",
       "      <td>117.620</td>\n",
       "      <td>117.0350</td>\n",
       "      <td>117.25</td>\n",
       "      <td>4949824</td>\n",
       "      <td>25621</td>\n",
       "      <td>117.358347</td>\n",
       "      <td>-0.001193</td>\n",
       "      <td>285.38</td>\n",
       "      <td>287.3000</td>\n",
       "      <td>282.4000</td>\n",
       "      <td>286.54</td>\n",
       "      <td>146685294</td>\n",
       "      <td>699788</td>\n",
       "      <td>284.307868</td>\n",
       "      <td>0.027172</td>\n",
       "    </tr>\n",
       "  </tbody>\n",
       "</table>\n",
       "</div>"
      ],
      "text/plain": [
       "                              AGG                                      \\\n",
       "                             open     high       low   close   volume   \n",
       "timestamp                                                               \n",
       "2020-04-13 04:00:00+00:00  117.09  117.170  116.5308  116.70  5738262   \n",
       "2020-04-14 04:00:00+00:00  116.99  117.000  116.5850  116.76  5506671   \n",
       "2020-04-15 04:00:00+00:00  117.03  117.305  116.7100  117.24  4367410   \n",
       "2020-04-16 04:00:00+00:00  117.19  117.525  117.1900  117.39  4744716   \n",
       "2020-04-17 04:00:00+00:00  117.52  117.620  117.0350  117.25  4949824   \n",
       "\n",
       "                                                                   SPY  \\\n",
       "                          trade_count        vwap daily_return    open   \n",
       "timestamp                                                                \n",
       "2020-04-13 04:00:00+00:00       24812  116.845817          NaN  277.14   \n",
       "2020-04-14 04:00:00+00:00       23102  116.766750     0.000514  280.98   \n",
       "2020-04-15 04:00:00+00:00       19620  117.144915     0.004111  277.57   \n",
       "2020-04-16 04:00:00+00:00       16906  117.399687     0.001279  279.15   \n",
       "2020-04-17 04:00:00+00:00       25621  117.358347    -0.001193  285.38   \n",
       "\n",
       "                                                                              \\\n",
       "                               high       low   close     volume trade_count   \n",
       "timestamp                                                                      \n",
       "2020-04-13 04:00:00+00:00  277.5100  271.4100  275.63  114868253      752225   \n",
       "2020-04-14 04:00:00+00:00  284.9000  275.5106  283.80  134143470      761246   \n",
       "2020-04-15 04:00:00+00:00  283.9407  275.4600  277.75  121779042      711140   \n",
       "2020-04-16 04:00:00+00:00  280.0300  275.7600  278.96  132398585      748801   \n",
       "2020-04-17 04:00:00+00:00  287.3000  282.4000  286.54  146685294      699788   \n",
       "\n",
       "                                                    \n",
       "                                 vwap daily_return  \n",
       "timestamp                                           \n",
       "2020-04-13 04:00:00+00:00  274.512847          NaN  \n",
       "2020-04-14 04:00:00+00:00  282.089774     0.029641  \n",
       "2020-04-15 04:00:00+00:00  277.826041    -0.021318  \n",
       "2020-04-16 04:00:00+00:00  278.840675     0.004356  \n",
       "2020-04-17 04:00:00+00:00  284.307868     0.027172  "
      ]
     },
     "execution_count": 32,
     "metadata": {},
     "output_type": "execute_result"
    }
   ],
   "source": [
    "# Configure the Monte Carlo simulation to forecast 30 years cumulative returns\n",
    "# The weights should be split 40% to AGG and 60% to SPY.\n",
    "# Run 500 samples.\n",
    "# YOUR CODE HERE\n",
    "\n",
    "MC_6040 = MCSimulation(\n",
    "    portfolio_data = price_df,\n",
    "    weights = [.4,.6],\n",
    "    num_simulation = 500,\n",
    "    num_trading_days = 252*30)\n",
    "\n",
    "# Printing the first five rows of the simulation input data\n",
    "MC_6040.portfolio_data.head()\n",
    "\n",
    "# Review the simulation input data\n",
    "# YOUR CODE HERE\n"
   ]
  },
  {
   "cell_type": "code",
   "execution_count": 33,
   "metadata": {},
   "outputs": [
    {
     "name": "stdout",
     "output_type": "stream",
     "text": [
      "Running Monte Carlo simulation number 0.\n",
      "Running Monte Carlo simulation number 10.\n",
      "Running Monte Carlo simulation number 20.\n",
      "Running Monte Carlo simulation number 30.\n",
      "Running Monte Carlo simulation number 40.\n",
      "Running Monte Carlo simulation number 50.\n",
      "Running Monte Carlo simulation number 60.\n",
      "Running Monte Carlo simulation number 70.\n",
      "Running Monte Carlo simulation number 80.\n",
      "Running Monte Carlo simulation number 90.\n",
      "Running Monte Carlo simulation number 100.\n",
      "Running Monte Carlo simulation number 110.\n",
      "Running Monte Carlo simulation number 120.\n",
      "Running Monte Carlo simulation number 130.\n",
      "Running Monte Carlo simulation number 140.\n",
      "Running Monte Carlo simulation number 150.\n",
      "Running Monte Carlo simulation number 160.\n",
      "Running Monte Carlo simulation number 170.\n",
      "Running Monte Carlo simulation number 180.\n",
      "Running Monte Carlo simulation number 190.\n",
      "Running Monte Carlo simulation number 200.\n",
      "Running Monte Carlo simulation number 210.\n",
      "Running Monte Carlo simulation number 220.\n",
      "Running Monte Carlo simulation number 230.\n",
      "Running Monte Carlo simulation number 240.\n",
      "Running Monte Carlo simulation number 250.\n",
      "Running Monte Carlo simulation number 260.\n",
      "Running Monte Carlo simulation number 270.\n",
      "Running Monte Carlo simulation number 280.\n",
      "Running Monte Carlo simulation number 290.\n",
      "Running Monte Carlo simulation number 300.\n",
      "Running Monte Carlo simulation number 310.\n",
      "Running Monte Carlo simulation number 320.\n",
      "Running Monte Carlo simulation number 330.\n",
      "Running Monte Carlo simulation number 340.\n",
      "Running Monte Carlo simulation number 350.\n",
      "Running Monte Carlo simulation number 360.\n",
      "Running Monte Carlo simulation number 370.\n",
      "Running Monte Carlo simulation number 380.\n",
      "Running Monte Carlo simulation number 390.\n",
      "Running Monte Carlo simulation number 400.\n",
      "Running Monte Carlo simulation number 410.\n",
      "Running Monte Carlo simulation number 420.\n",
      "Running Monte Carlo simulation number 430.\n",
      "Running Monte Carlo simulation number 440.\n",
      "Running Monte Carlo simulation number 450.\n",
      "Running Monte Carlo simulation number 460.\n",
      "Running Monte Carlo simulation number 470.\n",
      "Running Monte Carlo simulation number 480.\n",
      "Running Monte Carlo simulation number 490.\n"
     ]
    },
    {
     "data": {
      "text/html": [
       "<div>\n",
       "<style scoped>\n",
       "    .dataframe tbody tr th:only-of-type {\n",
       "        vertical-align: middle;\n",
       "    }\n",
       "\n",
       "    .dataframe tbody tr th {\n",
       "        vertical-align: top;\n",
       "    }\n",
       "\n",
       "    .dataframe thead th {\n",
       "        text-align: right;\n",
       "    }\n",
       "</style>\n",
       "<table border=\"1\" class=\"dataframe\">\n",
       "  <thead>\n",
       "    <tr style=\"text-align: right;\">\n",
       "      <th></th>\n",
       "      <th>0</th>\n",
       "      <th>1</th>\n",
       "      <th>2</th>\n",
       "      <th>3</th>\n",
       "      <th>4</th>\n",
       "      <th>5</th>\n",
       "      <th>6</th>\n",
       "      <th>7</th>\n",
       "      <th>8</th>\n",
       "      <th>9</th>\n",
       "      <th>...</th>\n",
       "      <th>490</th>\n",
       "      <th>491</th>\n",
       "      <th>492</th>\n",
       "      <th>493</th>\n",
       "      <th>494</th>\n",
       "      <th>495</th>\n",
       "      <th>496</th>\n",
       "      <th>497</th>\n",
       "      <th>498</th>\n",
       "      <th>499</th>\n",
       "    </tr>\n",
       "  </thead>\n",
       "  <tbody>\n",
       "    <tr>\n",
       "      <th>0</th>\n",
       "      <td>1.000000</td>\n",
       "      <td>1.000000</td>\n",
       "      <td>1.000000</td>\n",
       "      <td>1.000000</td>\n",
       "      <td>1.000000</td>\n",
       "      <td>1.000000</td>\n",
       "      <td>1.000000</td>\n",
       "      <td>1.000000</td>\n",
       "      <td>1.000000</td>\n",
       "      <td>1.000000</td>\n",
       "      <td>...</td>\n",
       "      <td>1.000000</td>\n",
       "      <td>1.000000</td>\n",
       "      <td>1.000000</td>\n",
       "      <td>1.000000</td>\n",
       "      <td>1.000000</td>\n",
       "      <td>1.000000</td>\n",
       "      <td>1.000000</td>\n",
       "      <td>1.000000</td>\n",
       "      <td>1.000000</td>\n",
       "      <td>1.000000</td>\n",
       "    </tr>\n",
       "    <tr>\n",
       "      <th>1</th>\n",
       "      <td>0.992245</td>\n",
       "      <td>0.997237</td>\n",
       "      <td>0.994499</td>\n",
       "      <td>0.999438</td>\n",
       "      <td>0.983511</td>\n",
       "      <td>0.999380</td>\n",
       "      <td>1.001412</td>\n",
       "      <td>0.999356</td>\n",
       "      <td>1.005507</td>\n",
       "      <td>1.004800</td>\n",
       "      <td>...</td>\n",
       "      <td>0.991839</td>\n",
       "      <td>0.992394</td>\n",
       "      <td>1.001882</td>\n",
       "      <td>1.003704</td>\n",
       "      <td>1.002185</td>\n",
       "      <td>0.993872</td>\n",
       "      <td>1.005247</td>\n",
       "      <td>1.007074</td>\n",
       "      <td>0.990079</td>\n",
       "      <td>1.001360</td>\n",
       "    </tr>\n",
       "    <tr>\n",
       "      <th>2</th>\n",
       "      <td>0.996023</td>\n",
       "      <td>0.996224</td>\n",
       "      <td>0.994886</td>\n",
       "      <td>0.995607</td>\n",
       "      <td>0.977239</td>\n",
       "      <td>0.994921</td>\n",
       "      <td>1.004326</td>\n",
       "      <td>1.010868</td>\n",
       "      <td>1.006996</td>\n",
       "      <td>1.004162</td>\n",
       "      <td>...</td>\n",
       "      <td>0.988691</td>\n",
       "      <td>0.998002</td>\n",
       "      <td>1.004068</td>\n",
       "      <td>1.000620</td>\n",
       "      <td>0.993765</td>\n",
       "      <td>0.987551</td>\n",
       "      <td>1.015390</td>\n",
       "      <td>1.012481</td>\n",
       "      <td>0.988764</td>\n",
       "      <td>0.993329</td>\n",
       "    </tr>\n",
       "    <tr>\n",
       "      <th>3</th>\n",
       "      <td>0.998984</td>\n",
       "      <td>0.995689</td>\n",
       "      <td>0.994852</td>\n",
       "      <td>0.983009</td>\n",
       "      <td>0.986538</td>\n",
       "      <td>1.000324</td>\n",
       "      <td>0.993020</td>\n",
       "      <td>1.023671</td>\n",
       "      <td>0.995443</td>\n",
       "      <td>0.999160</td>\n",
       "      <td>...</td>\n",
       "      <td>0.997110</td>\n",
       "      <td>0.983269</td>\n",
       "      <td>1.005273</td>\n",
       "      <td>1.000440</td>\n",
       "      <td>0.991649</td>\n",
       "      <td>0.986852</td>\n",
       "      <td>1.020533</td>\n",
       "      <td>1.005540</td>\n",
       "      <td>0.994480</td>\n",
       "      <td>0.996700</td>\n",
       "    </tr>\n",
       "    <tr>\n",
       "      <th>4</th>\n",
       "      <td>1.001899</td>\n",
       "      <td>0.990757</td>\n",
       "      <td>1.003682</td>\n",
       "      <td>0.988223</td>\n",
       "      <td>0.986858</td>\n",
       "      <td>1.000947</td>\n",
       "      <td>0.978203</td>\n",
       "      <td>1.028162</td>\n",
       "      <td>1.009758</td>\n",
       "      <td>1.005471</td>\n",
       "      <td>...</td>\n",
       "      <td>0.995367</td>\n",
       "      <td>0.977401</td>\n",
       "      <td>1.014196</td>\n",
       "      <td>0.988449</td>\n",
       "      <td>0.983850</td>\n",
       "      <td>0.981482</td>\n",
       "      <td>1.012492</td>\n",
       "      <td>1.001946</td>\n",
       "      <td>0.994650</td>\n",
       "      <td>0.989649</td>\n",
       "    </tr>\n",
       "    <tr>\n",
       "      <th>...</th>\n",
       "      <td>...</td>\n",
       "      <td>...</td>\n",
       "      <td>...</td>\n",
       "      <td>...</td>\n",
       "      <td>...</td>\n",
       "      <td>...</td>\n",
       "      <td>...</td>\n",
       "      <td>...</td>\n",
       "      <td>...</td>\n",
       "      <td>...</td>\n",
       "      <td>...</td>\n",
       "      <td>...</td>\n",
       "      <td>...</td>\n",
       "      <td>...</td>\n",
       "      <td>...</td>\n",
       "      <td>...</td>\n",
       "      <td>...</td>\n",
       "      <td>...</td>\n",
       "      <td>...</td>\n",
       "      <td>...</td>\n",
       "      <td>...</td>\n",
       "    </tr>\n",
       "    <tr>\n",
       "      <th>7556</th>\n",
       "      <td>13.690348</td>\n",
       "      <td>10.703225</td>\n",
       "      <td>1.786311</td>\n",
       "      <td>4.435683</td>\n",
       "      <td>5.870871</td>\n",
       "      <td>16.450935</td>\n",
       "      <td>14.825058</td>\n",
       "      <td>2.405563</td>\n",
       "      <td>6.633850</td>\n",
       "      <td>11.871811</td>\n",
       "      <td>...</td>\n",
       "      <td>3.687392</td>\n",
       "      <td>13.041450</td>\n",
       "      <td>3.420371</td>\n",
       "      <td>3.556971</td>\n",
       "      <td>5.339363</td>\n",
       "      <td>3.817154</td>\n",
       "      <td>8.424293</td>\n",
       "      <td>4.241891</td>\n",
       "      <td>6.458193</td>\n",
       "      <td>11.068191</td>\n",
       "    </tr>\n",
       "    <tr>\n",
       "      <th>7557</th>\n",
       "      <td>13.771031</td>\n",
       "      <td>10.768762</td>\n",
       "      <td>1.799011</td>\n",
       "      <td>4.406975</td>\n",
       "      <td>5.816248</td>\n",
       "      <td>16.506134</td>\n",
       "      <td>14.864296</td>\n",
       "      <td>2.405955</td>\n",
       "      <td>6.682056</td>\n",
       "      <td>11.884924</td>\n",
       "      <td>...</td>\n",
       "      <td>3.642143</td>\n",
       "      <td>12.992109</td>\n",
       "      <td>3.433438</td>\n",
       "      <td>3.514547</td>\n",
       "      <td>5.348158</td>\n",
       "      <td>3.784817</td>\n",
       "      <td>8.506132</td>\n",
       "      <td>4.276901</td>\n",
       "      <td>6.517494</td>\n",
       "      <td>10.978962</td>\n",
       "    </tr>\n",
       "    <tr>\n",
       "      <th>7558</th>\n",
       "      <td>13.689737</td>\n",
       "      <td>10.707104</td>\n",
       "      <td>1.808602</td>\n",
       "      <td>4.444292</td>\n",
       "      <td>5.872953</td>\n",
       "      <td>16.461972</td>\n",
       "      <td>14.910880</td>\n",
       "      <td>2.423441</td>\n",
       "      <td>6.608011</td>\n",
       "      <td>11.922803</td>\n",
       "      <td>...</td>\n",
       "      <td>3.692160</td>\n",
       "      <td>12.902648</td>\n",
       "      <td>3.454070</td>\n",
       "      <td>3.540789</td>\n",
       "      <td>5.314184</td>\n",
       "      <td>3.753488</td>\n",
       "      <td>8.420534</td>\n",
       "      <td>4.242586</td>\n",
       "      <td>6.584453</td>\n",
       "      <td>11.032359</td>\n",
       "    </tr>\n",
       "    <tr>\n",
       "      <th>7559</th>\n",
       "      <td>13.499452</td>\n",
       "      <td>10.682059</td>\n",
       "      <td>1.796563</td>\n",
       "      <td>4.413251</td>\n",
       "      <td>5.867471</td>\n",
       "      <td>16.185194</td>\n",
       "      <td>14.834634</td>\n",
       "      <td>2.454306</td>\n",
       "      <td>6.611699</td>\n",
       "      <td>11.886995</td>\n",
       "      <td>...</td>\n",
       "      <td>3.725006</td>\n",
       "      <td>12.887460</td>\n",
       "      <td>3.508314</td>\n",
       "      <td>3.503853</td>\n",
       "      <td>5.353385</td>\n",
       "      <td>3.793839</td>\n",
       "      <td>8.352480</td>\n",
       "      <td>4.204457</td>\n",
       "      <td>6.563292</td>\n",
       "      <td>11.031482</td>\n",
       "    </tr>\n",
       "    <tr>\n",
       "      <th>7560</th>\n",
       "      <td>13.333345</td>\n",
       "      <td>10.648970</td>\n",
       "      <td>1.805373</td>\n",
       "      <td>4.383920</td>\n",
       "      <td>5.881686</td>\n",
       "      <td>16.340659</td>\n",
       "      <td>14.764421</td>\n",
       "      <td>2.471307</td>\n",
       "      <td>6.587910</td>\n",
       "      <td>11.827349</td>\n",
       "      <td>...</td>\n",
       "      <td>3.729435</td>\n",
       "      <td>12.847706</td>\n",
       "      <td>3.539575</td>\n",
       "      <td>3.483241</td>\n",
       "      <td>5.385482</td>\n",
       "      <td>3.849138</td>\n",
       "      <td>8.434275</td>\n",
       "      <td>4.228446</td>\n",
       "      <td>6.579041</td>\n",
       "      <td>10.970253</td>\n",
       "    </tr>\n",
       "  </tbody>\n",
       "</table>\n",
       "<p>7561 rows × 500 columns</p>\n",
       "</div>"
      ],
      "text/plain": [
       "            0          1         2         3         4          5    \\\n",
       "0      1.000000   1.000000  1.000000  1.000000  1.000000   1.000000   \n",
       "1      0.992245   0.997237  0.994499  0.999438  0.983511   0.999380   \n",
       "2      0.996023   0.996224  0.994886  0.995607  0.977239   0.994921   \n",
       "3      0.998984   0.995689  0.994852  0.983009  0.986538   1.000324   \n",
       "4      1.001899   0.990757  1.003682  0.988223  0.986858   1.000947   \n",
       "...         ...        ...       ...       ...       ...        ...   \n",
       "7556  13.690348  10.703225  1.786311  4.435683  5.870871  16.450935   \n",
       "7557  13.771031  10.768762  1.799011  4.406975  5.816248  16.506134   \n",
       "7558  13.689737  10.707104  1.808602  4.444292  5.872953  16.461972   \n",
       "7559  13.499452  10.682059  1.796563  4.413251  5.867471  16.185194   \n",
       "7560  13.333345  10.648970  1.805373  4.383920  5.881686  16.340659   \n",
       "\n",
       "            6         7         8          9    ...       490        491  \\\n",
       "0      1.000000  1.000000  1.000000   1.000000  ...  1.000000   1.000000   \n",
       "1      1.001412  0.999356  1.005507   1.004800  ...  0.991839   0.992394   \n",
       "2      1.004326  1.010868  1.006996   1.004162  ...  0.988691   0.998002   \n",
       "3      0.993020  1.023671  0.995443   0.999160  ...  0.997110   0.983269   \n",
       "4      0.978203  1.028162  1.009758   1.005471  ...  0.995367   0.977401   \n",
       "...         ...       ...       ...        ...  ...       ...        ...   \n",
       "7556  14.825058  2.405563  6.633850  11.871811  ...  3.687392  13.041450   \n",
       "7557  14.864296  2.405955  6.682056  11.884924  ...  3.642143  12.992109   \n",
       "7558  14.910880  2.423441  6.608011  11.922803  ...  3.692160  12.902648   \n",
       "7559  14.834634  2.454306  6.611699  11.886995  ...  3.725006  12.887460   \n",
       "7560  14.764421  2.471307  6.587910  11.827349  ...  3.729435  12.847706   \n",
       "\n",
       "           492       493       494       495       496       497       498  \\\n",
       "0     1.000000  1.000000  1.000000  1.000000  1.000000  1.000000  1.000000   \n",
       "1     1.001882  1.003704  1.002185  0.993872  1.005247  1.007074  0.990079   \n",
       "2     1.004068  1.000620  0.993765  0.987551  1.015390  1.012481  0.988764   \n",
       "3     1.005273  1.000440  0.991649  0.986852  1.020533  1.005540  0.994480   \n",
       "4     1.014196  0.988449  0.983850  0.981482  1.012492  1.001946  0.994650   \n",
       "...        ...       ...       ...       ...       ...       ...       ...   \n",
       "7556  3.420371  3.556971  5.339363  3.817154  8.424293  4.241891  6.458193   \n",
       "7557  3.433438  3.514547  5.348158  3.784817  8.506132  4.276901  6.517494   \n",
       "7558  3.454070  3.540789  5.314184  3.753488  8.420534  4.242586  6.584453   \n",
       "7559  3.508314  3.503853  5.353385  3.793839  8.352480  4.204457  6.563292   \n",
       "7560  3.539575  3.483241  5.385482  3.849138  8.434275  4.228446  6.579041   \n",
       "\n",
       "            499  \n",
       "0      1.000000  \n",
       "1      1.001360  \n",
       "2      0.993329  \n",
       "3      0.996700  \n",
       "4      0.989649  \n",
       "...         ...  \n",
       "7556  11.068191  \n",
       "7557  10.978962  \n",
       "7558  11.032359  \n",
       "7559  11.031482  \n",
       "7560  10.970253  \n",
       "\n",
       "[7561 rows x 500 columns]"
      ]
     },
     "execution_count": 33,
     "metadata": {},
     "output_type": "execute_result"
    }
   ],
   "source": [
    "# Run the Monte Carlo simulation to forecast 30 years cumulative returns\n",
    "# YOUR CODE HERE\n",
    "MC_6040.calc_cumulative_return()"
   ]
  },
  {
   "cell_type": "code",
   "execution_count": 34,
   "metadata": {},
   "outputs": [
    {
     "data": {
      "text/plain": [
       "<Axes: title={'center': '500 Simulations of Cumulative Portfolio Return Trajectories Over the Next 7560 Trading Days.'}>"
      ]
     },
     "execution_count": 34,
     "metadata": {},
     "output_type": "execute_result"
    },
    {
     "data": {
      "image/png": "[encoded data removed]",
      "text/plain": [
       "<Figure size 640x480 with 1 Axes>"
      ]
     },
     "metadata": {},
     "output_type": "display_data"
    }
   ],
   "source": [
    "# Visualize the 30-year Monte Carlo simulation by creating an\n",
    "# overlay line plot\n",
    "# YOUR CODE HERE\n",
    "MC_6040.plot_simulation()"
   ]
  },
  {
   "cell_type": "markdown",
   "metadata": {},
   "source": [
    "#### Step 3: Plot the probability distribution of the Monte Carlo simulation."
   ]
  },
  {
   "cell_type": "code",
   "execution_count": 35,
   "metadata": {},
   "outputs": [
    {
     "data": {
      "text/plain": [
       "<Axes: title={'center': 'Distribution of Final Cumuluative Returns Across All 500 Simulations'}, ylabel='Frequency'>"
      ]
     },
     "execution_count": 35,
     "metadata": {},
     "output_type": "execute_result"
    },
    {
     "data": {
      "image/png": "[encoded data removed]",
      "text/plain": [
       "<Figure size 640x480 with 1 Axes>"
      ]
     },
     "metadata": {},
     "output_type": "display_data"
    }
   ],
   "source": [
    "# Visualize the probability distribution of the 30-year Monte Carlo simulation \n",
    "# by plotting a histogram\n",
    "# YOUR CODE HERE\n",
    "\n",
    "MC_6040.plot_distribution()"
   ]
  },
  {
   "cell_type": "markdown",
   "metadata": {},
   "source": [
    "#### Step 4: Generate the summary statistics for the Monte Carlo simulation."
   ]
  },
  {
   "cell_type": "code",
   "execution_count": 36,
   "metadata": {},
   "outputs": [
    {
     "name": "stdout",
     "output_type": "stream",
     "text": [
      "count           500.000000\n",
      "mean              8.114400\n",
      "std               5.713043\n",
      "min               1.046542\n",
      "25%               4.439992\n",
      "50%               6.665232\n",
      "75%              10.349100\n",
      "max              50.210543\n",
      "95% CI Lower      1.793433\n",
      "95% CI Upper     23.130197\n",
      "Name: 7560, dtype: float64\n"
     ]
    }
   ],
   "source": [
    "# Generate summary statistics from the 30-year Monte Carlo simulation results\n",
    "# Save the results as a variable\n",
    "# YOUR CODE HERE\n",
    "\n",
    "cum_return_table = MC_6040.summarize_cumulative_return()\n",
    "\n",
    "print(cum_return_table)\n",
    "\n",
    "# Review the 30-year Monte Carlo summary statistics\n",
    "# YOUR CODE HERE"
   ]
  },
  {
   "cell_type": "markdown",
   "metadata": {},
   "source": [
    "### Analyze the Retirement Portfolio Forecasts\n",
    "\n",
    "Using the current value of only the stock and bond portion of the member's portfolio and the summary statistics that you generated from the Monte Carlo simulation, answer the following question in your Jupyter notebook:\n",
    "\n",
    "-  What are the lower and upper bounds for the expected value of the portfolio with a 95% confidence interval?\n"
   ]
  },
  {
   "cell_type": "code",
   "execution_count": 37,
   "metadata": {},
   "outputs": [
    {
     "name": "stdout",
     "output_type": "stream",
     "text": [
      "Loweer:  1.7934334116633646\n",
      "Upper:  23.13019688831756\n"
     ]
    }
   ],
   "source": [
    "# Print the current balance of the stock and bond portion of the members portfolio\n",
    "# YOUR CODE HERE\n",
    "\n",
    "print( f\"Loweer: \", cum_return_table[\"95% CI Lower\"])\n",
    "print( f\"Upper: \", cum_return_table[\"95% CI Upper\"])\n",
    "\n",
    "\n",
    "\n"
   ]
  },
  {
   "cell_type": "code",
   "execution_count": 38,
   "metadata": {},
   "outputs": [
    {
     "name": "stdout",
     "output_type": "stream",
     "text": [
      "BTC Value: $36,218.40\n",
      "ETH Value: $10,123.11\n",
      "---------------------\n",
      "Total Crypto Value: $46,341.51\n",
      "\n",
      "\n",
      "AGG Value: $19,986.00\n",
      "SPY Value: $44,885.50\n",
      "---------------------\n",
      "Total Stock/Bond Value: $64,871.50\n",
      "\n",
      "Total Portfolio Value: $111,213.01\n",
      "\n",
      "95% Conf Interval in 30 year projection (excluding crypto)\n",
      "\n",
      "Upper Bound: $1,500,490.57 IRR: 11.04% Multiple: 23.1x\n",
      "Lower Bound: $116,342.72 IRR: 1.97% Multiple: 1.8x\n"
     ]
    }
   ],
   "source": [
    "# Use the lower and upper `95%` confidence intervals to calculate the range of the possible outcomes for the current stock/bond portfolio\n",
    "ci_lower_thirty_cumulative_return = cum_return_table[\"95% CI Lower\"] * total_stocks_bonds\n",
    "ci_upper_thirty_cumulative_return = cum_return_table[\"95% CI Upper\"] * total_stocks_bonds\n",
    "\n",
    "multiple_lower = cum_return_table[\"95% CI Lower\"]\n",
    "multiple_upper = cum_return_table[\"95% CI Upper\"]\n",
    "irr_lower = multiple_lower ** (1/30) - 1\n",
    "irr_upper = multiple_upper ** (1/30) - 1\n",
    "\n",
    "print( f\"BTC Value: ${btc_value:,.2f}\\nETH Value: ${eth_value:,.2f}\\n---------------------\")\n",
    "print( f\"Total Crypto Value: ${total_crypto_wallet:,.2f}\\n\\n\")\n",
    "\n",
    "print( f\"AGG Value: ${agg_value:,.2f}\\nSPY Value: ${spy_value:,.2f}\\n---------------------\")\n",
    "print( f\"Total Stock/Bond Value: ${total_stocks_bonds:,.2f}\\n\")\n",
    "\n",
    "print( f\"Total Portfolio Value: ${total_portfolio:,.2f}\\n\")\n",
    "\n",
    "print( f\"95% Conf Interval in 30 year projection (excluding crypto)\\n\")\n",
    "print( f\"Upper Bound: ${ci_upper_thirty_cumulative_return:,.2f} IRR: {irr_upper:.2%} Multiple: {multiple_upper:.1f}x\")\n",
    "print( f\"Lower Bound: ${ci_lower_thirty_cumulative_return:,.2f} IRR: {irr_lower:.2%} Multiple: {multiple_lower:.1f}x\")\n",
    "\n",
    "\n",
    "\n",
    "# Print the result of your calculations\n",
    "# YOUR CODE HERE\n"
   ]
  },
  {
   "cell_type": "markdown",
   "metadata": {},
   "source": [
    "### Forecast Cumulative Returns in 10 Years\n",
    "\n",
    "The CTO of the credit union is impressed with your work on these planning tools but wonders if 30 years is a long time to wait until retirement. So, your next task is to adjust the retirement portfolio and run a new Monte Carlo simulation to find out if the changes will allow members to retire earlier.\n",
    "\n",
    "For this new Monte Carlo simulation, do the following: \n",
    "\n",
    "- Forecast the cumulative returns for 10 years from now. Because of the shortened investment horizon (30 years to 10 years), the portfolio needs to invest more heavily in the riskier asset&mdash;that is, stock&mdash;to help accumulate wealth for retirement. \n",
    "\n",
    "- Adjust the weights of the retirement portfolio so that the composition for the Monte Carlo simulation consists of 20% bonds and 80% stocks. \n",
    "\n",
    "- Run the simulation over 500 samples, and use the same data that the API call to Alpaca generated.\n",
    "\n",
    "- Based on the new Monte Carlo simulation, answer the following questions in your Jupyter notebook:\n",
    "\n",
    "    - Using the current value of only the stock and bond portion of the member's portfolio and the summary statistics that you generated from the new Monte Carlo simulation, what are the lower and upper bounds for the expected value of the portfolio (with the new weights) with a 95% confidence interval?\n",
    "\n",
    "    - Will weighting the portfolio more heavily toward stocks allow the credit union members to retire after only 10 years?\n"
   ]
  },
  {
   "cell_type": "code",
   "execution_count": 39,
   "metadata": {},
   "outputs": [
    {
     "data": {
      "text/html": [
       "<div>\n",
       "<style scoped>\n",
       "    .dataframe tbody tr th:only-of-type {\n",
       "        vertical-align: middle;\n",
       "    }\n",
       "\n",
       "    .dataframe tbody tr th {\n",
       "        vertical-align: top;\n",
       "    }\n",
       "\n",
       "    .dataframe thead tr th {\n",
       "        text-align: left;\n",
       "    }\n",
       "\n",
       "    .dataframe thead tr:last-of-type th {\n",
       "        text-align: right;\n",
       "    }\n",
       "</style>\n",
       "<table border=\"1\" class=\"dataframe\">\n",
       "  <thead>\n",
       "    <tr>\n",
       "      <th></th>\n",
       "      <th colspan=\"8\" halign=\"left\">AGG</th>\n",
       "      <th colspan=\"8\" halign=\"left\">SPY</th>\n",
       "    </tr>\n",
       "    <tr>\n",
       "      <th></th>\n",
       "      <th>open</th>\n",
       "      <th>high</th>\n",
       "      <th>low</th>\n",
       "      <th>close</th>\n",
       "      <th>volume</th>\n",
       "      <th>trade_count</th>\n",
       "      <th>vwap</th>\n",
       "      <th>daily_return</th>\n",
       "      <th>open</th>\n",
       "      <th>high</th>\n",
       "      <th>low</th>\n",
       "      <th>close</th>\n",
       "      <th>volume</th>\n",
       "      <th>trade_count</th>\n",
       "      <th>vwap</th>\n",
       "      <th>daily_return</th>\n",
       "    </tr>\n",
       "    <tr>\n",
       "      <th>timestamp</th>\n",
       "      <th></th>\n",
       "      <th></th>\n",
       "      <th></th>\n",
       "      <th></th>\n",
       "      <th></th>\n",
       "      <th></th>\n",
       "      <th></th>\n",
       "      <th></th>\n",
       "      <th></th>\n",
       "      <th></th>\n",
       "      <th></th>\n",
       "      <th></th>\n",
       "      <th></th>\n",
       "      <th></th>\n",
       "      <th></th>\n",
       "      <th></th>\n",
       "    </tr>\n",
       "  </thead>\n",
       "  <tbody>\n",
       "    <tr>\n",
       "      <th>2020-04-13 04:00:00+00:00</th>\n",
       "      <td>117.09</td>\n",
       "      <td>117.170</td>\n",
       "      <td>116.5308</td>\n",
       "      <td>116.70</td>\n",
       "      <td>5738262</td>\n",
       "      <td>24812</td>\n",
       "      <td>116.845817</td>\n",
       "      <td>NaN</td>\n",
       "      <td>277.14</td>\n",
       "      <td>277.5100</td>\n",
       "      <td>271.4100</td>\n",
       "      <td>275.63</td>\n",
       "      <td>114868253</td>\n",
       "      <td>752225</td>\n",
       "      <td>274.512847</td>\n",
       "      <td>NaN</td>\n",
       "    </tr>\n",
       "    <tr>\n",
       "      <th>2020-04-14 04:00:00+00:00</th>\n",
       "      <td>116.99</td>\n",
       "      <td>117.000</td>\n",
       "      <td>116.5850</td>\n",
       "      <td>116.76</td>\n",
       "      <td>5506671</td>\n",
       "      <td>23102</td>\n",
       "      <td>116.766750</td>\n",
       "      <td>0.000514</td>\n",
       "      <td>280.98</td>\n",
       "      <td>284.9000</td>\n",
       "      <td>275.5106</td>\n",
       "      <td>283.80</td>\n",
       "      <td>134143470</td>\n",
       "      <td>761246</td>\n",
       "      <td>282.089774</td>\n",
       "      <td>0.029641</td>\n",
       "    </tr>\n",
       "    <tr>\n",
       "      <th>2020-04-15 04:00:00+00:00</th>\n",
       "      <td>117.03</td>\n",
       "      <td>117.305</td>\n",
       "      <td>116.7100</td>\n",
       "      <td>117.24</td>\n",
       "      <td>4367410</td>\n",
       "      <td>19620</td>\n",
       "      <td>117.144915</td>\n",
       "      <td>0.004111</td>\n",
       "      <td>277.57</td>\n",
       "      <td>283.9407</td>\n",
       "      <td>275.4600</td>\n",
       "      <td>277.75</td>\n",
       "      <td>121779042</td>\n",
       "      <td>711140</td>\n",
       "      <td>277.826041</td>\n",
       "      <td>-0.021318</td>\n",
       "    </tr>\n",
       "    <tr>\n",
       "      <th>2020-04-16 04:00:00+00:00</th>\n",
       "      <td>117.19</td>\n",
       "      <td>117.525</td>\n",
       "      <td>117.1900</td>\n",
       "      <td>117.39</td>\n",
       "      <td>4744716</td>\n",
       "      <td>16906</td>\n",
       "      <td>117.399687</td>\n",
       "      <td>0.001279</td>\n",
       "      <td>279.15</td>\n",
       "      <td>280.0300</td>\n",
       "      <td>275.7600</td>\n",
       "      <td>278.96</td>\n",
       "      <td>132398585</td>\n",
       "      <td>748801</td>\n",
       "      <td>278.840675</td>\n",
       "      <td>0.004356</td>\n",
       "    </tr>\n",
       "    <tr>\n",
       "      <th>2020-04-17 04:00:00+00:00</th>\n",
       "      <td>117.52</td>\n",
       "      <td>117.620</td>\n",
       "      <td>117.0350</td>\n",
       "      <td>117.25</td>\n",
       "      <td>4949824</td>\n",
       "      <td>25621</td>\n",
       "      <td>117.358347</td>\n",
       "      <td>-0.001193</td>\n",
       "      <td>285.38</td>\n",
       "      <td>287.3000</td>\n",
       "      <td>282.4000</td>\n",
       "      <td>286.54</td>\n",
       "      <td>146685294</td>\n",
       "      <td>699788</td>\n",
       "      <td>284.307868</td>\n",
       "      <td>0.027172</td>\n",
       "    </tr>\n",
       "  </tbody>\n",
       "</table>\n",
       "</div>"
      ],
      "text/plain": [
       "                              AGG                                      \\\n",
       "                             open     high       low   close   volume   \n",
       "timestamp                                                               \n",
       "2020-04-13 04:00:00+00:00  117.09  117.170  116.5308  116.70  5738262   \n",
       "2020-04-14 04:00:00+00:00  116.99  117.000  116.5850  116.76  5506671   \n",
       "2020-04-15 04:00:00+00:00  117.03  117.305  116.7100  117.24  4367410   \n",
       "2020-04-16 04:00:00+00:00  117.19  117.525  117.1900  117.39  4744716   \n",
       "2020-04-17 04:00:00+00:00  117.52  117.620  117.0350  117.25  4949824   \n",
       "\n",
       "                                                                   SPY  \\\n",
       "                          trade_count        vwap daily_return    open   \n",
       "timestamp                                                                \n",
       "2020-04-13 04:00:00+00:00       24812  116.845817          NaN  277.14   \n",
       "2020-04-14 04:00:00+00:00       23102  116.766750     0.000514  280.98   \n",
       "2020-04-15 04:00:00+00:00       19620  117.144915     0.004111  277.57   \n",
       "2020-04-16 04:00:00+00:00       16906  117.399687     0.001279  279.15   \n",
       "2020-04-17 04:00:00+00:00       25621  117.358347    -0.001193  285.38   \n",
       "\n",
       "                                                                              \\\n",
       "                               high       low   close     volume trade_count   \n",
       "timestamp                                                                      \n",
       "2020-04-13 04:00:00+00:00  277.5100  271.4100  275.63  114868253      752225   \n",
       "2020-04-14 04:00:00+00:00  284.9000  275.5106  283.80  134143470      761246   \n",
       "2020-04-15 04:00:00+00:00  283.9407  275.4600  277.75  121779042      711140   \n",
       "2020-04-16 04:00:00+00:00  280.0300  275.7600  278.96  132398585      748801   \n",
       "2020-04-17 04:00:00+00:00  287.3000  282.4000  286.54  146685294      699788   \n",
       "\n",
       "                                                    \n",
       "                                 vwap daily_return  \n",
       "timestamp                                           \n",
       "2020-04-13 04:00:00+00:00  274.512847          NaN  \n",
       "2020-04-14 04:00:00+00:00  282.089774     0.029641  \n",
       "2020-04-15 04:00:00+00:00  277.826041    -0.021318  \n",
       "2020-04-16 04:00:00+00:00  278.840675     0.004356  \n",
       "2020-04-17 04:00:00+00:00  284.307868     0.027172  "
      ]
     },
     "execution_count": 39,
     "metadata": {},
     "output_type": "execute_result"
    }
   ],
   "source": [
    "# Configure a Monte Carlo simulation to forecast 10 years cumulative returns\n",
    "# The weights should be split 20% to AGG and 80% to SPY.\n",
    "# Run 500 samples.\n",
    "# YOUR CODE HERE\n",
    "\n",
    "MC_8020 = MCSimulation(\n",
    "    portfolio_data = price_df,\n",
    "    weights = [.2,.8],\n",
    "    num_simulation = 500,\n",
    "    num_trading_days = 252*10)\n",
    "\n",
    "MC_8020.portfolio_data.head()\n",
    "\n",
    "# Review the simulation input data\n",
    "# YOUR CODE HERE\n"
   ]
  },
  {
   "cell_type": "code",
   "execution_count": 40,
   "metadata": {},
   "outputs": [
    {
     "name": "stdout",
     "output_type": "stream",
     "text": [
      "Running Monte Carlo simulation number 0.\n",
      "Running Monte Carlo simulation number 10.\n",
      "Running Monte Carlo simulation number 20.\n",
      "Running Monte Carlo simulation number 30.\n",
      "Running Monte Carlo simulation number 40.\n",
      "Running Monte Carlo simulation number 50.\n",
      "Running Monte Carlo simulation number 60.\n",
      "Running Monte Carlo simulation number 70.\n",
      "Running Monte Carlo simulation number 80.\n",
      "Running Monte Carlo simulation number 90.\n",
      "Running Monte Carlo simulation number 100.\n",
      "Running Monte Carlo simulation number 110.\n",
      "Running Monte Carlo simulation number 120.\n",
      "Running Monte Carlo simulation number 130.\n",
      "Running Monte Carlo simulation number 140.\n",
      "Running Monte Carlo simulation number 150.\n",
      "Running Monte Carlo simulation number 160.\n",
      "Running Monte Carlo simulation number 170.\n",
      "Running Monte Carlo simulation number 180.\n",
      "Running Monte Carlo simulation number 190.\n",
      "Running Monte Carlo simulation number 200.\n",
      "Running Monte Carlo simulation number 210.\n",
      "Running Monte Carlo simulation number 220.\n",
      "Running Monte Carlo simulation number 230.\n",
      "Running Monte Carlo simulation number 240.\n",
      "Running Monte Carlo simulation number 250.\n",
      "Running Monte Carlo simulation number 260.\n",
      "Running Monte Carlo simulation number 270.\n",
      "Running Monte Carlo simulation number 280.\n",
      "Running Monte Carlo simulation number 290.\n",
      "Running Monte Carlo simulation number 300.\n",
      "Running Monte Carlo simulation number 310.\n",
      "Running Monte Carlo simulation number 320.\n",
      "Running Monte Carlo simulation number 330.\n",
      "Running Monte Carlo simulation number 340.\n",
      "Running Monte Carlo simulation number 350.\n",
      "Running Monte Carlo simulation number 360.\n",
      "Running Monte Carlo simulation number 370.\n",
      "Running Monte Carlo simulation number 380.\n",
      "Running Monte Carlo simulation number 390.\n",
      "Running Monte Carlo simulation number 400.\n",
      "Running Monte Carlo simulation number 410.\n",
      "Running Monte Carlo simulation number 420.\n",
      "Running Monte Carlo simulation number 430.\n",
      "Running Monte Carlo simulation number 440.\n",
      "Running Monte Carlo simulation number 450.\n",
      "Running Monte Carlo simulation number 460.\n",
      "Running Monte Carlo simulation number 470.\n",
      "Running Monte Carlo simulation number 480.\n",
      "Running Monte Carlo simulation number 490.\n"
     ]
    },
    {
     "data": {
      "text/html": [
       "<div>\n",
       "<style scoped>\n",
       "    .dataframe tbody tr th:only-of-type {\n",
       "        vertical-align: middle;\n",
       "    }\n",
       "\n",
       "    .dataframe tbody tr th {\n",
       "        vertical-align: top;\n",
       "    }\n",
       "\n",
       "    .dataframe thead th {\n",
       "        text-align: right;\n",
       "    }\n",
       "</style>\n",
       "<table border=\"1\" class=\"dataframe\">\n",
       "  <thead>\n",
       "    <tr style=\"text-align: right;\">\n",
       "      <th></th>\n",
       "      <th>0</th>\n",
       "      <th>1</th>\n",
       "      <th>2</th>\n",
       "      <th>3</th>\n",
       "      <th>4</th>\n",
       "      <th>5</th>\n",
       "      <th>6</th>\n",
       "      <th>7</th>\n",
       "      <th>8</th>\n",
       "      <th>9</th>\n",
       "      <th>...</th>\n",
       "      <th>490</th>\n",
       "      <th>491</th>\n",
       "      <th>492</th>\n",
       "      <th>493</th>\n",
       "      <th>494</th>\n",
       "      <th>495</th>\n",
       "      <th>496</th>\n",
       "      <th>497</th>\n",
       "      <th>498</th>\n",
       "      <th>499</th>\n",
       "    </tr>\n",
       "  </thead>\n",
       "  <tbody>\n",
       "    <tr>\n",
       "      <th>0</th>\n",
       "      <td>1.000000</td>\n",
       "      <td>1.000000</td>\n",
       "      <td>1.000000</td>\n",
       "      <td>1.000000</td>\n",
       "      <td>1.000000</td>\n",
       "      <td>1.000000</td>\n",
       "      <td>1.000000</td>\n",
       "      <td>1.000000</td>\n",
       "      <td>1.000000</td>\n",
       "      <td>1.000000</td>\n",
       "      <td>...</td>\n",
       "      <td>1.000000</td>\n",
       "      <td>1.000000</td>\n",
       "      <td>1.000000</td>\n",
       "      <td>1.000000</td>\n",
       "      <td>1.000000</td>\n",
       "      <td>1.000000</td>\n",
       "      <td>1.000000</td>\n",
       "      <td>1.000000</td>\n",
       "      <td>1.000000</td>\n",
       "      <td>1.000000</td>\n",
       "    </tr>\n",
       "    <tr>\n",
       "      <th>1</th>\n",
       "      <td>1.000276</td>\n",
       "      <td>1.003414</td>\n",
       "      <td>1.005383</td>\n",
       "      <td>0.994788</td>\n",
       "      <td>1.002467</td>\n",
       "      <td>1.000986</td>\n",
       "      <td>0.985903</td>\n",
       "      <td>1.010955</td>\n",
       "      <td>1.008323</td>\n",
       "      <td>0.996705</td>\n",
       "      <td>...</td>\n",
       "      <td>1.007012</td>\n",
       "      <td>0.997779</td>\n",
       "      <td>1.003030</td>\n",
       "      <td>1.005047</td>\n",
       "      <td>1.007891</td>\n",
       "      <td>0.982001</td>\n",
       "      <td>0.997983</td>\n",
       "      <td>0.993890</td>\n",
       "      <td>1.014529</td>\n",
       "      <td>1.004566</td>\n",
       "    </tr>\n",
       "    <tr>\n",
       "      <th>2</th>\n",
       "      <td>1.008183</td>\n",
       "      <td>0.997602</td>\n",
       "      <td>1.000808</td>\n",
       "      <td>0.997921</td>\n",
       "      <td>0.989307</td>\n",
       "      <td>0.996414</td>\n",
       "      <td>0.975929</td>\n",
       "      <td>1.015978</td>\n",
       "      <td>1.008069</td>\n",
       "      <td>1.015990</td>\n",
       "      <td>...</td>\n",
       "      <td>0.993290</td>\n",
       "      <td>1.008746</td>\n",
       "      <td>0.995317</td>\n",
       "      <td>1.005645</td>\n",
       "      <td>1.011419</td>\n",
       "      <td>0.972830</td>\n",
       "      <td>1.008953</td>\n",
       "      <td>0.983457</td>\n",
       "      <td>1.027188</td>\n",
       "      <td>1.003980</td>\n",
       "    </tr>\n",
       "    <tr>\n",
       "      <th>3</th>\n",
       "      <td>1.021155</td>\n",
       "      <td>0.983521</td>\n",
       "      <td>1.012460</td>\n",
       "      <td>0.981683</td>\n",
       "      <td>0.997162</td>\n",
       "      <td>1.002189</td>\n",
       "      <td>0.993752</td>\n",
       "      <td>0.996257</td>\n",
       "      <td>1.015103</td>\n",
       "      <td>1.022309</td>\n",
       "      <td>...</td>\n",
       "      <td>0.983251</td>\n",
       "      <td>1.008290</td>\n",
       "      <td>0.991700</td>\n",
       "      <td>0.998289</td>\n",
       "      <td>1.014241</td>\n",
       "      <td>0.972687</td>\n",
       "      <td>0.985947</td>\n",
       "      <td>0.978845</td>\n",
       "      <td>1.032179</td>\n",
       "      <td>0.990184</td>\n",
       "    </tr>\n",
       "    <tr>\n",
       "      <th>4</th>\n",
       "      <td>1.024508</td>\n",
       "      <td>0.991441</td>\n",
       "      <td>1.030027</td>\n",
       "      <td>0.974854</td>\n",
       "      <td>0.992705</td>\n",
       "      <td>1.012532</td>\n",
       "      <td>1.017870</td>\n",
       "      <td>1.006452</td>\n",
       "      <td>1.030925</td>\n",
       "      <td>1.011908</td>\n",
       "      <td>...</td>\n",
       "      <td>0.980279</td>\n",
       "      <td>1.017019</td>\n",
       "      <td>1.007474</td>\n",
       "      <td>0.991961</td>\n",
       "      <td>1.024932</td>\n",
       "      <td>0.970806</td>\n",
       "      <td>0.976227</td>\n",
       "      <td>0.974483</td>\n",
       "      <td>1.018932</td>\n",
       "      <td>0.986134</td>\n",
       "    </tr>\n",
       "    <tr>\n",
       "      <th>...</th>\n",
       "      <td>...</td>\n",
       "      <td>...</td>\n",
       "      <td>...</td>\n",
       "      <td>...</td>\n",
       "      <td>...</td>\n",
       "      <td>...</td>\n",
       "      <td>...</td>\n",
       "      <td>...</td>\n",
       "      <td>...</td>\n",
       "      <td>...</td>\n",
       "      <td>...</td>\n",
       "      <td>...</td>\n",
       "      <td>...</td>\n",
       "      <td>...</td>\n",
       "      <td>...</td>\n",
       "      <td>...</td>\n",
       "      <td>...</td>\n",
       "      <td>...</td>\n",
       "      <td>...</td>\n",
       "      <td>...</td>\n",
       "      <td>...</td>\n",
       "    </tr>\n",
       "    <tr>\n",
       "      <th>2516</th>\n",
       "      <td>1.756272</td>\n",
       "      <td>1.432030</td>\n",
       "      <td>4.560596</td>\n",
       "      <td>3.807270</td>\n",
       "      <td>1.001333</td>\n",
       "      <td>2.304215</td>\n",
       "      <td>2.434678</td>\n",
       "      <td>1.985222</td>\n",
       "      <td>3.661100</td>\n",
       "      <td>7.415737</td>\n",
       "      <td>...</td>\n",
       "      <td>1.526574</td>\n",
       "      <td>3.446530</td>\n",
       "      <td>3.887128</td>\n",
       "      <td>1.336417</td>\n",
       "      <td>2.150418</td>\n",
       "      <td>3.029829</td>\n",
       "      <td>4.528596</td>\n",
       "      <td>2.610200</td>\n",
       "      <td>1.826648</td>\n",
       "      <td>3.777885</td>\n",
       "    </tr>\n",
       "    <tr>\n",
       "      <th>2517</th>\n",
       "      <td>1.758629</td>\n",
       "      <td>1.418183</td>\n",
       "      <td>4.564536</td>\n",
       "      <td>3.842945</td>\n",
       "      <td>1.005427</td>\n",
       "      <td>2.289397</td>\n",
       "      <td>2.411652</td>\n",
       "      <td>1.979787</td>\n",
       "      <td>3.587415</td>\n",
       "      <td>7.344326</td>\n",
       "      <td>...</td>\n",
       "      <td>1.527530</td>\n",
       "      <td>3.435891</td>\n",
       "      <td>3.840666</td>\n",
       "      <td>1.328149</td>\n",
       "      <td>2.164499</td>\n",
       "      <td>3.024468</td>\n",
       "      <td>4.611917</td>\n",
       "      <td>2.629691</td>\n",
       "      <td>1.840509</td>\n",
       "      <td>3.760942</td>\n",
       "    </tr>\n",
       "    <tr>\n",
       "      <th>2518</th>\n",
       "      <td>1.741017</td>\n",
       "      <td>1.401965</td>\n",
       "      <td>4.471385</td>\n",
       "      <td>3.840270</td>\n",
       "      <td>1.005830</td>\n",
       "      <td>2.276876</td>\n",
       "      <td>2.425935</td>\n",
       "      <td>1.998412</td>\n",
       "      <td>3.566990</td>\n",
       "      <td>7.305379</td>\n",
       "      <td>...</td>\n",
       "      <td>1.515759</td>\n",
       "      <td>3.438918</td>\n",
       "      <td>3.810952</td>\n",
       "      <td>1.322435</td>\n",
       "      <td>2.166313</td>\n",
       "      <td>3.001399</td>\n",
       "      <td>4.653978</td>\n",
       "      <td>2.653636</td>\n",
       "      <td>1.842017</td>\n",
       "      <td>3.746585</td>\n",
       "    </tr>\n",
       "    <tr>\n",
       "      <th>2519</th>\n",
       "      <td>1.742394</td>\n",
       "      <td>1.399796</td>\n",
       "      <td>4.497004</td>\n",
       "      <td>3.852763</td>\n",
       "      <td>1.002451</td>\n",
       "      <td>2.289825</td>\n",
       "      <td>2.443820</td>\n",
       "      <td>2.009802</td>\n",
       "      <td>3.559222</td>\n",
       "      <td>7.162176</td>\n",
       "      <td>...</td>\n",
       "      <td>1.512251</td>\n",
       "      <td>3.444743</td>\n",
       "      <td>3.849975</td>\n",
       "      <td>1.317837</td>\n",
       "      <td>2.161638</td>\n",
       "      <td>2.996191</td>\n",
       "      <td>4.651354</td>\n",
       "      <td>2.693352</td>\n",
       "      <td>1.815710</td>\n",
       "      <td>3.757132</td>\n",
       "    </tr>\n",
       "    <tr>\n",
       "      <th>2520</th>\n",
       "      <td>1.734116</td>\n",
       "      <td>1.397164</td>\n",
       "      <td>4.473271</td>\n",
       "      <td>3.898527</td>\n",
       "      <td>1.007898</td>\n",
       "      <td>2.295295</td>\n",
       "      <td>2.484363</td>\n",
       "      <td>1.998328</td>\n",
       "      <td>3.526574</td>\n",
       "      <td>7.205089</td>\n",
       "      <td>...</td>\n",
       "      <td>1.519181</td>\n",
       "      <td>3.451517</td>\n",
       "      <td>3.858787</td>\n",
       "      <td>1.318266</td>\n",
       "      <td>2.172960</td>\n",
       "      <td>3.010028</td>\n",
       "      <td>4.700488</td>\n",
       "      <td>2.681163</td>\n",
       "      <td>1.809497</td>\n",
       "      <td>3.746530</td>\n",
       "    </tr>\n",
       "  </tbody>\n",
       "</table>\n",
       "<p>2521 rows × 500 columns</p>\n",
       "</div>"
      ],
      "text/plain": [
       "           0         1         2         3         4         5         6    \\\n",
       "0     1.000000  1.000000  1.000000  1.000000  1.000000  1.000000  1.000000   \n",
       "1     1.000276  1.003414  1.005383  0.994788  1.002467  1.000986  0.985903   \n",
       "2     1.008183  0.997602  1.000808  0.997921  0.989307  0.996414  0.975929   \n",
       "3     1.021155  0.983521  1.012460  0.981683  0.997162  1.002189  0.993752   \n",
       "4     1.024508  0.991441  1.030027  0.974854  0.992705  1.012532  1.017870   \n",
       "...        ...       ...       ...       ...       ...       ...       ...   \n",
       "2516  1.756272  1.432030  4.560596  3.807270  1.001333  2.304215  2.434678   \n",
       "2517  1.758629  1.418183  4.564536  3.842945  1.005427  2.289397  2.411652   \n",
       "2518  1.741017  1.401965  4.471385  3.840270  1.005830  2.276876  2.425935   \n",
       "2519  1.742394  1.399796  4.497004  3.852763  1.002451  2.289825  2.443820   \n",
       "2520  1.734116  1.397164  4.473271  3.898527  1.007898  2.295295  2.484363   \n",
       "\n",
       "           7         8         9    ...       490       491       492  \\\n",
       "0     1.000000  1.000000  1.000000  ...  1.000000  1.000000  1.000000   \n",
       "1     1.010955  1.008323  0.996705  ...  1.007012  0.997779  1.003030   \n",
       "2     1.015978  1.008069  1.015990  ...  0.993290  1.008746  0.995317   \n",
       "3     0.996257  1.015103  1.022309  ...  0.983251  1.008290  0.991700   \n",
       "4     1.006452  1.030925  1.011908  ...  0.980279  1.017019  1.007474   \n",
       "...        ...       ...       ...  ...       ...       ...       ...   \n",
       "2516  1.985222  3.661100  7.415737  ...  1.526574  3.446530  3.887128   \n",
       "2517  1.979787  3.587415  7.344326  ...  1.527530  3.435891  3.840666   \n",
       "2518  1.998412  3.566990  7.305379  ...  1.515759  3.438918  3.810952   \n",
       "2519  2.009802  3.559222  7.162176  ...  1.512251  3.444743  3.849975   \n",
       "2520  1.998328  3.526574  7.205089  ...  1.519181  3.451517  3.858787   \n",
       "\n",
       "           493       494       495       496       497       498       499  \n",
       "0     1.000000  1.000000  1.000000  1.000000  1.000000  1.000000  1.000000  \n",
       "1     1.005047  1.007891  0.982001  0.997983  0.993890  1.014529  1.004566  \n",
       "2     1.005645  1.011419  0.972830  1.008953  0.983457  1.027188  1.003980  \n",
       "3     0.998289  1.014241  0.972687  0.985947  0.978845  1.032179  0.990184  \n",
       "4     0.991961  1.024932  0.970806  0.976227  0.974483  1.018932  0.986134  \n",
       "...        ...       ...       ...       ...       ...       ...       ...  \n",
       "2516  1.336417  2.150418  3.029829  4.528596  2.610200  1.826648  3.777885  \n",
       "2517  1.328149  2.164499  3.024468  4.611917  2.629691  1.840509  3.760942  \n",
       "2518  1.322435  2.166313  3.001399  4.653978  2.653636  1.842017  3.746585  \n",
       "2519  1.317837  2.161638  2.996191  4.651354  2.693352  1.815710  3.757132  \n",
       "2520  1.318266  2.172960  3.010028  4.700488  2.681163  1.809497  3.746530  \n",
       "\n",
       "[2521 rows x 500 columns]"
      ]
     },
     "execution_count": 40,
     "metadata": {},
     "output_type": "execute_result"
    }
   ],
   "source": [
    "# Run the Monte Carlo simulation to forecast 10 years cumulative returns\n",
    "# YOUR CODE HERE\n",
    "\n",
    "MC_8020.calc_cumulative_return()"
   ]
  },
  {
   "cell_type": "code",
   "execution_count": 41,
   "metadata": {},
   "outputs": [
    {
     "data": {
      "text/plain": [
       "<Axes: title={'center': '500 Simulations of Cumulative Portfolio Return Trajectories Over the Next 2520 Trading Days.'}>"
      ]
     },
     "execution_count": 41,
     "metadata": {},
     "output_type": "execute_result"
    },
    {
     "data": {
      "image/png": "[encoded data removed]",
      "text/plain": [
       "<Figure size 640x480 with 1 Axes>"
      ]
     },
     "metadata": {},
     "output_type": "display_data"
    }
   ],
   "source": [
    "# Visualize the 10-year Monte Carlo simulation by creating an\n",
    "# overlay line plot\n",
    "# YOUR CODE HERE\n",
    "\n",
    "MC_8020.plot_simulation()\n"
   ]
  },
  {
   "cell_type": "code",
   "execution_count": 42,
   "metadata": {},
   "outputs": [
    {
     "data": {
      "text/plain": [
       "<Axes: title={'center': 'Distribution of Final Cumuluative Returns Across All 500 Simulations'}, ylabel='Frequency'>"
      ]
     },
     "execution_count": 42,
     "metadata": {},
     "output_type": "execute_result"
    },
    {
     "data": {
      "image/png": "[encoded data removed]",
      "text/plain": [
       "<Figure size 640x480 with 1 Axes>"
      ]
     },
     "metadata": {},
     "output_type": "display_data"
    }
   ],
   "source": [
    "# Visualize the probability distribution of the 10-year Monte Carlo simulation \n",
    "# by plotting a histogram\n",
    "# YOUR CODE HERE\n",
    "\n",
    "MC_8020.plot_distribution()"
   ]
  },
  {
   "cell_type": "code",
   "execution_count": 43,
   "metadata": {},
   "outputs": [
    {
     "name": "stdout",
     "output_type": "stream",
     "text": [
      "count           500.000000\n",
      "mean              3.027814\n",
      "std               1.550135\n",
      "min               0.726591\n",
      "25%               1.972775\n",
      "50%               2.697248\n",
      "75%               3.665470\n",
      "max              11.290485\n",
      "95% CI Lower      1.026328\n",
      "95% CI Upper      6.723739\n",
      "Name: 2520, dtype: float64\n"
     ]
    }
   ],
   "source": [
    "# Generate summary statistics from the 10-year Monte Carlo simulation results\n",
    "# Save the results as a variable\n",
    "# YOUR CODE HERE\n",
    "\n",
    "cum_return_table_10 = MC_8020.summarize_cumulative_return()\n",
    "\n",
    "# Review the 10-year Monte Carlo summary statistics\n",
    "# YOUR CODE HERE\n",
    "print(cum_return_table_10)"
   ]
  },
  {
   "cell_type": "markdown",
   "metadata": {},
   "source": [
    "### Answer the following questions:"
   ]
  },
  {
   "cell_type": "markdown",
   "metadata": {},
   "source": [
    "#### Question: Using the current value of only the stock and bond portion of the member's portfolio and the summary statistics that you generated from the new Monte Carlo simulation, what are the lower and upper bounds for the expected value of the portfolio (with the new weights) with a 95% confidence interval?"
   ]
  },
  {
   "cell_type": "code",
   "execution_count": 44,
   "metadata": {},
   "outputs": [
    {
     "name": "stdout",
     "output_type": "stream",
     "text": [
      "BTC Value: $36,218.40\n",
      "ETH Value: $10,123.11\n",
      "---------------------\n",
      "Total Crypto Value: $46,341.51\n",
      "\n",
      "\n",
      "AGG Value: $19,986.00\n",
      "SPY Value: $44,885.50\n",
      "---------------------\n",
      "Total Stock/Bond Value: $64,871.50\n",
      "\n",
      "Total Portfolio Value: $111,213.01\n",
      "\n",
      "95% Conf Interval in 10 year projection (excludes crypto)\n",
      "-------------------------------------\n",
      "Upper Bound: $436,179.06 IRR: 20.99% Multiple: 6.7x\n",
      "Lower Bound: $66,579.47 IRR: 0.26% Multiple: 1.0x\n"
     ]
    }
   ],
   "source": [
    "# Print the current balance of the stock and bond portion of the members portfolio\n",
    "# YOUR CODE HERE\n",
    "\n",
    "ci_lower_thirty_cumulative_return_10 = cum_return_table_10[\"95% CI Lower\"] * total_stocks_bonds\n",
    "ci_upper_thirty_cumulative_return_10 = cum_return_table_10[\"95% CI Upper\"] * total_stocks_bonds\n",
    "\n",
    "multiple_lower = cum_return_table_10[\"95% CI Lower\"]\n",
    "multiple_upper = cum_return_table_10[\"95% CI Upper\"]\n",
    "irr_lower_10 = multiple_lower ** (1/10) - 1\n",
    "irr_upper_10 = multiple_upper ** (1/10) - 1\n",
    "\n",
    "\n",
    "print( f\"BTC Value: ${btc_value:,.2f}\\nETH Value: ${eth_value:,.2f}\\n---------------------\")\n",
    "print( f\"Total Crypto Value: ${total_crypto_wallet:,.2f}\\n\\n\")\n",
    "\n",
    "print( f\"AGG Value: ${agg_value:,.2f}\\nSPY Value: ${spy_value:,.2f}\\n---------------------\")\n",
    "print( f\"Total Stock/Bond Value: ${total_stocks_bonds:,.2f}\\n\")\n",
    "\n",
    "print( f\"Total Portfolio Value: ${total_portfolio:,.2f}\\n\")\n",
    "print( f\"95% Conf Interval in 10 year projection (excludes crypto)\\n-------------------------------------\")\n",
    "print( f\"Upper Bound: ${ci_upper_thirty_cumulative_return_10:,.2f} IRR: {irr_upper_10:.2%} Multiple: {multiple_upper:.1f}x\")\n",
    "print( f\"Lower Bound: ${ci_lower_thirty_cumulative_return_10:,.2f} IRR: {irr_lower_10:.2%} Multiple: {multiple_lower:.1f}x\")\n",
    "\n",
    "\n"
   ]
  },
  {
   "cell_type": "code",
   "execution_count": 45,
   "metadata": {},
   "outputs": [],
   "source": [
    "# Use the lower and upper `95%` confidence intervals to calculate the range of the possible outcomes for the current stock/bond portfolio\n",
    "#ci_lower_ten_cumulative_return = # YOUR CODE HERE\n",
    "#ci_upper_ten_cumulative_return = # YOUR CODE HERE\n",
    "\n",
    "# Print the result of your calculations\n",
    "# YOUR CODE HERE\n"
   ]
  },
  {
   "cell_type": "markdown",
   "metadata": {},
   "source": [
    "#### Question: Will weighting the portfolio more heavily to stocks allow the credit union members to retire after only 10 years?"
   ]
  },
  {
   "cell_type": "raw",
   "metadata": {},
   "source": [
    "No, the member could have a scenario where they have only made 1.0x their current stock/bond portfolio. \n",
    "That would leave them with less than a year of income in savings.  Even if things go very well, they would have\n",
    "only generated 3 years their current income ( 12k month x 12 month = 144k ). \n",
    "That would not leave them with very much runway if they want a long retirement."
   ]
  },
  {
   "cell_type": "code",
   "execution_count": null,
   "metadata": {},
   "outputs": [],
   "source": []
  }
 ],
 "metadata": {
  "kernelspec": {
   "display_name": "dev",
   "language": "python",
   "name": "python3"
  },
  "language_info": {
   "codemirror_mode": {
    "name": "ipython",
    "version": 3
   },
   "file_extension": ".py",
   "mimetype": "text/x-python",
   "name": "python",
   "nbconvert_exporter": "python",
   "pygments_lexer": "ipython3",
   "version": "3.8.16"
  }
 },
 "nbformat": 4,
 "nbformat_minor": 4
}
