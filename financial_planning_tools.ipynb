{
 "cells": [
  {
   "cell_type": "markdown",
   "metadata": {},
   "source": [
    "# Financial Planning with APIs and Simulations\n",
    "\n",
    "In this Challenge, you’ll create two financial analysis tools by using a single Jupyter notebook:\n",
    "\n",
    "Part 1: A financial planner for emergencies. The members will be able to use this tool to visualize their current savings. The members can then determine if they have enough reserves for an emergency fund.\n",
    "\n",
    "Part 2: A financial planner for retirement. This tool will forecast the performance of their retirement portfolio in 30 years. To do this, the tool will make an Alpaca API call via the Alpaca SDK to get historical price data for use in Monte Carlo simulations.\n",
    "\n",
    "You’ll use the information from the Monte Carlo simulation to answer questions about the portfolio in your Jupyter notebook.\n",
    "\n"
   ]
  },
  {
   "cell_type": "code",
   "execution_count": 1,
   "metadata": {},
   "outputs": [],
   "source": [
    "# Import the required libraries and dependencies\n",
    "import os\n",
    "import requests\n",
    "import json\n",
    "import pandas as pd\n",
    "from dotenv import load_dotenv\n",
    "import alpaca_trade_api as tradeapi\n",
    "from MCForecastTools import MCSimulation\n",
    "\n",
    "%matplotlib inline"
   ]
  },
  {
   "cell_type": "code",
   "execution_count": 2,
   "metadata": {},
   "outputs": [
    {
     "data": {
      "text/plain": [
       "True"
      ]
     },
     "execution_count": 2,
     "metadata": {},
     "output_type": "execute_result"
    }
   ],
   "source": [
    "# Load the environment variables from the .env file\n",
    "#by calling the load_dotenv function\n",
    "load_dotenv()"
   ]
  },
  {
   "cell_type": "markdown",
   "metadata": {},
   "source": [
    "## Part 1: Create a Financial Planner for Emergencies"
   ]
  },
  {
   "cell_type": "markdown",
   "metadata": {},
   "source": [
    "### Evaluate the Cryptocurrency Wallet by Using the Requests Library\n",
    "\n",
    "In this section, you’ll determine the current value of a member’s cryptocurrency wallet. You’ll collect the current prices for the Bitcoin and Ethereum cryptocurrencies by using the Python Requests library. For the prototype, you’ll assume that the member holds the 1.2 Bitcoins (BTC) and 5.3 Ethereum coins (ETH). To do all this, complete the following steps:\n",
    "\n",
    "1. Create a variable named `monthly_income`, and set its value to `12000`.\n",
    "\n",
    "2. Use the Requests library to get the current price (in US dollars) of Bitcoin (BTC) and Ethereum (ETH) by using the API endpoints that the starter code supplies.\n",
    "\n",
    "3. Navigate the JSON response object to access the current price of each coin, and store each in a variable.\n",
    "\n",
    "    > **Hint** Note the specific identifier for each cryptocurrency in the API JSON response. The Bitcoin identifier is `1`, and the Ethereum identifier is `1027`.\n",
    "\n",
    "4. Calculate the value, in US dollars, of the current amount of each cryptocurrency and of the entire cryptocurrency wallet.\n",
    "\n"
   ]
  },
  {
   "cell_type": "code",
   "execution_count": 3,
   "metadata": {},
   "outputs": [],
   "source": [
    "# The current number of coins for each cryptocurrency asset held in the portfolio.\n",
    "btc_coins = 1.2\n",
    "eth_coins = 5.3"
   ]
  },
  {
   "cell_type": "markdown",
   "metadata": {},
   "source": [
    "#### Step 1: Create a variable named `monthly_income`, and set its value to `12000`."
   ]
  },
  {
   "cell_type": "code",
   "execution_count": 4,
   "metadata": {},
   "outputs": [],
   "source": [
    "# The monthly amount for the member's household income\n",
    "# YOUR CODE HERE\n",
    "\n",
    "monthly_income = 12000\n"
   ]
  },
  {
   "cell_type": "markdown",
   "metadata": {},
   "source": [
    "#### Review the endpoint URLs for the API calls to Free Crypto API in order to get the current pricing information for both BTC and ETH."
   ]
  },
  {
   "cell_type": "code",
   "execution_count": 5,
   "metadata": {},
   "outputs": [],
   "source": [
    "# The Free Crypto API Call endpoint URLs for the held cryptocurrency assets\n",
    "btc_url = \"https://api.alternative.me/v2/ticker/Bitcoin/?convert=USD\"\n",
    "eth_url = \"https://api.alternative.me/v2/ticker/Ethereum/?convert=USD\""
   ]
  },
  {
   "cell_type": "markdown",
   "metadata": {},
   "source": [
    "#### Step 2. Use the Requests library to get the current price (in US dollars) of Bitcoin (BTC) and Ethereum (ETH) by using the API endpoints that the starter code supplied."
   ]
  },
  {
   "cell_type": "code",
   "execution_count": 6,
   "metadata": {},
   "outputs": [
    {
     "name": "stdout",
     "output_type": "stream",
     "text": [
      "{\n",
      "    \"data\": {\n",
      "        \"1\": {\n",
      "            \"circulating_supply\": 19339412,\n",
      "            \"id\": 1,\n",
      "            \"last_updated\": 1680846868,\n",
      "            \"max_supply\": 21000000,\n",
      "            \"name\": \"Bitcoin\",\n",
      "            \"quotes\": {\n",
      "                \"USD\": {\n",
      "                    \"market_cap\": 541006554676,\n",
      "                    \"percent_change_1h\": -0.146598925276682,\n",
      "                    \"percent_change_24h\": -0.217937265741503,\n",
      "                    \"percent_change_7d\": -0.20969585762193,\n",
      "                    \"percentage_change_1h\": -0.146598925276682,\n",
      "                    \"percentage_change_24h\": -0.217937265741503,\n",
      "                    \"percentage_change_7d\": -0.20969585762193,\n",
      "                    \"price\": 27982.0,\n",
      "                    \"volume_24h\": 12301834205\n",
      "                }\n",
      "            },\n",
      "            \"rank\": 1,\n",
      "            \"symbol\": \"BTC\",\n",
      "            \"total_supply\": 19339412,\n",
      "            \"website_slug\": \"bitcoin\"\n",
      "        }\n",
      "    },\n",
      "    \"metadata\": {\n",
      "        \"error\": null,\n",
      "        \"num_cryptocurrencies\": 3119,\n",
      "        \"timestamp\": 1680846868\n",
      "    }\n",
      "}\n"
     ]
    }
   ],
   "source": [
    "# Using the Python requests library, make an API call to access the current price of BTC\n",
    "btc_response = requests.get(btc_url).json()\n",
    "\n",
    "# Display the response data\n",
    "print(json.dumps(btc_response, indent=4, sort_keys=True))\n",
    "\n",
    "# Use the json.dumps function to review the response data from the API call\n",
    "# Use the indent and sort_keys parameters to make the response object readable\n",
    "# YOUR CODE HERE\n"
   ]
  },
  {
   "cell_type": "code",
   "execution_count": 7,
   "metadata": {},
   "outputs": [
    {
     "name": "stdout",
     "output_type": "stream",
     "text": [
      "{\n",
      "    \"data\": {\n",
      "        \"1027\": {\n",
      "            \"circulating_supply\": 120440077,\n",
      "            \"id\": 1027,\n",
      "            \"last_updated\": 1680846869,\n",
      "            \"max_supply\": 120441313,\n",
      "            \"name\": \"Ethereum\",\n",
      "            \"quotes\": {\n",
      "                \"USD\": {\n",
      "                    \"market_cap\": 225249297927,\n",
      "                    \"percent_change_1h\": -0.320277965635983,\n",
      "                    \"percent_change_24h\": -0.973035734574788,\n",
      "                    \"percent_change_7d\": 4.30500831886448,\n",
      "                    \"percentage_change_1h\": -0.320277965635983,\n",
      "                    \"percentage_change_24h\": -0.973035734574788,\n",
      "                    \"percentage_change_7d\": 4.30500831886448,\n",
      "                    \"price\": 1870.09,\n",
      "                    \"volume_24h\": 9568276920\n",
      "                }\n",
      "            },\n",
      "            \"rank\": 2,\n",
      "            \"symbol\": \"ETH\",\n",
      "            \"total_supply\": 120440077,\n",
      "            \"website_slug\": \"ethereum\"\n",
      "        }\n",
      "    },\n",
      "    \"metadata\": {\n",
      "        \"error\": null,\n",
      "        \"num_cryptocurrencies\": 3119,\n",
      "        \"timestamp\": 1680846869\n",
      "    }\n",
      "}\n"
     ]
    }
   ],
   "source": [
    "# Using the Python requests library, make an API call to access the current price ETH\n",
    "eth_response = requests.get(eth_url).json()\n",
    "\n",
    "# Display the response data\n",
    "print(json.dumps(eth_response, indent=4, sort_keys=True))\n",
    "\n",
    "\n",
    "\n",
    "# Use the json.dumps function to review the response data from the API call\n",
    "# Use the indent and sort_keys parameters to make the response object readable\n",
    "# YOUR CODE HERE\n"
   ]
  },
  {
   "cell_type": "markdown",
   "metadata": {},
   "source": [
    "#### Step 3: Navigate the JSON response object to access the current price of each coin, and store each in a variable."
   ]
  },
  {
   "cell_type": "code",
   "execution_count": 8,
   "metadata": {},
   "outputs": [],
   "source": [
    "# Navigate the BTC response object to access the current price of BTC\n",
    "btc_price = btc_response[\"data\"][\"1\"][\"quotes\"][\"USD\"][\"price\"]\n",
    "\n",
    "# Print the current price of BTC\n",
    "# YOUR CODE HERE\n"
   ]
  },
  {
   "cell_type": "code",
   "execution_count": 9,
   "metadata": {},
   "outputs": [],
   "source": [
    "# Navigate the BTC response object to access the current price of ETH\n",
    "\n",
    "eth_price = eth_response[\"data\"][\"1027\"][\"quotes\"][\"USD\"][\"price\"]\n",
    "\n",
    "# Print the current price of ETH\n",
    "# YOUR CODE HERE\n"
   ]
  },
  {
   "cell_type": "markdown",
   "metadata": {},
   "source": [
    "### Step 4: Calculate the value, in US dollars, of the current amount of each cryptocurrency and of the entire cryptocurrency wallet."
   ]
  },
  {
   "cell_type": "code",
   "execution_count": 10,
   "metadata": {},
   "outputs": [],
   "source": [
    "# Compute the current value of the BTC holding \n",
    "btc_value = btc_price * btc_coins \n",
    "\n",
    "\n",
    "# Print current value of your holding in BTC\n",
    "# YOUR CODE HERE\n"
   ]
  },
  {
   "cell_type": "code",
   "execution_count": 11,
   "metadata": {},
   "outputs": [],
   "source": [
    "# Compute the current value of the ETH holding \n",
    "eth_value = eth_price * eth_coins\n",
    "\n",
    "# Print current value of your holding in ETH\n",
    "# YOUR CODE HERE\n"
   ]
  },
  {
   "cell_type": "code",
   "execution_count": 12,
   "metadata": {},
   "outputs": [],
   "source": [
    "# Compute the total value of the cryptocurrency wallet\n",
    "# Add the value of the BTC holding to the value of the ETH holding\n",
    "total_crypto_wallet = btc_value + eth_value\n",
    "\n",
    "\n",
    "# Print current cryptocurrency wallet balance\n",
    "# YOUR CODE HERE\n"
   ]
  },
  {
   "cell_type": "markdown",
   "metadata": {},
   "source": [
    "### Evaluate the Stock and Bond Holdings by Using the Alpaca SDK\n",
    "\n",
    "In this section, you’ll determine the current value of a member’s stock and bond holdings. You’ll make an API call to Alpaca via the Alpaca SDK to get the current closing prices of the SPDR S&P 500 ETF Trust (ticker: SPY) and of the iShares Core US Aggregate Bond ETF (ticker: AGG). For the prototype, assume that the member holds 110 shares of SPY, which represents the stock portion of their portfolio, and 200 shares of AGG, which represents the bond portion. To do all this, complete the following steps:\n",
    "\n",
    "1. In the `Starter_Code` folder, create an environment file (`.env`) to store the values of your Alpaca API key and Alpaca secret key.\n",
    "\n",
    "2. Set the variables for the Alpaca API and secret keys. Using the Alpaca SDK, create the Alpaca `tradeapi.REST` object. In this object, include the parameters for the Alpaca API key, the secret key, and the version number.\n",
    "\n",
    "3. Set the following parameters for the Alpaca API call:\n",
    "\n",
    "    - `tickers`: Use the tickers for the member’s stock and bond holdings.\n",
    "\n",
    "    - `timeframe`: Use a time frame of one day.\n",
    "\n",
    "    - `start_date` and `end_date`: Use the same date for these parameters, and format them with the date of the previous weekday (or `2020-08-07`). This is because you want the one closing price for the most-recent trading day.\n",
    "\n",
    "4. Get the current closing prices for `SPY` and `AGG` by using the Alpaca `get_bars` function. Format the response as a Pandas DataFrame by including the `df` property at the end of the `get_bars` function.\n",
    "\n",
    "5. Navigating the Alpaca response DataFrame, select the `SPY` and `AGG` closing prices, and store them as variables.\n",
    "\n",
    "6. Calculate the value, in US dollars, of the current amount of shares in each of the stock and bond portions of the portfolio, and print the results.\n"
   ]
  },
  {
   "cell_type": "markdown",
   "metadata": {},
   "source": [
    "#### Review the total number of shares held in both (SPY) and (AGG)."
   ]
  },
  {
   "cell_type": "code",
   "execution_count": 13,
   "metadata": {},
   "outputs": [],
   "source": [
    "# Current amount of shares held in both the stock (SPY) and bond (AGG) portion of the portfolio.\n",
    "spy_shares = 110\n",
    "agg_shares = 200\n"
   ]
  },
  {
   "cell_type": "markdown",
   "metadata": {},
   "source": [
    "#### Step 1: In the `Starter_Code` folder, create an environment file (`.env`) to store the values of your Alpaca API key and Alpaca secret key."
   ]
  },
  {
   "cell_type": "markdown",
   "metadata": {},
   "source": [
    "#### Step 2: Set the variables for the Alpaca API and secret keys. Using the Alpaca SDK, create the Alpaca `tradeapi.REST` object. In this object, include the parameters for the Alpaca API key, the secret key, and the version number."
   ]
  },
  {
   "cell_type": "code",
   "execution_count": 14,
   "metadata": {},
   "outputs": [],
   "source": [
    "# Set the variables for the Alpaca API and secret keys\n",
    "\n",
    "alpaca_api_key = os.getenv(\"ALPACA_API_KEY\")\n",
    "alpaca_secret_key = os.getenv(\"ALPACA_SECRET_KEY\")\n",
    "\n",
    "\n",
    "# Create the Alpaca tradeapi.REST object\n",
    "alpaca = tradeapi.REST(\n",
    "    alpaca_api_key,\n",
    "    alpaca_secret_key,\n",
    "    api_version=\"v2\")\n"
   ]
  },
  {
   "cell_type": "code",
   "execution_count": 15,
   "metadata": {},
   "outputs": [],
   "source": [
    "# Helpful function to get a nicely formatted df from a list of tickers\n",
    "\n",
    "def get_price_df(tickers, start_date, end_date, timeframe):\n",
    "\n",
    "    raw_df = alpaca.get_bars(tickers, timeframe, start=start_date, end=end_date).df\n",
    "    df_dict = {}\n",
    "\n",
    "    for ticker in tickers:\n",
    "        df_dict[ticker] = raw_df[raw_df['symbol']==ticker].drop('symbol', axis=1)\n",
    "\n",
    "\n",
    "    output_df = pd.concat(list(df_dict.values()), axis=1, keys=list(df_dict.keys()))\n",
    "\n",
    "    return output_df\n",
    "\n",
    "    "
   ]
  },
  {
   "cell_type": "markdown",
   "metadata": {},
   "source": [
    "#### Step 3: Set the following parameters for the Alpaca API call:\n",
    "\n",
    "- `tickers`: Use the tickers for the member’s stock and bond holdings.\n",
    "\n",
    "- `timeframe`: Use a time frame of one day.\n",
    "\n",
    "- `start_date` and `end_date`: Use the same date for these parameters, and format them with the date of the previous weekday (or `2020-08-07`). This is because you want the one closing price for the most-recent trading day.\n"
   ]
  },
  {
   "cell_type": "code",
   "execution_count": 16,
   "metadata": {},
   "outputs": [],
   "source": [
    "# Set the tickers for both the bond and stock portion of the portfolio\n",
    "# YOUR CODE HERE\n",
    "\n",
    "tickers = [\"AGG\", \"SPY\"]\n",
    "timeframe = \"1Day\"\n",
    "\n",
    "today = pd.Timestamp.today()\n",
    "\n",
    "if(today.weekday() == 6):\n",
    "    today = today - pd.Timedelta(\"2 days\")\n",
    "elif(today.weekday() == 5):\n",
    "    today = today - pd.Timedelta(\"1 days\")\n",
    "\n",
    "today =  pd.Timestamp(year=today.year, month=today.month, day = today.day, tz=\"America/New_York\")\n",
    "\n",
    "start_date = today.isoformat()\n",
    "\n",
    "#end_date = today.isoformat()\n",
    "\n",
    "\n",
    "\n",
    "\n",
    " \n",
    "# YOUR CODE HERE\n",
    "\n",
    "# Format current date as ISO format\n",
    "# Set both the start and end date at the date of your prior weekday \n",
    "# This will give you the closing price of the previous trading day\n",
    "# Alternatively you can use a start and end date of 2020-08-07\n",
    "# YOUR CODE HERE\n",
    "# YOUR CODE HERE\n"
   ]
  },
  {
   "cell_type": "markdown",
   "metadata": {},
   "source": [
    "#### Step 4: Get the current closing prices for `SPY` and `AGG` by using the Alpaca `get_bars` function. Format the response as a Pandas DataFrame by including the `df` property at the end of the `get_bars` function."
   ]
  },
  {
   "cell_type": "code",
   "execution_count": 17,
   "metadata": {},
   "outputs": [],
   "source": [
    "# Use the Alpaca get_bars function to get current closing prices the portfolio\n",
    "# Be sure to set the `df` property after the function to format the response object as a DataFrame\n",
    "# YOUR CODE HERE\n",
    "\n",
    "# Reorganize the DataFrame\n",
    "# Separate ticker data\n",
    "# YOUR CODE HERE\n",
    "\n",
    "# Concatenate the ticker DataFrames\n",
    "# YOUR CODE HERE\n",
    "#start_date = pd.Timestamp(\"2022-04-04\", tz=\"America/New_York\").isoformat()\n",
    "#end_date = pd.Timestamp(\"2022-04-04\", tz=\"America/New_York\").isoformat()\n",
    "\n",
    "# raw_df = alpaca.get_bars(tickers, timeframe, start=start_date, end=end_date).df\n",
    "# df_dict = {}\n",
    "\n",
    "# for ticker in tickers:\n",
    "#     df_dict[ticker] = raw_df[raw_df['symbol']==ticker].drop('symbol', axis=1)\n",
    "\n",
    "# output_df = pd.concat(list(df_dict.values()), axis=1, keys=list(df_dict.keys()))\n",
    "\n",
    "\n",
    "price_df = get_price_df(tickers, start_date, start_date, timeframe)\n",
    "# Review the first 5 rows of the Alpaca DataFrame\n",
    "# YOUR CODE HERE\n"
   ]
  },
  {
   "cell_type": "markdown",
   "metadata": {},
   "source": [
    "#### Step 5: Navigating the Alpaca response DataFrame, select the `SPY` and `AGG` closing prices, and store them as variables."
   ]
  },
  {
   "cell_type": "code",
   "execution_count": 18,
   "metadata": {},
   "outputs": [
    {
     "name": "stdout",
     "output_type": "stream",
     "text": [
      "100.44\n"
     ]
    }
   ],
   "source": [
    "# Access the closing price for AGG from the Alpaca DataFrame\n",
    "# Converting the value to a floating point number\n",
    "agg_close_price = price_df[\"AGG\"][\"close\"][0]\n",
    "\n",
    "\n",
    "# Print the AGG closing price\n",
    "# YOUR CODE HERE\n",
    "print(agg_close_price)\n"
   ]
  },
  {
   "cell_type": "code",
   "execution_count": 19,
   "metadata": {},
   "outputs": [
    {
     "name": "stdout",
     "output_type": "stream",
     "text": [
      "409.19\n"
     ]
    }
   ],
   "source": [
    "# Access the closing price for SPY from the Alpaca DataFrame\n",
    "# Converting the value to a floating point number\n",
    "spy_close_price = price_df[\"SPY\"][\"close\"][0]\n",
    "\n",
    "# Print the SPY closing price\n",
    "# YOUR CODE HERE\n",
    "print(spy_close_price)\n"
   ]
  },
  {
   "cell_type": "markdown",
   "metadata": {},
   "source": [
    "#### Step 6: Calculate the value, in US dollars, of the current amount of shares in each of the stock and bond portions of the portfolio, and print the results."
   ]
  },
  {
   "cell_type": "code",
   "execution_count": 20,
   "metadata": {},
   "outputs": [
    {
     "name": "stdout",
     "output_type": "stream",
     "text": [
      "20088.0\n"
     ]
    }
   ],
   "source": [
    "# Calculate the current value of the bond portion of the portfolio\n",
    "agg_value = agg_close_price * agg_shares\n",
    "# Print the current value of the bond portfolio\n",
    "\n",
    "print   (agg_value)\n",
    "# YOUR CODE HERE\n"
   ]
  },
  {
   "cell_type": "code",
   "execution_count": 21,
   "metadata": {},
   "outputs": [
    {
     "name": "stdout",
     "output_type": "stream",
     "text": [
      "45010.9\n"
     ]
    }
   ],
   "source": [
    "# Calculate the current value of the stock portion of the portfolio\n",
    "spy_value = spy_close_price * spy_shares\n",
    "\n",
    "# Print the current value of the stock portfolio\n",
    "\n",
    "print(spy_value)\n",
    "\n",
    "\n"
   ]
  },
  {
   "cell_type": "code",
   "execution_count": 22,
   "metadata": {},
   "outputs": [
    {
     "name": "stdout",
     "output_type": "stream",
     "text": [
      "65098.9\n"
     ]
    }
   ],
   "source": [
    "# Calculate the total value of the stock and bond portion of the portfolio\n",
    "total_stocks_bonds = agg_value + spy_value\n",
    "\n",
    "# Print the current balance of the stock and bond portion of the portfolio\n",
    "# YOUR CODE HERE\n",
    "print  (total_stocks_bonds)\n",
    "\n"
   ]
  },
  {
   "cell_type": "code",
   "execution_count": 23,
   "metadata": {},
   "outputs": [],
   "source": [
    "# Calculate the total value of the member's entire savings portfolio\n",
    "# Add the value of the cryptocurrency walled to the value of the total stocks and bonds\n",
    "total_portfolio = total_crypto_wallet + total_stocks_bonds\n",
    "\n",
    "# Print current cryptocurrency wallet balance\n",
    "# YOUR CODE HERE\n"
   ]
  },
  {
   "cell_type": "markdown",
   "metadata": {},
   "source": [
    "### Evaluate the Emergency Fund\n",
    "\n",
    "In this section, you’ll use the valuations for the cryptocurrency wallet and for the stock and bond portions of the portfolio to determine if the credit union member has enough savings to build an emergency fund into their financial plan. To do this, complete the following steps:\n",
    "\n",
    "1. Create a Python list named `savings_data` that has two elements. The first element contains the total value of the cryptocurrency wallet. The second element contains the total value of the stock and bond portions of the portfolio.\n",
    "\n",
    "2. Use the `savings_data` list to create a Pandas DataFrame named `savings_df`, and then display this DataFrame. The function to create the DataFrame should take the following three parameters:\n",
    "\n",
    "    - `savings_data`: Use the list that you just created.\n",
    "\n",
    "    - `columns`: Set this parameter equal to a Python list with a single value called `amount`.\n",
    "\n",
    "    - `index`: Set this parameter equal to a Python list with the values of `crypto` and `stock/bond`.\n",
    "\n",
    "3. Use the `savings_df` DataFrame to plot a pie chart that visualizes the composition of the member’s portfolio. The y-axis of the pie chart uses `amount`. Be sure to add a title.\n",
    "\n",
    "4. Using Python, determine if the current portfolio has enough to create an emergency fund as part of the member’s financial plan. Ideally, an emergency fund should equal to three times the member’s monthly income. To do this, implement the following steps:\n",
    "\n",
    "    1. Create a variable named `emergency_fund_value`, and set it equal to three times the value of the member’s `monthly_income` of $12000. (You set this earlier in Part 1).\n",
    "\n",
    "    2. Create a series of three if statements to determine if the member’s total portfolio is large enough to fund the emergency portfolio:\n",
    "\n",
    "        1. If the total portfolio value is greater than the emergency fund value, display a message congratulating the member for having enough money in this fund.\n",
    "\n",
    "        2. Else if the total portfolio value is equal to the emergency fund value, display a message congratulating the member on reaching this important financial goal.\n",
    "\n",
    "        3. Else the total portfolio is less than the emergency fund value, so display a message showing how many dollars away the member is from reaching the goal. (Subtract the total portfolio value from the emergency fund value.)\n"
   ]
  },
  {
   "cell_type": "markdown",
   "metadata": {},
   "source": [
    "#### Step 1: Create a Python list named `savings_data` that has two elements. The first element contains the total value of the cryptocurrency wallet. The second element contains the total value of the stock and bond portions of the portfolio."
   ]
  },
  {
   "cell_type": "code",
   "execution_count": 24,
   "metadata": {},
   "outputs": [
    {
     "name": "stdout",
     "output_type": "stream",
     "text": [
      "[43489.877, 65098.9]\n"
     ]
    }
   ],
   "source": [
    "# Consolidate financial assets data into a Python list\n",
    "# YOUR CODE HERE\n",
    "\n",
    "savings_data = [total_crypto_wallet, total_stocks_bonds]\n",
    "\n",
    "# Review the Python list savings_data\n",
    "print(savings_data)\n",
    "# YOUR CODE HERE\n",
    "    "
   ]
  },
  {
   "cell_type": "markdown",
   "metadata": {},
   "source": [
    "#### Step 2: Use the `savings_data` list to create a Pandas DataFrame named `savings_df`, and then display this DataFrame. The function to create the DataFrame should take the following three parameters:\n",
    "\n",
    "- `savings_data`: Use the list that you just created.\n",
    "\n",
    "- `columns`: Set this parameter equal to a Python list with a single value called `amount`.\n",
    "\n",
    "- `index`: Set this parameter equal to a Python list with the values of `crypto` and `stock/bond`.\n"
   ]
  },
  {
   "cell_type": "code",
   "execution_count": 25,
   "metadata": {},
   "outputs": [
    {
     "name": "stdout",
     "output_type": "stream",
     "text": [
      "           amount\n",
      "crypto  43489.877\n",
      "stocks  65098.900\n"
     ]
    }
   ],
   "source": [
    "# Create a Pandas DataFrame called savings_df \n",
    "# YOUR CODE HERE\n",
    "\n",
    "savings_df = pd.DataFrame(savings_data, index = [\"crypto\", \"stocks\"], columns = [\"amount\"])\n",
    "\n",
    "# Display the savings_df DataFrame\n",
    "# YOUR CODE HERE\n",
    "print(savings_df)"
   ]
  },
  {
   "cell_type": "markdown",
   "metadata": {},
   "source": [
    "#### Step 3: Use the `savings_df` DataFrame to plot a pie chart that visualizes the composition of the member’s portfolio. The y-axis of the pie chart uses `amount`. Be sure to add a title."
   ]
  },
  {
   "cell_type": "code",
   "execution_count": 26,
   "metadata": {},
   "outputs": [
    {
     "data": {
      "text/plain": [
       "<AxesSubplot:title={'center':'Portfolio Composition'}, ylabel='amount'>"
      ]
     },
     "execution_count": 26,
     "metadata": {},
     "output_type": "execute_result"
    },
    {
     "data": {
      "image/png": "[encoded data removed]",
      "text/plain": [
       "<Figure size 640x480 with 1 Axes>"
      ]
     },
     "metadata": {},
     "output_type": "display_data"
    }
   ],
   "source": [
    "# Plot the total value of the member's portfolio (crypto and stock/bond) in a pie chart\n",
    "# YOUR CODE HERE\n",
    "\n",
    "savings_df.plot.pie(y=\"amount\", title=\"Portfolio Composition\")"
   ]
  },
  {
   "cell_type": "markdown",
   "metadata": {},
   "source": [
    "#### Step 4: Using Python, determine if the current portfolio has enough to create an emergency fund as part of the member’s financial plan. Ideally, an emergency fund should equal to three times the member’s monthly income. To do this, implement the following steps:\n",
    "\n",
    "Step 1. Create a variable named `emergency_fund_value`, and set it equal to three times the value of the member’s `monthly_income` of 12000. (You set this earlier in Part 1).\n",
    "\n",
    "Step 2. Create a series of three if statements to determine if the member’s total portfolio is large enough to fund the emergency portfolio:\n",
    "\n",
    "* If the total portfolio value is greater than the emergency fund value, display a message congratulating the member for having enough money in this fund.\n",
    "\n",
    "* Else if the total portfolio value is equal to the emergency fund value, display a message congratulating the member on reaching this important financial goal.\n",
    "\n",
    "* Else the total portfolio is less than the emergency fund value, so display a message showing how many dollars away the member is from reaching the goal. (Subtract the total portfolio value from the emergency fund value.)\n"
   ]
  },
  {
   "cell_type": "markdown",
   "metadata": {},
   "source": [
    "##### Step 4-1: Create a variable named `emergency_fund_value`, and set it equal to three times the value of the member’s `monthly_income` of 12000. (You set this earlier in Part 1)."
   ]
  },
  {
   "cell_type": "code",
   "execution_count": 27,
   "metadata": {},
   "outputs": [],
   "source": [
    "# Create a variable named emergency_fund_value\n",
    "# YOUR CODE HERE\n",
    "\n",
    "emergency_fund_value = 3 * monthly_income\n",
    "\n"
   ]
  },
  {
   "cell_type": "markdown",
   "metadata": {},
   "source": [
    "##### Step 4-2: Create a series of three if statements to determine if the member’s total portfolio is large enough to fund the emergency portfolio:\n",
    "\n",
    "* If the total portfolio value is greater than the emergency fund value, display a message congratulating the member for having enough money in this fund.\n",
    "\n",
    "* Else if the total portfolio value is equal to the emergency fund value, display a message congratulating the member on reaching this important financial goal.\n",
    "\n",
    "* Else the total portfolio is less than the emergency fund value, so display a message showing how many dollars away the member is from reaching the goal. (Subtract the total portfolio value from the emergency fund value.)"
   ]
  },
  {
   "cell_type": "code",
   "execution_count": 28,
   "metadata": {},
   "outputs": [
    {
     "name": "stdout",
     "output_type": "stream",
     "text": [
      "Congratulations! You have enough money in your emergency fund.\n"
     ]
    }
   ],
   "source": [
    "# Evaluate the possibility of creating an emergency fund with 3 conditions:\n",
    "\n",
    "if(total_portfolio > emergency_fund_value):\n",
    "    print(\"Congratulations! You have enough money in your emergency fund.\")\n",
    "elif(total_portfolio == emergency_fund_value):\n",
    "    print(\"Congratulations on reaching this financial goal!\")\n",
    "else:\n",
    "    print(f\"You are ${abs(emergency_fund_value - total_portfolio):.2f} away from reaching your goal\")\n"
   ]
  },
  {
   "cell_type": "markdown",
   "metadata": {},
   "source": [
    "## Part 2: Create a Financial Planner for Retirement"
   ]
  },
  {
   "cell_type": "markdown",
   "metadata": {},
   "source": [
    "### Create the Monte Carlo Simulation\n",
    "\n",
    "In this section, you’ll use the MCForecastTools library to create a Monte Carlo simulation for the member’s savings portfolio. To do this, complete the following steps:\n",
    "\n",
    "1. Make an API call via the Alpaca SDK to get 3 years of historical closing prices for a traditional 60/40 portfolio split: 60% stocks (SPY) and 40% bonds (AGG).\n",
    "\n",
    "2. Run a Monte Carlo simulation of 500 samples and 30 years for the 60/40 portfolio, and then plot the results.The following image shows the overlay line plot resulting from a simulation with these characteristics. However, because a random number generator is used to run each live Monte Carlo simulation, your image will differ slightly from this exact image:\n",
    "\n",
    "![A screenshot depicts the resulting plot.](Images/5-4-monte-carlo-line-plot.png)\n",
    "\n",
    "3. Plot the probability distribution of the Monte Carlo simulation. Plot the probability distribution of the Monte Carlo simulation. The following image shows the histogram plot resulting from a simulation with these characteristics. However, because a random number generator is used to run each live Monte Carlo simulation, your image will differ slightly from this exact image:\n",
    "\n",
    "![A screenshot depicts the histogram plot.](Images/5-4-monte-carlo-histogram.png)\n",
    "\n",
    "4. Generate the summary statistics for the Monte Carlo simulation.\n",
    "\n"
   ]
  },
  {
   "cell_type": "markdown",
   "metadata": {},
   "source": [
    "#### Step 1: Make an API call via the Alpaca SDK to get 3 years of historical closing prices for a traditional 60/40 portfolio split: 60% stocks (SPY) and 40% bonds (AGG)."
   ]
  },
  {
   "cell_type": "code",
   "execution_count": null,
   "metadata": {},
   "outputs": [],
   "source": []
  },
  {
   "cell_type": "code",
   "execution_count": 29,
   "metadata": {},
   "outputs": [],
   "source": [
    "# YOUR CODE HERE\n",
    "\n",
    "end_date = today.isoformat()\n",
    "start_date = (today - pd.DateOffset(years=3)).isoformat()\n",
    "\n",
    "\n",
    "price_df = get_price_df(tickers, start_date, end_date, timeframe)"
   ]
  },
  {
   "cell_type": "code",
   "execution_count": 30,
   "metadata": {},
   "outputs": [
    {
     "data": {
      "text/plain": [
       "<AxesSubplot:title={'center':'SPY vs AGG returns'}, ylabel='Frequency'>"
      ]
     },
     "execution_count": 30,
     "metadata": {},
     "output_type": "execute_result"
    },
    {
     "data": {
      "image/png": "[encoded data removed]",
      "text/plain": [
       "<Figure size 640x480 with 1 Axes>"
      ]
     },
     "metadata": {},
     "output_type": "display_data"
    }
   ],
   "source": [
    "spy_return_distribution = price_df[\"SPY\"][\"close\"].pct_change().dropna()\n",
    "agg_return_distribution = price_df[\"AGG\"][\"close\"].pct_change().dropna()\n",
    "\n",
    "ax = spy_return_distribution.plot.hist(bins=50, title=\"SPY vs AGG returns\",legend=True,label=\"SPY\")\n",
    "agg_return_distribution.plot.hist(ax=ax,bins=50, legend=True, label=\"AGG\")\n"
   ]
  },
  {
   "cell_type": "code",
   "execution_count": 31,
   "metadata": {},
   "outputs": [
    {
     "data": {
      "text/plain": [
       "<AxesSubplot:title={'center':'SPY vs AGG cumulative returns'}, xlabel='timestamp'>"
      ]
     },
     "execution_count": 31,
     "metadata": {},
     "output_type": "execute_result"
    },
    {
     "data": {
      "image/png": "[encoded data removed]",
      "text/plain": [
       "<Figure size 640x480 with 1 Axes>"
      ]
     },
     "metadata": {},
     "output_type": "display_data"
    }
   ],
   "source": [
    "\n",
    "spy_cumulative_return = (spy_return_distribution + 1).cumprod()\n",
    "agg_cumulative_return = (agg_return_distribution + 1).cumprod()\n",
    "\n",
    "ax = spy_cumulative_return.plot(title=\"SPY vs AGG cumulative returns\",legend=True,label=\"SPY\")\n",
    "agg_cumulative_return.plot(ax=ax,legend=True,label=\"AGG\")\n"
   ]
  },
  {
   "cell_type": "markdown",
   "metadata": {},
   "source": [
    "#### Step 2: Run a Monte Carlo simulation of 500 samples and 30 years for the 60/40 portfolio, and then plot the results."
   ]
  },
  {
   "cell_type": "code",
   "execution_count": 32,
   "metadata": {},
   "outputs": [
    {
     "data": {
      "text/html": [
       "<div>\n",
       "<style scoped>\n",
       "    .dataframe tbody tr th:only-of-type {\n",
       "        vertical-align: middle;\n",
       "    }\n",
       "\n",
       "    .dataframe tbody tr th {\n",
       "        vertical-align: top;\n",
       "    }\n",
       "\n",
       "    .dataframe thead tr th {\n",
       "        text-align: left;\n",
       "    }\n",
       "\n",
       "    .dataframe thead tr:last-of-type th {\n",
       "        text-align: right;\n",
       "    }\n",
       "</style>\n",
       "<table border=\"1\" class=\"dataframe\">\n",
       "  <thead>\n",
       "    <tr>\n",
       "      <th></th>\n",
       "      <th colspan=\"8\" halign=\"left\">AGG</th>\n",
       "      <th colspan=\"8\" halign=\"left\">SPY</th>\n",
       "    </tr>\n",
       "    <tr>\n",
       "      <th></th>\n",
       "      <th>open</th>\n",
       "      <th>high</th>\n",
       "      <th>low</th>\n",
       "      <th>close</th>\n",
       "      <th>volume</th>\n",
       "      <th>trade_count</th>\n",
       "      <th>vwap</th>\n",
       "      <th>daily_return</th>\n",
       "      <th>open</th>\n",
       "      <th>high</th>\n",
       "      <th>low</th>\n",
       "      <th>close</th>\n",
       "      <th>volume</th>\n",
       "      <th>trade_count</th>\n",
       "      <th>vwap</th>\n",
       "      <th>daily_return</th>\n",
       "    </tr>\n",
       "    <tr>\n",
       "      <th>timestamp</th>\n",
       "      <th></th>\n",
       "      <th></th>\n",
       "      <th></th>\n",
       "      <th></th>\n",
       "      <th></th>\n",
       "      <th></th>\n",
       "      <th></th>\n",
       "      <th></th>\n",
       "      <th></th>\n",
       "      <th></th>\n",
       "      <th></th>\n",
       "      <th></th>\n",
       "      <th></th>\n",
       "      <th></th>\n",
       "      <th></th>\n",
       "      <th></th>\n",
       "    </tr>\n",
       "  </thead>\n",
       "  <tbody>\n",
       "    <tr>\n",
       "      <th>2020-04-06 04:00:00+00:00</th>\n",
       "      <td>115.02</td>\n",
       "      <td>115.61</td>\n",
       "      <td>115.0200</td>\n",
       "      <td>115.54</td>\n",
       "      <td>8457712</td>\n",
       "      <td>30911</td>\n",
       "      <td>115.260521</td>\n",
       "      <td>NaN</td>\n",
       "      <td>257.84</td>\n",
       "      <td>267.00</td>\n",
       "      <td>248.1698</td>\n",
       "      <td>264.74</td>\n",
       "      <td>188061815</td>\n",
       "      <td>1033634</td>\n",
       "      <td>260.774890</td>\n",
       "      <td>NaN</td>\n",
       "    </tr>\n",
       "    <tr>\n",
       "      <th>2020-04-07 04:00:00+00:00</th>\n",
       "      <td>115.61</td>\n",
       "      <td>115.74</td>\n",
       "      <td>115.3600</td>\n",
       "      <td>115.70</td>\n",
       "      <td>7743944</td>\n",
       "      <td>26688</td>\n",
       "      <td>115.585131</td>\n",
       "      <td>0.001385</td>\n",
       "      <td>274.21</td>\n",
       "      <td>275.03</td>\n",
       "      <td>264.8900</td>\n",
       "      <td>265.18</td>\n",
       "      <td>201428461</td>\n",
       "      <td>1292807</td>\n",
       "      <td>269.620369</td>\n",
       "      <td>0.001662</td>\n",
       "    </tr>\n",
       "    <tr>\n",
       "      <th>2020-04-08 04:00:00+00:00</th>\n",
       "      <td>115.70</td>\n",
       "      <td>115.97</td>\n",
       "      <td>115.5500</td>\n",
       "      <td>115.81</td>\n",
       "      <td>4674198</td>\n",
       "      <td>25337</td>\n",
       "      <td>115.824215</td>\n",
       "      <td>0.000951</td>\n",
       "      <td>267.96</td>\n",
       "      <td>276.00</td>\n",
       "      <td>265.2542</td>\n",
       "      <td>274.00</td>\n",
       "      <td>153774487</td>\n",
       "      <td>950859</td>\n",
       "      <td>271.051454</td>\n",
       "      <td>0.033260</td>\n",
       "    </tr>\n",
       "    <tr>\n",
       "      <th>2020-04-09 04:00:00+00:00</th>\n",
       "      <td>116.50</td>\n",
       "      <td>117.25</td>\n",
       "      <td>116.1700</td>\n",
       "      <td>117.25</td>\n",
       "      <td>5584071</td>\n",
       "      <td>25795</td>\n",
       "      <td>117.029091</td>\n",
       "      <td>0.012434</td>\n",
       "      <td>277.58</td>\n",
       "      <td>281.20</td>\n",
       "      <td>275.4700</td>\n",
       "      <td>278.22</td>\n",
       "      <td>190283195</td>\n",
       "      <td>1171999</td>\n",
       "      <td>278.251697</td>\n",
       "      <td>0.015401</td>\n",
       "    </tr>\n",
       "    <tr>\n",
       "      <th>2020-04-13 04:00:00+00:00</th>\n",
       "      <td>117.09</td>\n",
       "      <td>117.17</td>\n",
       "      <td>116.5308</td>\n",
       "      <td>116.70</td>\n",
       "      <td>5738262</td>\n",
       "      <td>24812</td>\n",
       "      <td>116.845817</td>\n",
       "      <td>-0.004691</td>\n",
       "      <td>277.14</td>\n",
       "      <td>277.51</td>\n",
       "      <td>271.4100</td>\n",
       "      <td>275.63</td>\n",
       "      <td>114868253</td>\n",
       "      <td>752225</td>\n",
       "      <td>274.512847</td>\n",
       "      <td>-0.009309</td>\n",
       "    </tr>\n",
       "  </tbody>\n",
       "</table>\n",
       "</div>"
      ],
      "text/plain": [
       "                              AGG                                     \\\n",
       "                             open    high       low   close   volume   \n",
       "timestamp                                                              \n",
       "2020-04-06 04:00:00+00:00  115.02  115.61  115.0200  115.54  8457712   \n",
       "2020-04-07 04:00:00+00:00  115.61  115.74  115.3600  115.70  7743944   \n",
       "2020-04-08 04:00:00+00:00  115.70  115.97  115.5500  115.81  4674198   \n",
       "2020-04-09 04:00:00+00:00  116.50  117.25  116.1700  117.25  5584071   \n",
       "2020-04-13 04:00:00+00:00  117.09  117.17  116.5308  116.70  5738262   \n",
       "\n",
       "                                                                   SPY  \\\n",
       "                          trade_count        vwap daily_return    open   \n",
       "timestamp                                                                \n",
       "2020-04-06 04:00:00+00:00       30911  115.260521          NaN  257.84   \n",
       "2020-04-07 04:00:00+00:00       26688  115.585131     0.001385  274.21   \n",
       "2020-04-08 04:00:00+00:00       25337  115.824215     0.000951  267.96   \n",
       "2020-04-09 04:00:00+00:00       25795  117.029091     0.012434  277.58   \n",
       "2020-04-13 04:00:00+00:00       24812  116.845817    -0.004691  277.14   \n",
       "\n",
       "                                                                            \\\n",
       "                             high       low   close     volume trade_count   \n",
       "timestamp                                                                    \n",
       "2020-04-06 04:00:00+00:00  267.00  248.1698  264.74  188061815     1033634   \n",
       "2020-04-07 04:00:00+00:00  275.03  264.8900  265.18  201428461     1292807   \n",
       "2020-04-08 04:00:00+00:00  276.00  265.2542  274.00  153774487      950859   \n",
       "2020-04-09 04:00:00+00:00  281.20  275.4700  278.22  190283195     1171999   \n",
       "2020-04-13 04:00:00+00:00  277.51  271.4100  275.63  114868253      752225   \n",
       "\n",
       "                                                    \n",
       "                                 vwap daily_return  \n",
       "timestamp                                           \n",
       "2020-04-06 04:00:00+00:00  260.774890          NaN  \n",
       "2020-04-07 04:00:00+00:00  269.620369     0.001662  \n",
       "2020-04-08 04:00:00+00:00  271.051454     0.033260  \n",
       "2020-04-09 04:00:00+00:00  278.251697     0.015401  \n",
       "2020-04-13 04:00:00+00:00  274.512847    -0.009309  "
      ]
     },
     "execution_count": 32,
     "metadata": {},
     "output_type": "execute_result"
    }
   ],
   "source": [
    "# Configure the Monte Carlo simulation to forecast 30 years cumulative returns\n",
    "# The weights should be split 40% to AGG and 60% to SPY.\n",
    "# Run 500 samples.\n",
    "# YOUR CODE HERE\n",
    "\n",
    "MC_6040 = MCSimulation(\n",
    "    portfolio_data = price_df,\n",
    "    weights = [.4,.6],\n",
    "    num_simulation = 500,\n",
    "    num_trading_days = 252*30)\n",
    "\n",
    "# Printing the first five rows of the simulation input data\n",
    "MC_6040.portfolio_data.head()\n",
    "\n",
    "# Review the simulation input data\n",
    "# YOUR CODE HERE\n"
   ]
  },
  {
   "cell_type": "code",
   "execution_count": 33,
   "metadata": {},
   "outputs": [
    {
     "name": "stdout",
     "output_type": "stream",
     "text": [
      "Running Monte Carlo simulation number 0.\n",
      "Running Monte Carlo simulation number 10.\n",
      "Running Monte Carlo simulation number 20.\n",
      "Running Monte Carlo simulation number 30.\n",
      "Running Monte Carlo simulation number 40.\n",
      "Running Monte Carlo simulation number 50.\n",
      "Running Monte Carlo simulation number 60.\n",
      "Running Monte Carlo simulation number 70.\n",
      "Running Monte Carlo simulation number 80.\n",
      "Running Monte Carlo simulation number 90.\n",
      "Running Monte Carlo simulation number 100.\n"
     ]
    },
    {
     "name": "stderr",
     "output_type": "stream",
     "text": [
      "/Users/eugenemesgar/fintech/FinTechChallenge5/MCForecastTools.py:117: PerformanceWarning: DataFrame is highly fragmented.  This is usually the result of calling `frame.insert` many times, which has poor performance.  Consider joining all columns at once using pd.concat(axis=1) instead.  To get a de-fragmented frame, use `newframe = frame.copy()`\n",
      "  portfolio_cumulative_returns[n] = (1 + sim_df.fillna(0)).cumprod()\n"
     ]
    },
    {
     "name": "stdout",
     "output_type": "stream",
     "text": [
      "Running Monte Carlo simulation number 110.\n",
      "Running Monte Carlo simulation number 120.\n",
      "Running Monte Carlo simulation number 130.\n",
      "Running Monte Carlo simulation number 140.\n",
      "Running Monte Carlo simulation number 150.\n",
      "Running Monte Carlo simulation number 160.\n",
      "Running Monte Carlo simulation number 170.\n",
      "Running Monte Carlo simulation number 180.\n",
      "Running Monte Carlo simulation number 190.\n",
      "Running Monte Carlo simulation number 200.\n",
      "Running Monte Carlo simulation number 210.\n",
      "Running Monte Carlo simulation number 220.\n",
      "Running Monte Carlo simulation number 230.\n",
      "Running Monte Carlo simulation number 240.\n",
      "Running Monte Carlo simulation number 250.\n",
      "Running Monte Carlo simulation number 260.\n",
      "Running Monte Carlo simulation number 270.\n",
      "Running Monte Carlo simulation number 280.\n",
      "Running Monte Carlo simulation number 290.\n",
      "Running Monte Carlo simulation number 300.\n",
      "Running Monte Carlo simulation number 310.\n",
      "Running Monte Carlo simulation number 320.\n",
      "Running Monte Carlo simulation number 330.\n",
      "Running Monte Carlo simulation number 340.\n",
      "Running Monte Carlo simulation number 350.\n",
      "Running Monte Carlo simulation number 360.\n",
      "Running Monte Carlo simulation number 370.\n",
      "Running Monte Carlo simulation number 380.\n",
      "Running Monte Carlo simulation number 390.\n",
      "Running Monte Carlo simulation number 400.\n",
      "Running Monte Carlo simulation number 410.\n",
      "Running Monte Carlo simulation number 420.\n",
      "Running Monte Carlo simulation number 430.\n",
      "Running Monte Carlo simulation number 440.\n",
      "Running Monte Carlo simulation number 450.\n",
      "Running Monte Carlo simulation number 460.\n",
      "Running Monte Carlo simulation number 470.\n",
      "Running Monte Carlo simulation number 480.\n",
      "Running Monte Carlo simulation number 490.\n"
     ]
    },
    {
     "data": {
      "text/html": [
       "<div>\n",
       "<style scoped>\n",
       "    .dataframe tbody tr th:only-of-type {\n",
       "        vertical-align: middle;\n",
       "    }\n",
       "\n",
       "    .dataframe tbody tr th {\n",
       "        vertical-align: top;\n",
       "    }\n",
       "\n",
       "    .dataframe thead th {\n",
       "        text-align: right;\n",
       "    }\n",
       "</style>\n",
       "<table border=\"1\" class=\"dataframe\">\n",
       "  <thead>\n",
       "    <tr style=\"text-align: right;\">\n",
       "      <th></th>\n",
       "      <th>0</th>\n",
       "      <th>1</th>\n",
       "      <th>2</th>\n",
       "      <th>3</th>\n",
       "      <th>4</th>\n",
       "      <th>5</th>\n",
       "      <th>6</th>\n",
       "      <th>7</th>\n",
       "      <th>8</th>\n",
       "      <th>9</th>\n",
       "      <th>...</th>\n",
       "      <th>490</th>\n",
       "      <th>491</th>\n",
       "      <th>492</th>\n",
       "      <th>493</th>\n",
       "      <th>494</th>\n",
       "      <th>495</th>\n",
       "      <th>496</th>\n",
       "      <th>497</th>\n",
       "      <th>498</th>\n",
       "      <th>499</th>\n",
       "    </tr>\n",
       "  </thead>\n",
       "  <tbody>\n",
       "    <tr>\n",
       "      <th>0</th>\n",
       "      <td>1.000000</td>\n",
       "      <td>1.000000</td>\n",
       "      <td>1.000000</td>\n",
       "      <td>1.000000</td>\n",
       "      <td>1.000000</td>\n",
       "      <td>1.000000</td>\n",
       "      <td>1.000000</td>\n",
       "      <td>1.000000</td>\n",
       "      <td>1.000000</td>\n",
       "      <td>1.000000</td>\n",
       "      <td>...</td>\n",
       "      <td>1.000000</td>\n",
       "      <td>1.000000</td>\n",
       "      <td>1.000000</td>\n",
       "      <td>1.000000</td>\n",
       "      <td>1.000000</td>\n",
       "      <td>1.000000</td>\n",
       "      <td>1.000000</td>\n",
       "      <td>1.000000</td>\n",
       "      <td>1.000000</td>\n",
       "      <td>1.000000</td>\n",
       "    </tr>\n",
       "    <tr>\n",
       "      <th>1</th>\n",
       "      <td>1.004233</td>\n",
       "      <td>0.997278</td>\n",
       "      <td>1.023031</td>\n",
       "      <td>0.997115</td>\n",
       "      <td>1.000989</td>\n",
       "      <td>0.998645</td>\n",
       "      <td>1.000059</td>\n",
       "      <td>1.000109</td>\n",
       "      <td>0.993770</td>\n",
       "      <td>1.005109</td>\n",
       "      <td>...</td>\n",
       "      <td>1.002789</td>\n",
       "      <td>1.010201</td>\n",
       "      <td>1.013386</td>\n",
       "      <td>0.992347</td>\n",
       "      <td>1.001838</td>\n",
       "      <td>0.989996</td>\n",
       "      <td>0.989315</td>\n",
       "      <td>1.004748</td>\n",
       "      <td>1.009119</td>\n",
       "      <td>1.000381</td>\n",
       "    </tr>\n",
       "    <tr>\n",
       "      <th>2</th>\n",
       "      <td>0.999337</td>\n",
       "      <td>1.007548</td>\n",
       "      <td>1.013731</td>\n",
       "      <td>1.003030</td>\n",
       "      <td>1.015832</td>\n",
       "      <td>0.990541</td>\n",
       "      <td>0.997045</td>\n",
       "      <td>1.012004</td>\n",
       "      <td>0.991695</td>\n",
       "      <td>1.001047</td>\n",
       "      <td>...</td>\n",
       "      <td>1.000612</td>\n",
       "      <td>1.025480</td>\n",
       "      <td>1.021400</td>\n",
       "      <td>0.993579</td>\n",
       "      <td>1.000639</td>\n",
       "      <td>0.987160</td>\n",
       "      <td>0.994737</td>\n",
       "      <td>0.999212</td>\n",
       "      <td>1.004995</td>\n",
       "      <td>1.000469</td>\n",
       "    </tr>\n",
       "    <tr>\n",
       "      <th>3</th>\n",
       "      <td>1.009479</td>\n",
       "      <td>1.002925</td>\n",
       "      <td>0.989040</td>\n",
       "      <td>1.011593</td>\n",
       "      <td>1.017322</td>\n",
       "      <td>0.991072</td>\n",
       "      <td>0.994256</td>\n",
       "      <td>1.025433</td>\n",
       "      <td>0.997756</td>\n",
       "      <td>0.989338</td>\n",
       "      <td>...</td>\n",
       "      <td>0.998544</td>\n",
       "      <td>1.027084</td>\n",
       "      <td>1.025241</td>\n",
       "      <td>0.996219</td>\n",
       "      <td>0.989112</td>\n",
       "      <td>0.980599</td>\n",
       "      <td>1.002843</td>\n",
       "      <td>1.006058</td>\n",
       "      <td>1.006189</td>\n",
       "      <td>0.997656</td>\n",
       "    </tr>\n",
       "    <tr>\n",
       "      <th>4</th>\n",
       "      <td>1.007842</td>\n",
       "      <td>0.990387</td>\n",
       "      <td>0.984152</td>\n",
       "      <td>1.004809</td>\n",
       "      <td>1.009642</td>\n",
       "      <td>0.990824</td>\n",
       "      <td>0.992373</td>\n",
       "      <td>1.025474</td>\n",
       "      <td>0.991589</td>\n",
       "      <td>0.991945</td>\n",
       "      <td>...</td>\n",
       "      <td>0.998112</td>\n",
       "      <td>1.010144</td>\n",
       "      <td>1.030167</td>\n",
       "      <td>1.003697</td>\n",
       "      <td>0.993500</td>\n",
       "      <td>0.979310</td>\n",
       "      <td>1.003601</td>\n",
       "      <td>1.008741</td>\n",
       "      <td>0.987863</td>\n",
       "      <td>1.003078</td>\n",
       "    </tr>\n",
       "    <tr>\n",
       "      <th>...</th>\n",
       "      <td>...</td>\n",
       "      <td>...</td>\n",
       "      <td>...</td>\n",
       "      <td>...</td>\n",
       "      <td>...</td>\n",
       "      <td>...</td>\n",
       "      <td>...</td>\n",
       "      <td>...</td>\n",
       "      <td>...</td>\n",
       "      <td>...</td>\n",
       "      <td>...</td>\n",
       "      <td>...</td>\n",
       "      <td>...</td>\n",
       "      <td>...</td>\n",
       "      <td>...</td>\n",
       "      <td>...</td>\n",
       "      <td>...</td>\n",
       "      <td>...</td>\n",
       "      <td>...</td>\n",
       "      <td>...</td>\n",
       "      <td>...</td>\n",
       "    </tr>\n",
       "    <tr>\n",
       "      <th>7556</th>\n",
       "      <td>9.425869</td>\n",
       "      <td>2.671329</td>\n",
       "      <td>3.275646</td>\n",
       "      <td>9.292292</td>\n",
       "      <td>101.637883</td>\n",
       "      <td>7.238735</td>\n",
       "      <td>10.757460</td>\n",
       "      <td>27.146602</td>\n",
       "      <td>7.706805</td>\n",
       "      <td>3.269668</td>\n",
       "      <td>...</td>\n",
       "      <td>6.745122</td>\n",
       "      <td>16.668276</td>\n",
       "      <td>15.045527</td>\n",
       "      <td>8.051858</td>\n",
       "      <td>9.250426</td>\n",
       "      <td>6.241995</td>\n",
       "      <td>5.004897</td>\n",
       "      <td>8.509483</td>\n",
       "      <td>5.207080</td>\n",
       "      <td>13.063243</td>\n",
       "    </tr>\n",
       "    <tr>\n",
       "      <th>7557</th>\n",
       "      <td>9.421707</td>\n",
       "      <td>2.705502</td>\n",
       "      <td>3.266848</td>\n",
       "      <td>9.191774</td>\n",
       "      <td>102.313272</td>\n",
       "      <td>7.272555</td>\n",
       "      <td>10.757795</td>\n",
       "      <td>26.848688</td>\n",
       "      <td>7.647869</td>\n",
       "      <td>3.248819</td>\n",
       "      <td>...</td>\n",
       "      <td>6.705300</td>\n",
       "      <td>16.653494</td>\n",
       "      <td>14.769180</td>\n",
       "      <td>7.946725</td>\n",
       "      <td>9.244703</td>\n",
       "      <td>6.281341</td>\n",
       "      <td>5.023917</td>\n",
       "      <td>8.522333</td>\n",
       "      <td>5.259351</td>\n",
       "      <td>13.141086</td>\n",
       "    </tr>\n",
       "    <tr>\n",
       "      <th>7558</th>\n",
       "      <td>9.338555</td>\n",
       "      <td>2.702994</td>\n",
       "      <td>3.270464</td>\n",
       "      <td>9.182370</td>\n",
       "      <td>102.975085</td>\n",
       "      <td>7.148571</td>\n",
       "      <td>10.633558</td>\n",
       "      <td>26.581221</td>\n",
       "      <td>7.605803</td>\n",
       "      <td>3.242860</td>\n",
       "      <td>...</td>\n",
       "      <td>6.700699</td>\n",
       "      <td>16.736124</td>\n",
       "      <td>14.944231</td>\n",
       "      <td>8.068017</td>\n",
       "      <td>9.324410</td>\n",
       "      <td>6.268389</td>\n",
       "      <td>5.075732</td>\n",
       "      <td>8.575058</td>\n",
       "      <td>5.262057</td>\n",
       "      <td>13.073944</td>\n",
       "    </tr>\n",
       "    <tr>\n",
       "      <th>7559</th>\n",
       "      <td>9.271896</td>\n",
       "      <td>2.727130</td>\n",
       "      <td>3.292186</td>\n",
       "      <td>9.268009</td>\n",
       "      <td>102.346952</td>\n",
       "      <td>7.249650</td>\n",
       "      <td>10.602238</td>\n",
       "      <td>26.614646</td>\n",
       "      <td>7.697773</td>\n",
       "      <td>3.245986</td>\n",
       "      <td>...</td>\n",
       "      <td>6.662230</td>\n",
       "      <td>16.736405</td>\n",
       "      <td>14.980832</td>\n",
       "      <td>7.963590</td>\n",
       "      <td>9.165895</td>\n",
       "      <td>6.292704</td>\n",
       "      <td>5.061789</td>\n",
       "      <td>8.582616</td>\n",
       "      <td>5.263935</td>\n",
       "      <td>12.938409</td>\n",
       "    </tr>\n",
       "    <tr>\n",
       "      <th>7560</th>\n",
       "      <td>9.258296</td>\n",
       "      <td>2.725929</td>\n",
       "      <td>3.261052</td>\n",
       "      <td>9.322042</td>\n",
       "      <td>103.567803</td>\n",
       "      <td>7.242831</td>\n",
       "      <td>10.610041</td>\n",
       "      <td>26.676846</td>\n",
       "      <td>7.684232</td>\n",
       "      <td>3.273032</td>\n",
       "      <td>...</td>\n",
       "      <td>6.583432</td>\n",
       "      <td>16.653983</td>\n",
       "      <td>15.054624</td>\n",
       "      <td>7.968980</td>\n",
       "      <td>9.181463</td>\n",
       "      <td>6.313092</td>\n",
       "      <td>5.068819</td>\n",
       "      <td>8.669278</td>\n",
       "      <td>5.246953</td>\n",
       "      <td>12.901756</td>\n",
       "    </tr>\n",
       "  </tbody>\n",
       "</table>\n",
       "<p>7561 rows × 500 columns</p>\n",
       "</div>"
      ],
      "text/plain": [
       "           0         1         2         3           4         5          6    \\\n",
       "0     1.000000  1.000000  1.000000  1.000000    1.000000  1.000000   1.000000   \n",
       "1     1.004233  0.997278  1.023031  0.997115    1.000989  0.998645   1.000059   \n",
       "2     0.999337  1.007548  1.013731  1.003030    1.015832  0.990541   0.997045   \n",
       "3     1.009479  1.002925  0.989040  1.011593    1.017322  0.991072   0.994256   \n",
       "4     1.007842  0.990387  0.984152  1.004809    1.009642  0.990824   0.992373   \n",
       "...        ...       ...       ...       ...         ...       ...        ...   \n",
       "7556  9.425869  2.671329  3.275646  9.292292  101.637883  7.238735  10.757460   \n",
       "7557  9.421707  2.705502  3.266848  9.191774  102.313272  7.272555  10.757795   \n",
       "7558  9.338555  2.702994  3.270464  9.182370  102.975085  7.148571  10.633558   \n",
       "7559  9.271896  2.727130  3.292186  9.268009  102.346952  7.249650  10.602238   \n",
       "7560  9.258296  2.725929  3.261052  9.322042  103.567803  7.242831  10.610041   \n",
       "\n",
       "            7         8         9    ...       490        491        492  \\\n",
       "0      1.000000  1.000000  1.000000  ...  1.000000   1.000000   1.000000   \n",
       "1      1.000109  0.993770  1.005109  ...  1.002789   1.010201   1.013386   \n",
       "2      1.012004  0.991695  1.001047  ...  1.000612   1.025480   1.021400   \n",
       "3      1.025433  0.997756  0.989338  ...  0.998544   1.027084   1.025241   \n",
       "4      1.025474  0.991589  0.991945  ...  0.998112   1.010144   1.030167   \n",
       "...         ...       ...       ...  ...       ...        ...        ...   \n",
       "7556  27.146602  7.706805  3.269668  ...  6.745122  16.668276  15.045527   \n",
       "7557  26.848688  7.647869  3.248819  ...  6.705300  16.653494  14.769180   \n",
       "7558  26.581221  7.605803  3.242860  ...  6.700699  16.736124  14.944231   \n",
       "7559  26.614646  7.697773  3.245986  ...  6.662230  16.736405  14.980832   \n",
       "7560  26.676846  7.684232  3.273032  ...  6.583432  16.653983  15.054624   \n",
       "\n",
       "           493       494       495       496       497       498        499  \n",
       "0     1.000000  1.000000  1.000000  1.000000  1.000000  1.000000   1.000000  \n",
       "1     0.992347  1.001838  0.989996  0.989315  1.004748  1.009119   1.000381  \n",
       "2     0.993579  1.000639  0.987160  0.994737  0.999212  1.004995   1.000469  \n",
       "3     0.996219  0.989112  0.980599  1.002843  1.006058  1.006189   0.997656  \n",
       "4     1.003697  0.993500  0.979310  1.003601  1.008741  0.987863   1.003078  \n",
       "...        ...       ...       ...       ...       ...       ...        ...  \n",
       "7556  8.051858  9.250426  6.241995  5.004897  8.509483  5.207080  13.063243  \n",
       "7557  7.946725  9.244703  6.281341  5.023917  8.522333  5.259351  13.141086  \n",
       "7558  8.068017  9.324410  6.268389  5.075732  8.575058  5.262057  13.073944  \n",
       "7559  7.963590  9.165895  6.292704  5.061789  8.582616  5.263935  12.938409  \n",
       "7560  7.968980  9.181463  6.313092  5.068819  8.669278  5.246953  12.901756  \n",
       "\n",
       "[7561 rows x 500 columns]"
      ]
     },
     "execution_count": 33,
     "metadata": {},
     "output_type": "execute_result"
    }
   ],
   "source": [
    "# Run the Monte Carlo simulation to forecast 30 years cumulative returns\n",
    "# YOUR CODE HERE\n",
    "MC_6040.calc_cumulative_return()"
   ]
  },
  {
   "cell_type": "code",
   "execution_count": 34,
   "metadata": {},
   "outputs": [
    {
     "data": {
      "text/plain": [
       "<AxesSubplot:title={'center':'500 Simulations of Cumulative Portfolio Return Trajectories Over the Next 7560 Trading Days.'}>"
      ]
     },
     "execution_count": 34,
     "metadata": {},
     "output_type": "execute_result"
    },
    {
     "data": {
      "image/png": "[encoded data removed]",
      "text/plain": [
       "<Figure size 640x480 with 1 Axes>"
      ]
     },
     "metadata": {},
     "output_type": "display_data"
    }
   ],
   "source": [
    "# Visualize the 30-year Monte Carlo simulation by creating an\n",
    "# overlay line plot\n",
    "# YOUR CODE HERE\n",
    "MC_6040.plot_simulation()"
   ]
  },
  {
   "cell_type": "markdown",
   "metadata": {},
   "source": [
    "#### Step 3: Plot the probability distribution of the Monte Carlo simulation."
   ]
  },
  {
   "cell_type": "code",
   "execution_count": 35,
   "metadata": {},
   "outputs": [
    {
     "data": {
      "text/plain": [
       "<AxesSubplot:title={'center':'Distribution of Final Cumuluative Returns Across All 500 Simulations'}, ylabel='Frequency'>"
      ]
     },
     "execution_count": 35,
     "metadata": {},
     "output_type": "execute_result"
    },
    {
     "data": {
      "image/png": "[encoded data removed]",
      "text/plain": [
       "<Figure size 640x480 with 1 Axes>"
      ]
     },
     "metadata": {},
     "output_type": "display_data"
    }
   ],
   "source": [
    "# Visualize the probability distribution of the 30-year Monte Carlo simulation \n",
    "# by plotting a histogram\n",
    "# YOUR CODE HERE\n",
    "\n",
    "MC_6040.plot_distribution()"
   ]
  },
  {
   "cell_type": "markdown",
   "metadata": {},
   "source": [
    "#### Step 4: Generate the summary statistics for the Monte Carlo simulation."
   ]
  },
  {
   "cell_type": "code",
   "execution_count": 36,
   "metadata": {},
   "outputs": [],
   "source": [
    "# Generate summary statistics from the 30-year Monte Carlo simulation results\n",
    "# Save the results as a variable\n",
    "# YOUR CODE HERE\n",
    "\n",
    "cum_return_table = MC_6040.summarize_cumulative_return()\n",
    "\n",
    "# Review the 30-year Monte Carlo summary statistics\n",
    "# YOUR CODE HERE"
   ]
  },
  {
   "cell_type": "markdown",
   "metadata": {},
   "source": [
    "### Analyze the Retirement Portfolio Forecasts\n",
    "\n",
    "Using the current value of only the stock and bond portion of the member's portfolio and the summary statistics that you generated from the Monte Carlo simulation, answer the following question in your Jupyter notebook:\n",
    "\n",
    "-  What are the lower and upper bounds for the expected value of the portfolio with a 95% confidence interval?\n"
   ]
  },
  {
   "cell_type": "code",
   "execution_count": 37,
   "metadata": {},
   "outputs": [
    {
     "name": "stdout",
     "output_type": "stream",
     "text": [
      "Loweer:  2.753875832827778\n",
      "Upper:  28.402075734018798\n"
     ]
    }
   ],
   "source": [
    "# Print the current balance of the stock and bond portion of the members portfolio\n",
    "# YOUR CODE HERE\n",
    "\n",
    "print( f\"Loweer: \", cum_return_table[\"95% CI Lower\"])\n",
    "print( f\"Upper: \", cum_return_table[\"95% CI Upper\"])\n",
    "\n",
    "\n",
    "\n"
   ]
  },
  {
   "cell_type": "code",
   "execution_count": 38,
   "metadata": {},
   "outputs": [
    {
     "name": "stdout",
     "output_type": "stream",
     "text": [
      "BTC Value: $33,578.40\n",
      "ETH Value: $9,911.48\n",
      "---------------------\n",
      "Total Crypto Value: $43,489.88\n",
      "\n",
      "\n",
      "AGG Value: $20,088.00\n",
      "SPY Value: $45,010.90\n",
      "---------------------\n",
      "Total Stock/Bond Value: $65,098.90\n",
      "\n",
      "Total Portfolio Value: $108,588.78\n",
      "\n",
      "95% Conf Interval in 30 year projection (excluding crypto)\n",
      "\n",
      "Upper Bound: $1,848,943.89 IRR: 11.80% Multiple: 28.4x\n",
      "Lower Bound: $179,274.29 IRR: 3.43% Multiple: 2.8x\n"
     ]
    }
   ],
   "source": [
    "# Use the lower and upper `95%` confidence intervals to calculate the range of the possible outcomes for the current stock/bond portfolio\n",
    "ci_lower_thirty_cumulative_return = cum_return_table[\"95% CI Lower\"] * total_stocks_bonds\n",
    "ci_upper_thirty_cumulative_return = cum_return_table[\"95% CI Upper\"] * total_stocks_bonds\n",
    "\n",
    "multiple_lower = cum_return_table[\"95% CI Lower\"]\n",
    "multiple_upper = cum_return_table[\"95% CI Upper\"]\n",
    "irr_lower = multiple_lower ** (1/30) - 1\n",
    "irr_upper = multiple_upper ** (1/30) - 1\n",
    "\n",
    "print( f\"BTC Value: ${btc_value:,.2f}\\nETH Value: ${eth_value:,.2f}\\n---------------------\")\n",
    "print( f\"Total Crypto Value: ${total_crypto_wallet:,.2f}\\n\\n\")\n",
    "\n",
    "print( f\"AGG Value: ${agg_value:,.2f}\\nSPY Value: ${spy_value:,.2f}\\n---------------------\")\n",
    "print( f\"Total Stock/Bond Value: ${total_stocks_bonds:,.2f}\\n\")\n",
    "\n",
    "print( f\"Total Portfolio Value: ${total_portfolio:,.2f}\\n\")\n",
    "\n",
    "print( f\"95% Conf Interval in 30 year projection (excluding crypto)\\n\")\n",
    "print( f\"Upper Bound: ${ci_upper_thirty_cumulative_return:,.2f} IRR: {irr_upper:.2%} Multiple: {multiple_upper:.1f}x\")\n",
    "print( f\"Lower Bound: ${ci_lower_thirty_cumulative_return:,.2f} IRR: {irr_lower:.2%} Multiple: {multiple_lower:.1f}x\")\n",
    "\n",
    "\n",
    "\n",
    "# Print the result of your calculations\n",
    "# YOUR CODE HERE\n"
   ]
  },
  {
   "cell_type": "markdown",
   "metadata": {},
   "source": [
    "### Forecast Cumulative Returns in 10 Years\n",
    "\n",
    "The CTO of the credit union is impressed with your work on these planning tools but wonders if 30 years is a long time to wait until retirement. So, your next task is to adjust the retirement portfolio and run a new Monte Carlo simulation to find out if the changes will allow members to retire earlier.\n",
    "\n",
    "For this new Monte Carlo simulation, do the following: \n",
    "\n",
    "- Forecast the cumulative returns for 10 years from now. Because of the shortened investment horizon (30 years to 10 years), the portfolio needs to invest more heavily in the riskier asset&mdash;that is, stock&mdash;to help accumulate wealth for retirement. \n",
    "\n",
    "- Adjust the weights of the retirement portfolio so that the composition for the Monte Carlo simulation consists of 20% bonds and 80% stocks. \n",
    "\n",
    "- Run the simulation over 500 samples, and use the same data that the API call to Alpaca generated.\n",
    "\n",
    "- Based on the new Monte Carlo simulation, answer the following questions in your Jupyter notebook:\n",
    "\n",
    "    - Using the current value of only the stock and bond portion of the member's portfolio and the summary statistics that you generated from the new Monte Carlo simulation, what are the lower and upper bounds for the expected value of the portfolio (with the new weights) with a 95% confidence interval?\n",
    "\n",
    "    - Will weighting the portfolio more heavily toward stocks allow the credit union members to retire after only 10 years?\n"
   ]
  },
  {
   "cell_type": "code",
   "execution_count": 39,
   "metadata": {},
   "outputs": [
    {
     "data": {
      "text/html": [
       "<div>\n",
       "<style scoped>\n",
       "    .dataframe tbody tr th:only-of-type {\n",
       "        vertical-align: middle;\n",
       "    }\n",
       "\n",
       "    .dataframe tbody tr th {\n",
       "        vertical-align: top;\n",
       "    }\n",
       "\n",
       "    .dataframe thead tr th {\n",
       "        text-align: left;\n",
       "    }\n",
       "\n",
       "    .dataframe thead tr:last-of-type th {\n",
       "        text-align: right;\n",
       "    }\n",
       "</style>\n",
       "<table border=\"1\" class=\"dataframe\">\n",
       "  <thead>\n",
       "    <tr>\n",
       "      <th></th>\n",
       "      <th colspan=\"8\" halign=\"left\">AGG</th>\n",
       "      <th colspan=\"8\" halign=\"left\">SPY</th>\n",
       "    </tr>\n",
       "    <tr>\n",
       "      <th></th>\n",
       "      <th>open</th>\n",
       "      <th>high</th>\n",
       "      <th>low</th>\n",
       "      <th>close</th>\n",
       "      <th>volume</th>\n",
       "      <th>trade_count</th>\n",
       "      <th>vwap</th>\n",
       "      <th>daily_return</th>\n",
       "      <th>open</th>\n",
       "      <th>high</th>\n",
       "      <th>low</th>\n",
       "      <th>close</th>\n",
       "      <th>volume</th>\n",
       "      <th>trade_count</th>\n",
       "      <th>vwap</th>\n",
       "      <th>daily_return</th>\n",
       "    </tr>\n",
       "    <tr>\n",
       "      <th>timestamp</th>\n",
       "      <th></th>\n",
       "      <th></th>\n",
       "      <th></th>\n",
       "      <th></th>\n",
       "      <th></th>\n",
       "      <th></th>\n",
       "      <th></th>\n",
       "      <th></th>\n",
       "      <th></th>\n",
       "      <th></th>\n",
       "      <th></th>\n",
       "      <th></th>\n",
       "      <th></th>\n",
       "      <th></th>\n",
       "      <th></th>\n",
       "      <th></th>\n",
       "    </tr>\n",
       "  </thead>\n",
       "  <tbody>\n",
       "    <tr>\n",
       "      <th>2020-04-06 04:00:00+00:00</th>\n",
       "      <td>115.02</td>\n",
       "      <td>115.61</td>\n",
       "      <td>115.0200</td>\n",
       "      <td>115.54</td>\n",
       "      <td>8457712</td>\n",
       "      <td>30911</td>\n",
       "      <td>115.260521</td>\n",
       "      <td>NaN</td>\n",
       "      <td>257.84</td>\n",
       "      <td>267.00</td>\n",
       "      <td>248.1698</td>\n",
       "      <td>264.74</td>\n",
       "      <td>188061815</td>\n",
       "      <td>1033634</td>\n",
       "      <td>260.774890</td>\n",
       "      <td>NaN</td>\n",
       "    </tr>\n",
       "    <tr>\n",
       "      <th>2020-04-07 04:00:00+00:00</th>\n",
       "      <td>115.61</td>\n",
       "      <td>115.74</td>\n",
       "      <td>115.3600</td>\n",
       "      <td>115.70</td>\n",
       "      <td>7743944</td>\n",
       "      <td>26688</td>\n",
       "      <td>115.585131</td>\n",
       "      <td>0.001385</td>\n",
       "      <td>274.21</td>\n",
       "      <td>275.03</td>\n",
       "      <td>264.8900</td>\n",
       "      <td>265.18</td>\n",
       "      <td>201428461</td>\n",
       "      <td>1292807</td>\n",
       "      <td>269.620369</td>\n",
       "      <td>0.001662</td>\n",
       "    </tr>\n",
       "    <tr>\n",
       "      <th>2020-04-08 04:00:00+00:00</th>\n",
       "      <td>115.70</td>\n",
       "      <td>115.97</td>\n",
       "      <td>115.5500</td>\n",
       "      <td>115.81</td>\n",
       "      <td>4674198</td>\n",
       "      <td>25337</td>\n",
       "      <td>115.824215</td>\n",
       "      <td>0.000951</td>\n",
       "      <td>267.96</td>\n",
       "      <td>276.00</td>\n",
       "      <td>265.2542</td>\n",
       "      <td>274.00</td>\n",
       "      <td>153774487</td>\n",
       "      <td>950859</td>\n",
       "      <td>271.051454</td>\n",
       "      <td>0.033260</td>\n",
       "    </tr>\n",
       "    <tr>\n",
       "      <th>2020-04-09 04:00:00+00:00</th>\n",
       "      <td>116.50</td>\n",
       "      <td>117.25</td>\n",
       "      <td>116.1700</td>\n",
       "      <td>117.25</td>\n",
       "      <td>5584071</td>\n",
       "      <td>25795</td>\n",
       "      <td>117.029091</td>\n",
       "      <td>0.012434</td>\n",
       "      <td>277.58</td>\n",
       "      <td>281.20</td>\n",
       "      <td>275.4700</td>\n",
       "      <td>278.22</td>\n",
       "      <td>190283195</td>\n",
       "      <td>1171999</td>\n",
       "      <td>278.251697</td>\n",
       "      <td>0.015401</td>\n",
       "    </tr>\n",
       "    <tr>\n",
       "      <th>2020-04-13 04:00:00+00:00</th>\n",
       "      <td>117.09</td>\n",
       "      <td>117.17</td>\n",
       "      <td>116.5308</td>\n",
       "      <td>116.70</td>\n",
       "      <td>5738262</td>\n",
       "      <td>24812</td>\n",
       "      <td>116.845817</td>\n",
       "      <td>-0.004691</td>\n",
       "      <td>277.14</td>\n",
       "      <td>277.51</td>\n",
       "      <td>271.4100</td>\n",
       "      <td>275.63</td>\n",
       "      <td>114868253</td>\n",
       "      <td>752225</td>\n",
       "      <td>274.512847</td>\n",
       "      <td>-0.009309</td>\n",
       "    </tr>\n",
       "  </tbody>\n",
       "</table>\n",
       "</div>"
      ],
      "text/plain": [
       "                              AGG                                     \\\n",
       "                             open    high       low   close   volume   \n",
       "timestamp                                                              \n",
       "2020-04-06 04:00:00+00:00  115.02  115.61  115.0200  115.54  8457712   \n",
       "2020-04-07 04:00:00+00:00  115.61  115.74  115.3600  115.70  7743944   \n",
       "2020-04-08 04:00:00+00:00  115.70  115.97  115.5500  115.81  4674198   \n",
       "2020-04-09 04:00:00+00:00  116.50  117.25  116.1700  117.25  5584071   \n",
       "2020-04-13 04:00:00+00:00  117.09  117.17  116.5308  116.70  5738262   \n",
       "\n",
       "                                                                   SPY  \\\n",
       "                          trade_count        vwap daily_return    open   \n",
       "timestamp                                                                \n",
       "2020-04-06 04:00:00+00:00       30911  115.260521          NaN  257.84   \n",
       "2020-04-07 04:00:00+00:00       26688  115.585131     0.001385  274.21   \n",
       "2020-04-08 04:00:00+00:00       25337  115.824215     0.000951  267.96   \n",
       "2020-04-09 04:00:00+00:00       25795  117.029091     0.012434  277.58   \n",
       "2020-04-13 04:00:00+00:00       24812  116.845817    -0.004691  277.14   \n",
       "\n",
       "                                                                            \\\n",
       "                             high       low   close     volume trade_count   \n",
       "timestamp                                                                    \n",
       "2020-04-06 04:00:00+00:00  267.00  248.1698  264.74  188061815     1033634   \n",
       "2020-04-07 04:00:00+00:00  275.03  264.8900  265.18  201428461     1292807   \n",
       "2020-04-08 04:00:00+00:00  276.00  265.2542  274.00  153774487      950859   \n",
       "2020-04-09 04:00:00+00:00  281.20  275.4700  278.22  190283195     1171999   \n",
       "2020-04-13 04:00:00+00:00  277.51  271.4100  275.63  114868253      752225   \n",
       "\n",
       "                                                    \n",
       "                                 vwap daily_return  \n",
       "timestamp                                           \n",
       "2020-04-06 04:00:00+00:00  260.774890          NaN  \n",
       "2020-04-07 04:00:00+00:00  269.620369     0.001662  \n",
       "2020-04-08 04:00:00+00:00  271.051454     0.033260  \n",
       "2020-04-09 04:00:00+00:00  278.251697     0.015401  \n",
       "2020-04-13 04:00:00+00:00  274.512847    -0.009309  "
      ]
     },
     "execution_count": 39,
     "metadata": {},
     "output_type": "execute_result"
    }
   ],
   "source": [
    "# Configure a Monte Carlo simulation to forecast 10 years cumulative returns\n",
    "# The weights should be split 20% to AGG and 80% to SPY.\n",
    "# Run 500 samples.\n",
    "# YOUR CODE HERE\n",
    "\n",
    "MC_8020 = MCSimulation(\n",
    "    portfolio_data = price_df,\n",
    "    weights = [.2,.8],\n",
    "    num_simulation = 500,\n",
    "    num_trading_days = 252*10)\n",
    "\n",
    "MC_8020.portfolio_data.head()\n",
    "\n",
    "# Review the simulation input data\n",
    "# YOUR CODE HERE\n"
   ]
  },
  {
   "cell_type": "code",
   "execution_count": 40,
   "metadata": {},
   "outputs": [
    {
     "name": "stdout",
     "output_type": "stream",
     "text": [
      "Running Monte Carlo simulation number 0.\n",
      "Running Monte Carlo simulation number 10.\n",
      "Running Monte Carlo simulation number 20.\n",
      "Running Monte Carlo simulation number 30.\n",
      "Running Monte Carlo simulation number 40.\n",
      "Running Monte Carlo simulation number 50.\n",
      "Running Monte Carlo simulation number 60.\n",
      "Running Monte Carlo simulation number 70.\n",
      "Running Monte Carlo simulation number 80.\n",
      "Running Monte Carlo simulation number 90.\n",
      "Running Monte Carlo simulation number 100.\n"
     ]
    },
    {
     "name": "stderr",
     "output_type": "stream",
     "text": [
      "/Users/eugenemesgar/fintech/FinTechChallenge5/MCForecastTools.py:117: PerformanceWarning: DataFrame is highly fragmented.  This is usually the result of calling `frame.insert` many times, which has poor performance.  Consider joining all columns at once using pd.concat(axis=1) instead.  To get a de-fragmented frame, use `newframe = frame.copy()`\n",
      "  portfolio_cumulative_returns[n] = (1 + sim_df.fillna(0)).cumprod()\n"
     ]
    },
    {
     "name": "stdout",
     "output_type": "stream",
     "text": [
      "Running Monte Carlo simulation number 110.\n",
      "Running Monte Carlo simulation number 120.\n",
      "Running Monte Carlo simulation number 130.\n",
      "Running Monte Carlo simulation number 140.\n",
      "Running Monte Carlo simulation number 150.\n",
      "Running Monte Carlo simulation number 160.\n",
      "Running Monte Carlo simulation number 170.\n",
      "Running Monte Carlo simulation number 180.\n",
      "Running Monte Carlo simulation number 190.\n",
      "Running Monte Carlo simulation number 200.\n",
      "Running Monte Carlo simulation number 210.\n",
      "Running Monte Carlo simulation number 220.\n",
      "Running Monte Carlo simulation number 230.\n",
      "Running Monte Carlo simulation number 240.\n",
      "Running Monte Carlo simulation number 250.\n",
      "Running Monte Carlo simulation number 260.\n",
      "Running Monte Carlo simulation number 270.\n",
      "Running Monte Carlo simulation number 280.\n",
      "Running Monte Carlo simulation number 290.\n",
      "Running Monte Carlo simulation number 300.\n",
      "Running Monte Carlo simulation number 310.\n",
      "Running Monte Carlo simulation number 320.\n",
      "Running Monte Carlo simulation number 330.\n",
      "Running Monte Carlo simulation number 340.\n",
      "Running Monte Carlo simulation number 350.\n",
      "Running Monte Carlo simulation number 360.\n",
      "Running Monte Carlo simulation number 370.\n",
      "Running Monte Carlo simulation number 380.\n",
      "Running Monte Carlo simulation number 390.\n",
      "Running Monte Carlo simulation number 400.\n",
      "Running Monte Carlo simulation number 410.\n",
      "Running Monte Carlo simulation number 420.\n",
      "Running Monte Carlo simulation number 430.\n",
      "Running Monte Carlo simulation number 440.\n",
      "Running Monte Carlo simulation number 450.\n",
      "Running Monte Carlo simulation number 460.\n",
      "Running Monte Carlo simulation number 470.\n",
      "Running Monte Carlo simulation number 480.\n",
      "Running Monte Carlo simulation number 490.\n"
     ]
    },
    {
     "data": {
      "text/html": [
       "<div>\n",
       "<style scoped>\n",
       "    .dataframe tbody tr th:only-of-type {\n",
       "        vertical-align: middle;\n",
       "    }\n",
       "\n",
       "    .dataframe tbody tr th {\n",
       "        vertical-align: top;\n",
       "    }\n",
       "\n",
       "    .dataframe thead th {\n",
       "        text-align: right;\n",
       "    }\n",
       "</style>\n",
       "<table border=\"1\" class=\"dataframe\">\n",
       "  <thead>\n",
       "    <tr style=\"text-align: right;\">\n",
       "      <th></th>\n",
       "      <th>0</th>\n",
       "      <th>1</th>\n",
       "      <th>2</th>\n",
       "      <th>3</th>\n",
       "      <th>4</th>\n",
       "      <th>5</th>\n",
       "      <th>6</th>\n",
       "      <th>7</th>\n",
       "      <th>8</th>\n",
       "      <th>9</th>\n",
       "      <th>...</th>\n",
       "      <th>490</th>\n",
       "      <th>491</th>\n",
       "      <th>492</th>\n",
       "      <th>493</th>\n",
       "      <th>494</th>\n",
       "      <th>495</th>\n",
       "      <th>496</th>\n",
       "      <th>497</th>\n",
       "      <th>498</th>\n",
       "      <th>499</th>\n",
       "    </tr>\n",
       "  </thead>\n",
       "  <tbody>\n",
       "    <tr>\n",
       "      <th>0</th>\n",
       "      <td>1.000000</td>\n",
       "      <td>1.000000</td>\n",
       "      <td>1.000000</td>\n",
       "      <td>1.000000</td>\n",
       "      <td>1.000000</td>\n",
       "      <td>1.000000</td>\n",
       "      <td>1.000000</td>\n",
       "      <td>1.000000</td>\n",
       "      <td>1.000000</td>\n",
       "      <td>1.000000</td>\n",
       "      <td>...</td>\n",
       "      <td>1.000000</td>\n",
       "      <td>1.000000</td>\n",
       "      <td>1.000000</td>\n",
       "      <td>1.000000</td>\n",
       "      <td>1.000000</td>\n",
       "      <td>1.000000</td>\n",
       "      <td>1.000000</td>\n",
       "      <td>1.000000</td>\n",
       "      <td>1.000000</td>\n",
       "      <td>1.000000</td>\n",
       "    </tr>\n",
       "    <tr>\n",
       "      <th>1</th>\n",
       "      <td>1.006250</td>\n",
       "      <td>1.000706</td>\n",
       "      <td>0.990694</td>\n",
       "      <td>1.005005</td>\n",
       "      <td>1.014057</td>\n",
       "      <td>0.981569</td>\n",
       "      <td>0.998696</td>\n",
       "      <td>0.997268</td>\n",
       "      <td>1.002034</td>\n",
       "      <td>1.004604</td>\n",
       "      <td>...</td>\n",
       "      <td>1.001738</td>\n",
       "      <td>0.982630</td>\n",
       "      <td>0.989679</td>\n",
       "      <td>0.999141</td>\n",
       "      <td>1.011586</td>\n",
       "      <td>0.991463</td>\n",
       "      <td>0.983578</td>\n",
       "      <td>0.997395</td>\n",
       "      <td>1.001669</td>\n",
       "      <td>0.986918</td>\n",
       "    </tr>\n",
       "    <tr>\n",
       "      <th>2</th>\n",
       "      <td>1.022099</td>\n",
       "      <td>1.008944</td>\n",
       "      <td>0.989066</td>\n",
       "      <td>1.023477</td>\n",
       "      <td>1.036548</td>\n",
       "      <td>0.976579</td>\n",
       "      <td>1.005051</td>\n",
       "      <td>1.002424</td>\n",
       "      <td>1.004684</td>\n",
       "      <td>1.027889</td>\n",
       "      <td>...</td>\n",
       "      <td>0.981195</td>\n",
       "      <td>0.989612</td>\n",
       "      <td>0.980236</td>\n",
       "      <td>0.989520</td>\n",
       "      <td>1.009181</td>\n",
       "      <td>1.001183</td>\n",
       "      <td>0.973744</td>\n",
       "      <td>0.993702</td>\n",
       "      <td>1.024066</td>\n",
       "      <td>0.989526</td>\n",
       "    </tr>\n",
       "    <tr>\n",
       "      <th>3</th>\n",
       "      <td>1.025294</td>\n",
       "      <td>0.991242</td>\n",
       "      <td>0.980139</td>\n",
       "      <td>1.017137</td>\n",
       "      <td>1.019471</td>\n",
       "      <td>0.989993</td>\n",
       "      <td>1.001022</td>\n",
       "      <td>1.022270</td>\n",
       "      <td>1.001232</td>\n",
       "      <td>1.038074</td>\n",
       "      <td>...</td>\n",
       "      <td>0.989360</td>\n",
       "      <td>1.006842</td>\n",
       "      <td>0.979604</td>\n",
       "      <td>0.999681</td>\n",
       "      <td>1.025586</td>\n",
       "      <td>1.001316</td>\n",
       "      <td>0.970625</td>\n",
       "      <td>0.985227</td>\n",
       "      <td>1.029104</td>\n",
       "      <td>0.992752</td>\n",
       "    </tr>\n",
       "    <tr>\n",
       "      <th>4</th>\n",
       "      <td>1.017594</td>\n",
       "      <td>1.002860</td>\n",
       "      <td>0.976917</td>\n",
       "      <td>1.038603</td>\n",
       "      <td>1.036550</td>\n",
       "      <td>0.990934</td>\n",
       "      <td>0.997179</td>\n",
       "      <td>1.017918</td>\n",
       "      <td>0.997168</td>\n",
       "      <td>1.042752</td>\n",
       "      <td>...</td>\n",
       "      <td>0.982826</td>\n",
       "      <td>1.009849</td>\n",
       "      <td>0.997113</td>\n",
       "      <td>1.004673</td>\n",
       "      <td>1.039519</td>\n",
       "      <td>0.984203</td>\n",
       "      <td>0.980629</td>\n",
       "      <td>0.978366</td>\n",
       "      <td>1.043368</td>\n",
       "      <td>0.982961</td>\n",
       "    </tr>\n",
       "    <tr>\n",
       "      <th>...</th>\n",
       "      <td>...</td>\n",
       "      <td>...</td>\n",
       "      <td>...</td>\n",
       "      <td>...</td>\n",
       "      <td>...</td>\n",
       "      <td>...</td>\n",
       "      <td>...</td>\n",
       "      <td>...</td>\n",
       "      <td>...</td>\n",
       "      <td>...</td>\n",
       "      <td>...</td>\n",
       "      <td>...</td>\n",
       "      <td>...</td>\n",
       "      <td>...</td>\n",
       "      <td>...</td>\n",
       "      <td>...</td>\n",
       "      <td>...</td>\n",
       "      <td>...</td>\n",
       "      <td>...</td>\n",
       "      <td>...</td>\n",
       "      <td>...</td>\n",
       "    </tr>\n",
       "    <tr>\n",
       "      <th>2516</th>\n",
       "      <td>3.423096</td>\n",
       "      <td>11.124346</td>\n",
       "      <td>1.956934</td>\n",
       "      <td>4.765471</td>\n",
       "      <td>2.463237</td>\n",
       "      <td>4.022619</td>\n",
       "      <td>3.328507</td>\n",
       "      <td>2.107670</td>\n",
       "      <td>5.636429</td>\n",
       "      <td>0.928333</td>\n",
       "      <td>...</td>\n",
       "      <td>5.277443</td>\n",
       "      <td>1.386194</td>\n",
       "      <td>8.414206</td>\n",
       "      <td>2.580901</td>\n",
       "      <td>2.516019</td>\n",
       "      <td>1.989917</td>\n",
       "      <td>2.945264</td>\n",
       "      <td>3.155905</td>\n",
       "      <td>5.507192</td>\n",
       "      <td>4.427405</td>\n",
       "    </tr>\n",
       "    <tr>\n",
       "      <th>2517</th>\n",
       "      <td>3.438484</td>\n",
       "      <td>11.347913</td>\n",
       "      <td>2.004694</td>\n",
       "      <td>4.756433</td>\n",
       "      <td>2.452734</td>\n",
       "      <td>4.029832</td>\n",
       "      <td>3.351697</td>\n",
       "      <td>2.166018</td>\n",
       "      <td>5.544043</td>\n",
       "      <td>0.923636</td>\n",
       "      <td>...</td>\n",
       "      <td>5.293993</td>\n",
       "      <td>1.384778</td>\n",
       "      <td>8.315003</td>\n",
       "      <td>2.574667</td>\n",
       "      <td>2.530568</td>\n",
       "      <td>2.002614</td>\n",
       "      <td>2.889533</td>\n",
       "      <td>3.168537</td>\n",
       "      <td>5.512055</td>\n",
       "      <td>4.329270</td>\n",
       "    </tr>\n",
       "    <tr>\n",
       "      <th>2518</th>\n",
       "      <td>3.483417</td>\n",
       "      <td>11.467012</td>\n",
       "      <td>2.006134</td>\n",
       "      <td>4.801463</td>\n",
       "      <td>2.414974</td>\n",
       "      <td>4.102383</td>\n",
       "      <td>3.379965</td>\n",
       "      <td>2.161026</td>\n",
       "      <td>5.450837</td>\n",
       "      <td>0.916611</td>\n",
       "      <td>...</td>\n",
       "      <td>5.282437</td>\n",
       "      <td>1.388309</td>\n",
       "      <td>8.235974</td>\n",
       "      <td>2.593079</td>\n",
       "      <td>2.493560</td>\n",
       "      <td>1.989748</td>\n",
       "      <td>2.874053</td>\n",
       "      <td>3.168107</td>\n",
       "      <td>5.584734</td>\n",
       "      <td>4.318886</td>\n",
       "    </tr>\n",
       "    <tr>\n",
       "      <th>2519</th>\n",
       "      <td>3.504934</td>\n",
       "      <td>11.305914</td>\n",
       "      <td>1.954171</td>\n",
       "      <td>4.847605</td>\n",
       "      <td>2.395981</td>\n",
       "      <td>4.050828</td>\n",
       "      <td>3.413476</td>\n",
       "      <td>2.163936</td>\n",
       "      <td>5.525397</td>\n",
       "      <td>0.927272</td>\n",
       "      <td>...</td>\n",
       "      <td>5.238456</td>\n",
       "      <td>1.382232</td>\n",
       "      <td>8.187993</td>\n",
       "      <td>2.590382</td>\n",
       "      <td>2.474834</td>\n",
       "      <td>1.996996</td>\n",
       "      <td>2.889057</td>\n",
       "      <td>3.172355</td>\n",
       "      <td>5.590527</td>\n",
       "      <td>4.320344</td>\n",
       "    </tr>\n",
       "    <tr>\n",
       "      <th>2520</th>\n",
       "      <td>3.458680</td>\n",
       "      <td>11.335650</td>\n",
       "      <td>1.950743</td>\n",
       "      <td>4.860822</td>\n",
       "      <td>2.380450</td>\n",
       "      <td>3.992604</td>\n",
       "      <td>3.443169</td>\n",
       "      <td>2.176135</td>\n",
       "      <td>5.671027</td>\n",
       "      <td>0.940754</td>\n",
       "      <td>...</td>\n",
       "      <td>5.241162</td>\n",
       "      <td>1.381922</td>\n",
       "      <td>8.280328</td>\n",
       "      <td>2.605423</td>\n",
       "      <td>2.457736</td>\n",
       "      <td>1.957196</td>\n",
       "      <td>2.843609</td>\n",
       "      <td>3.153355</td>\n",
       "      <td>5.601044</td>\n",
       "      <td>4.344155</td>\n",
       "    </tr>\n",
       "  </tbody>\n",
       "</table>\n",
       "<p>2521 rows × 500 columns</p>\n",
       "</div>"
      ],
      "text/plain": [
       "           0          1         2         3         4         5         6    \\\n",
       "0     1.000000   1.000000  1.000000  1.000000  1.000000  1.000000  1.000000   \n",
       "1     1.006250   1.000706  0.990694  1.005005  1.014057  0.981569  0.998696   \n",
       "2     1.022099   1.008944  0.989066  1.023477  1.036548  0.976579  1.005051   \n",
       "3     1.025294   0.991242  0.980139  1.017137  1.019471  0.989993  1.001022   \n",
       "4     1.017594   1.002860  0.976917  1.038603  1.036550  0.990934  0.997179   \n",
       "...        ...        ...       ...       ...       ...       ...       ...   \n",
       "2516  3.423096  11.124346  1.956934  4.765471  2.463237  4.022619  3.328507   \n",
       "2517  3.438484  11.347913  2.004694  4.756433  2.452734  4.029832  3.351697   \n",
       "2518  3.483417  11.467012  2.006134  4.801463  2.414974  4.102383  3.379965   \n",
       "2519  3.504934  11.305914  1.954171  4.847605  2.395981  4.050828  3.413476   \n",
       "2520  3.458680  11.335650  1.950743  4.860822  2.380450  3.992604  3.443169   \n",
       "\n",
       "           7         8         9    ...       490       491       492  \\\n",
       "0     1.000000  1.000000  1.000000  ...  1.000000  1.000000  1.000000   \n",
       "1     0.997268  1.002034  1.004604  ...  1.001738  0.982630  0.989679   \n",
       "2     1.002424  1.004684  1.027889  ...  0.981195  0.989612  0.980236   \n",
       "3     1.022270  1.001232  1.038074  ...  0.989360  1.006842  0.979604   \n",
       "4     1.017918  0.997168  1.042752  ...  0.982826  1.009849  0.997113   \n",
       "...        ...       ...       ...  ...       ...       ...       ...   \n",
       "2516  2.107670  5.636429  0.928333  ...  5.277443  1.386194  8.414206   \n",
       "2517  2.166018  5.544043  0.923636  ...  5.293993  1.384778  8.315003   \n",
       "2518  2.161026  5.450837  0.916611  ...  5.282437  1.388309  8.235974   \n",
       "2519  2.163936  5.525397  0.927272  ...  5.238456  1.382232  8.187993   \n",
       "2520  2.176135  5.671027  0.940754  ...  5.241162  1.381922  8.280328   \n",
       "\n",
       "           493       494       495       496       497       498       499  \n",
       "0     1.000000  1.000000  1.000000  1.000000  1.000000  1.000000  1.000000  \n",
       "1     0.999141  1.011586  0.991463  0.983578  0.997395  1.001669  0.986918  \n",
       "2     0.989520  1.009181  1.001183  0.973744  0.993702  1.024066  0.989526  \n",
       "3     0.999681  1.025586  1.001316  0.970625  0.985227  1.029104  0.992752  \n",
       "4     1.004673  1.039519  0.984203  0.980629  0.978366  1.043368  0.982961  \n",
       "...        ...       ...       ...       ...       ...       ...       ...  \n",
       "2516  2.580901  2.516019  1.989917  2.945264  3.155905  5.507192  4.427405  \n",
       "2517  2.574667  2.530568  2.002614  2.889533  3.168537  5.512055  4.329270  \n",
       "2518  2.593079  2.493560  1.989748  2.874053  3.168107  5.584734  4.318886  \n",
       "2519  2.590382  2.474834  1.996996  2.889057  3.172355  5.590527  4.320344  \n",
       "2520  2.605423  2.457736  1.957196  2.843609  3.153355  5.601044  4.344155  \n",
       "\n",
       "[2521 rows x 500 columns]"
      ]
     },
     "execution_count": 40,
     "metadata": {},
     "output_type": "execute_result"
    }
   ],
   "source": [
    "# Run the Monte Carlo simulation to forecast 10 years cumulative returns\n",
    "# YOUR CODE HERE\n",
    "\n",
    "MC_8020.calc_cumulative_return()"
   ]
  },
  {
   "cell_type": "code",
   "execution_count": 41,
   "metadata": {},
   "outputs": [
    {
     "data": {
      "text/plain": [
       "<AxesSubplot:title={'center':'500 Simulations of Cumulative Portfolio Return Trajectories Over the Next 2520 Trading Days.'}>"
      ]
     },
     "execution_count": 41,
     "metadata": {},
     "output_type": "execute_result"
    },
    {
     "data": {
      "image/png": "[encoded data removed]",
      "text/plain": [
       "<Figure size 640x480 with 1 Axes>"
      ]
     },
     "metadata": {},
     "output_type": "display_data"
    }
   ],
   "source": [
    "# Visualize the 10-year Monte Carlo simulation by creating an\n",
    "# overlay line plot\n",
    "# YOUR CODE HERE\n",
    "\n",
    "MC_8020.plot_simulation()\n"
   ]
  },
  {
   "cell_type": "code",
   "execution_count": 42,
   "metadata": {},
   "outputs": [
    {
     "data": {
      "text/plain": [
       "<AxesSubplot:title={'center':'Distribution of Final Cumuluative Returns Across All 500 Simulations'}, ylabel='Frequency'>"
      ]
     },
     "execution_count": 42,
     "metadata": {},
     "output_type": "execute_result"
    },
    {
     "data": {
      "image/png": "[encoded data removed]",
      "text/plain": [
       "<Figure size 640x480 with 1 Axes>"
      ]
     },
     "metadata": {},
     "output_type": "display_data"
    }
   ],
   "source": [
    "# Visualize the probability distribution of the 10-year Monte Carlo simulation \n",
    "# by plotting a histogram\n",
    "# YOUR CODE HERE\n",
    "\n",
    "MC_8020.plot_distribution()"
   ]
  },
  {
   "cell_type": "code",
   "execution_count": 43,
   "metadata": {},
   "outputs": [
    {
     "name": "stdout",
     "output_type": "stream",
     "text": [
      "count           500.000000\n",
      "mean              3.436905\n",
      "std               1.825997\n",
      "min               0.904817\n",
      "25%               2.124405\n",
      "50%               3.092225\n",
      "75%               4.204082\n",
      "max              13.276445\n",
      "95% CI Lower      1.188823\n",
      "95% CI Upper      7.934947\n",
      "Name: 2520, dtype: float64\n"
     ]
    }
   ],
   "source": [
    "# Generate summary statistics from the 10-year Monte Carlo simulation results\n",
    "# Save the results as a variable\n",
    "# YOUR CODE HERE\n",
    "\n",
    "cum_return_table_10 = MC_8020.summarize_cumulative_return()\n",
    "\n",
    "# Review the 10-year Monte Carlo summary statistics\n",
    "# YOUR CODE HERE\n",
    "print(cum_return_table_10)"
   ]
  },
  {
   "cell_type": "markdown",
   "metadata": {},
   "source": [
    "### Answer the following questions:"
   ]
  },
  {
   "cell_type": "markdown",
   "metadata": {},
   "source": [
    "#### Question: Using the current value of only the stock and bond portion of the member's portfolio and the summary statistics that you generated from the new Monte Carlo simulation, what are the lower and upper bounds for the expected value of the portfolio (with the new weights) with a 95% confidence interval?"
   ]
  },
  {
   "cell_type": "code",
   "execution_count": 44,
   "metadata": {},
   "outputs": [
    {
     "name": "stdout",
     "output_type": "stream",
     "text": [
      "BTC Value: $33,578.40\n",
      "ETH Value: $9,911.48\n",
      "---------------------\n",
      "Total Crypto Value: $43,489.88\n",
      "\n",
      "\n",
      "AGG Value: $20,088.00\n",
      "SPY Value: $45,010.90\n",
      "---------------------\n",
      "Total Stock/Bond Value: $65,098.90\n",
      "\n",
      "Total Portfolio Value: $108,588.78\n",
      "\n",
      "95% Conf Interval in 10 year projection (excludes crypto)\n",
      "-------------------------------------\n",
      "Upper Bound: $516,556.32 IRR: 23.01% Multiple: 7.9x\n",
      "Lower Bound: $77,391.06 IRR: 1.74% Multiple: 1.2x\n"
     ]
    }
   ],
   "source": [
    "# Print the current balance of the stock and bond portion of the members portfolio\n",
    "# YOUR CODE HERE\n",
    "\n",
    "ci_lower_thirty_cumulative_return_10 = cum_return_table_10[\"95% CI Lower\"] * total_stocks_bonds\n",
    "ci_upper_thirty_cumulative_return_10 = cum_return_table_10[\"95% CI Upper\"] * total_stocks_bonds\n",
    "\n",
    "multiple_lower = cum_return_table_10[\"95% CI Lower\"]\n",
    "multiple_upper = cum_return_table_10[\"95% CI Upper\"]\n",
    "irr_lower_10 = multiple_lower ** (1/10) - 1\n",
    "irr_upper_10 = multiple_upper ** (1/10) - 1\n",
    "\n",
    "\n",
    "print( f\"BTC Value: ${btc_value:,.2f}\\nETH Value: ${eth_value:,.2f}\\n---------------------\")\n",
    "print( f\"Total Crypto Value: ${total_crypto_wallet:,.2f}\\n\\n\")\n",
    "\n",
    "print( f\"AGG Value: ${agg_value:,.2f}\\nSPY Value: ${spy_value:,.2f}\\n---------------------\")\n",
    "print( f\"Total Stock/Bond Value: ${total_stocks_bonds:,.2f}\\n\")\n",
    "\n",
    "print( f\"Total Portfolio Value: ${total_portfolio:,.2f}\\n\")\n",
    "print( f\"95% Conf Interval in 10 year projection (excludes crypto)\\n-------------------------------------\")\n",
    "print( f\"Upper Bound: ${ci_upper_thirty_cumulative_return_10:,.2f} IRR: {irr_upper_10:.2%} Multiple: {multiple_upper:.1f}x\")\n",
    "print( f\"Lower Bound: ${ci_lower_thirty_cumulative_return_10:,.2f} IRR: {irr_lower_10:.2%} Multiple: {multiple_lower:.1f}x\")\n",
    "\n",
    "\n"
   ]
  },
  {
   "cell_type": "code",
   "execution_count": 46,
   "metadata": {},
   "outputs": [],
   "source": [
    "# Use the lower and upper `95%` confidence intervals to calculate the range of the possible outcomes for the current stock/bond portfolio\n",
    "#ci_lower_ten_cumulative_return = # YOUR CODE HERE\n",
    "#ci_upper_ten_cumulative_return = # YOUR CODE HERE\n",
    "\n",
    "# Print the result of your calculations\n",
    "# YOUR CODE HERE\n"
   ]
  },
  {
   "cell_type": "markdown",
   "metadata": {},
   "source": [
    "#### Question: Will weighting the portfolio more heavily to stocks allow the credit union members to retire after only 10 years?"
   ]
  },
  {
   "cell_type": "raw",
   "metadata": {},
   "source": [
    "No, the member could have a scenario where they have only made 1.3x their current stock/bond portfolio. \n",
    "That would leave them with less than a year of savings.  Even if things go very well, they would have\n",
    "only generated 3-4 years their current income ( 12k month x 12 month = 144k ). \n",
    "That would not leave them with very much runway at their current income level.  \n"
   ]
  },
  {
   "cell_type": "code",
   "execution_count": null,
   "metadata": {},
   "outputs": [],
   "source": []
  }
 ],
 "metadata": {
  "kernelspec": {
   "display_name": "Python 3.7 deV",
   "language": "python",
   "name": "dev"
  },
  "language_info": {
   "codemirror_mode": {
    "name": "ipython",
    "version": 3
   },
   "file_extension": ".py",
   "mimetype": "text/x-python",
   "name": "python",
   "nbconvert_exporter": "python",
   "pygments_lexer": "ipython3",
   "version": "3.7.13"
  }
 },
 "nbformat": 4,
 "nbformat_minor": 4
}
